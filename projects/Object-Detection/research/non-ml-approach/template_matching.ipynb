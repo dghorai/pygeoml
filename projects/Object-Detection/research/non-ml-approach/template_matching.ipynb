{
 "cells": [
  {
   "cell_type": "markdown",
   "metadata": {},
   "source": [
    "non-ml-approach: \n",
    "\n",
    "1) https://docs.opencv.org/3.0-beta/doc/py_tutorials/py_imgproc/py_template_matching/py_template_matching.html\n",
    "\n",
    "2) https://medium.com/@iTrendTV/object-detection-without-machine-learning-aed3c5b668f3#:~:text=When%20objects%20are%20of%20similar,image%20in%20a%20larger%20image.\n"
   ]
  },
  {
   "cell_type": "code",
   "execution_count": null,
   "metadata": {},
   "outputs": [],
   "source": [
    "import cv2 \n",
    "import numpy as np \n",
    "from matplotlib import pyplot as plt \n",
    "img_rgb = cv2.imread('table.jpg') \n",
    "img_gray = cv2.cvtColor(img_rgb, cv2.COLOR_BGR2GRAY) \n",
    "template = cv2.imread('donut-template.jpg',0) \n",
    "w, h = template.shape[::-1] \n",
    "res = cv2.matchTemplate(img_gray,template,cv2.TM_CCOEFF_NORMED) \n",
    "threshold = 0.7 \n",
    "loc = np.where( res >= threshold)\n",
    " \n",
    "for pt in zip(*loc[::-1]): \n",
    "    cv2.rectangle(img_rgb, pt, (pt[0] + w, pt[1] + h), (0,0,255), 3) \n",
    "cv2.imwrite('donuts-found.jpg',img_rgb)"
   ]
  }
 ],
 "metadata": {
  "language_info": {
   "name": "python"
  }
 },
 "nbformat": 4,
 "nbformat_minor": 2
}
