{
 "cells": [
  {
   "cell_type": "markdown",
   "metadata": {},
   "source": [
    "Q1. If you have any, what are your choices for increasing the comparison between different figures on the same graph?"
   ]
  },
  {
   "cell_type": "markdown",
   "metadata": {},
   "source": [
    "Answer:\n",
    "\n",
    "Matplotlib offers a convenient approach known as subplots to increase the comparison of different data points on the same chart. A subplot is a collection of smaller data points (where each axis is a plot) that can coexist within a single data point."
   ]
  },
  {
   "cell_type": "code",
   "execution_count": 1,
   "metadata": {},
   "outputs": [
    {
     "data": {
      "image/png": "[encoded data removed]",
      "text/plain": [
       "<Figure size 640x480 with 2 Axes>"
      ]
     },
     "metadata": {},
     "output_type": "display_data"
    }
   ],
   "source": [
    "import numpy as np\n",
    "import matplotlib.pyplot as plt\n",
    "\n",
    "# plot 1:\n",
    "x1 = np.random.random(5)\n",
    "x1.sort()\n",
    "y1 = np.random.random(5)\n",
    "y1.sort()\n",
    "\n",
    "plt.subplot(1, 2, 1)\n",
    "plt.plot(x1, y1)\n",
    "\n",
    "# plot 2:\n",
    "x2 = np.random.random(5)\n",
    "x2.sort()\n",
    "y2 = np.random.random(5)\n",
    "y2.sort()\n",
    "\n",
    "plt.subplot(1, 2, 2)\n",
    "plt.plot(x2, y2)\n",
    "\n",
    "plt.show()"
   ]
  },
  {
   "cell_type": "markdown",
   "metadata": {},
   "source": [
    "Q2. Can you explain the benefit of compound interest over a higher rate of interest that does not compound after reading this chapter?\n"
   ]
  },
  {
   "cell_type": "markdown",
   "metadata": {},
   "source": [
    "Answer:\n",
    "\n",
    "Compound interest increases the rate of return on investments, as interest is calculated based on the amount of interest accrued over time, as well as the amount of original principal invested. The accumulation of interest on the original investments and the income generated from those investments results in a snowball effect."
   ]
  },
  {
   "cell_type": "markdown",
   "metadata": {},
   "source": [
    "Q3. What is a histogram, exactly? Name a numpy method for creating such a graph."
   ]
  },
  {
   "cell_type": "markdown",
   "metadata": {},
   "source": [
    "Answer:\n",
    "\n",
    "A histogram is a visual representation of numerical values by dividing data into \"bins\" of equal-width. Each bin is represented as a bar, the height of which is proportional to the number of data points in that bin.\n",
    "\n",
    "Numpy has a built-in method 'numpy.histogram()' for creating such graph."
   ]
  },
  {
   "cell_type": "markdown",
   "metadata": {},
   "source": [
    "Q4. If necessary, how do you change the aspect ratios between the X and Y axes?"
   ]
  },
  {
   "cell_type": "markdown",
   "metadata": {},
   "source": [
    "Answer:\n",
    "\n",
    "It is possible to reduce or increase the size of the graph with the help of the figure() function in matplotlib.pyplot library. The figure() function can be used to scale the graph with figure size.\n",
    "\n",
    "Example:\n",
    "figure(figsize=(10,8))"
   ]
  },
  {
   "cell_type": "markdown",
   "metadata": {},
   "source": [
    "Q5. Compare and contrast the three types of array multiplication between two numpy arrays: dot product, outer product, and regular multiplication of two numpy arrays."
   ]
  },
  {
   "cell_type": "markdown",
   "metadata": {},
   "source": [
    "Answer:\n",
    "\n",
    "- In regular multiplication of two numpy arrays, the values of the same index are multiplied.\n",
    "\n",
    "- In dot product, multiplication is done in the form of rows, columns, and so on. For example, we can multiply one array with a column of another array.\n",
    "\n",
    "- In outer multiplication, each element of the first array is multiplied by each element of the second array, so that the total number of columns equals the number of elements in another array (second array).\n",
    "\n",
    "Examples:"
   ]
  },
  {
   "cell_type": "code",
   "execution_count": 2,
   "metadata": {},
   "outputs": [
    {
     "name": "stdout",
     "output_type": "stream",
     "text": [
      "[[ 10  40  90]\n",
      " [160 250 360]\n",
      " [490 640 810]]\n",
      "\n",
      "\n",
      "[[ 300  360  420]\n",
      " [ 660  810  960]\n",
      " [1020 1260 1500]]\n",
      "\n",
      "\n",
      "[[ 10  20  30  40  50  60  70  80  90]\n",
      " [ 20  40  60  80 100 120 140 160 180]\n",
      " [ 30  60  90 120 150 180 210 240 270]\n",
      " [ 40  80 120 160 200 240 280 320 360]\n",
      " [ 50 100 150 200 250 300 350 400 450]\n",
      " [ 60 120 180 240 300 360 420 480 540]\n",
      " [ 70 140 210 280 350 420 490 560 630]\n",
      " [ 80 160 240 320 400 480 560 640 720]\n",
      " [ 90 180 270 360 450 540 630 720 810]]\n"
     ]
    }
   ],
   "source": [
    "import numpy as np\n",
    "\n",
    "arr_1 = np.array([[1,2,3],[4,5,6],[7,8,9]])\n",
    "arr_2 = np.array([[10,20,30],[40,50,60],[70,80,90]])\n",
    "\n",
    "# regular multiplication\n",
    "rm = arr_1*arr_2\n",
    "print(rm)\n",
    "print(\"\\n\")\n",
    "\n",
    "# dot product\n",
    "dp = np.dot(arr_1, arr_2)\n",
    "print(dp)\n",
    "print(\"\\n\")\n",
    "\n",
    "#outer multiplication\n",
    "om = np.outer(arr_1, arr_2)\n",
    "print(om)"
   ]
  },
  {
   "cell_type": "markdown",
   "metadata": {},
   "source": [
    "Q6. Before you buy a home, which numpy function will you use to measure your monthly mortgage payment?"
   ]
  },
  {
   "cell_type": "markdown",
   "metadata": {},
   "source": [
    "Answer:\n",
    "\n",
    "The np.pmt() function, which we will be using to calculate the monthly mortgage payment before buying a house, has the following parameters: \n",
    "\n",
    "- rate: The periodic interest rate\n",
    "- nper: The number of payment periods\n",
    "- pv: The total value of the mortgage loan"
   ]
  },
  {
   "cell_type": "markdown",
   "metadata": {},
   "source": [
    "Q7. Can string data be stored in numpy arrays? If so, list at least one restriction that applies to this data."
   ]
  },
  {
   "cell_type": "markdown",
   "metadata": {},
   "source": [
    "Answer:\n",
    "\n",
    "Yes, the string can be stored in an array. The restriction on string data is that whenever we store data of string data type (dtype), we should remember that the string that has the maximum length becomes the limit. The example below shows that when we add string with more length than that of the limit set as before will automatically truncate the new string after the limit length."
   ]
  },
  {
   "cell_type": "code",
   "execution_count": 3,
   "metadata": {},
   "outputs": [
    {
     "name": "stdout",
     "output_type": "stream",
     "text": [
      "Original array :  ['abc' 'defg' 'ghij' 'kl' 'mnopq' '']\n",
      "Array after replace missing value :  ['abc' 'defg' 'ghij' 'kl' 'mnopq' 'hello']\n"
     ]
    }
   ],
   "source": [
    "import numpy as np\n",
    "  \n",
    "# numpy array with string elements\n",
    "arr_str = np.array(['abc', 'defg', 'ghij', 'kl', 'mnopq', ''])\n",
    "print('Original array : ', arr_str)\n",
    "\n",
    "# assign hello world at the place of missing value\n",
    "arr_str[arr_str == ''] = 'hello, world'\n",
    "  \n",
    "print('Array after replace missing value : ', arr_str)"
   ]
  },
  {
   "cell_type": "markdown",
   "metadata": {},
   "source": [
    "As we can see in the output, ‘hello’ has been assigned rather than ‘hello, world’ because of the limitation to the length."
   ]
  }
 ],
 "metadata": {
  "kernelspec": {
   "display_name": "Python 3",
   "language": "python",
   "name": "python3"
  },
  "language_info": {
   "codemirror_mode": {
    "name": "ipython",
    "version": 3
   },
   "file_extension": ".py",
   "mimetype": "text/x-python",
   "name": "python",
   "nbconvert_exporter": "python",
   "pygments_lexer": "ipython3",
   "version": "3.10.10"
  },
  "orig_nbformat": 4
 },
 "nbformat": 4,
 "nbformat_minor": 2
}
