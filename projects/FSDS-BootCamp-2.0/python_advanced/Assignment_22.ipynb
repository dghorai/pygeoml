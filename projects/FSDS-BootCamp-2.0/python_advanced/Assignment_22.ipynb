{
 "cells": [
  {
   "cell_type": "markdown",
   "metadata": {},
   "source": [
    "Q1. What are the benefits of the built-in array package, if any?"
   ]
  },
  {
   "cell_type": "markdown",
   "metadata": {},
   "source": [
    "Answer:\n",
    "\n",
    "Arrays are a type of data structure in which multiple elements of the same type are represented by a single name. The elements are accessed randomly using the index number, and the arrays allocate memory in contiguous locations for all elements. This eliminates the possibility of additional memory being allocated in the case of arrays, thus avoiding memory overflow or shortage in arrays. As a result, lists and numPy Arrays are often preferred. This is one of the reasons why few people are aware that Python has an implicit Array type. However, when something is limited, it must provide advantages. This is known as a \"trade-off\". In this example, the size of the Python Array is smaller than that of the Python List.\n"
   ]
  },
  {
   "cell_type": "code",
   "execution_count": 2,
   "metadata": {},
   "outputs": [
    {
     "name": "stdout",
     "output_type": "stream",
     "text": [
      "800040\n",
      "400064\n"
     ]
    }
   ],
   "source": [
    "from array import array\n",
    "\n",
    "list_ex = list(range(0, 100000))\n",
    "arr_ex = array('I', list_ex)\n",
    "\n",
    "print(list_ex.__sizeof__())\n",
    "print(arr_ex.__sizeof__())\n"
   ]
  },
  {
   "cell_type": "markdown",
   "metadata": {},
   "source": [
    "Q2. What are some of the array package's limitations?"
   ]
  },
  {
   "cell_type": "markdown",
   "metadata": {},
   "source": [
    "Answer:\n",
    "\n",
    "- It is necessary to know in advance the number of elements to store in an array. \n",
    "- An array is an immutable structure (i.e., the size cannot be changed once declared). \n",
    "- The memory that is allocated to the array cannot be incremented or decreased. \n",
    "- The insertion and deletion of elements in an array is problematic as they are stored in successive memory locations and the operation of shifting is expensive. \n",
    "- If the memory is allocated more than the requirement, it will result in a waste of memory space, and if the memory is allocated less than the requirement, a problem will arise.\n"
   ]
  },
  {
   "cell_type": "markdown",
   "metadata": {},
   "source": [
    "Q3. Describe the main differences between the array and numpy packages."
   ]
  },
  {
   "cell_type": "markdown",
   "metadata": {},
   "source": [
    "Answer:\n",
    "\n",
    "- The array package does not help with numerical calculation by insiding it in number form, whereas NumPy provides with a wide range of numerical operations. \n",
    "- An array is a single-dimensional entity that stores the numerical data, whereas numpy can handle more than one dimension. \n",
    "- In the case of an array, an item can be accessed through its index position, which is easy to do, whereas in numpy, an item is accessed via its column and row index, which is slightly time consuming. The same is true for appending operation. \n",
    "- In an array, we do not create a tabular structure while in numpy, it creates a tabular structure.\n"
   ]
  },
  {
   "cell_type": "markdown",
   "metadata": {},
   "source": [
    "Q4. Explain the distinctions between the empty, ones, and zeros functions."
   ]
  },
  {
   "cell_type": "markdown",
   "metadata": {},
   "source": [
    "Answer:\n",
    "\n",
    "- Empty -> A function definition that does not include any statement in its body is referred to as an empty function. Writing a function definition in python without any statement will result in an error. In order to avoid this, a pass statement is used. A pass statement in Python is a dummy statement that does not do anything.\n",
    "\n",
    "- Ones -> This function returns the value of the element in a new array of the shape and data type. The value of the element is 1.\n",
    "\n",
    "- Zeros -> The function returns a new set of the shape and the data type, the value of which is 0.\n"
   ]
  },
  {
   "cell_type": "markdown",
   "metadata": {},
   "source": [
    "Q5. In the fromfunction function, which is used to construct new arrays, what is the role of the callable argument?"
   ]
  },
  {
   "cell_type": "markdown",
   "metadata": {},
   "source": [
    "Answer:\n",
    "\n",
    "The primary purpose of this function is to perform the function on each coordinate and on the resultant array. This function is invoked with the parameter N, where N represents the rank of the shape. The parameter represents the coordinates of the array varying along a particular axis.\n"
   ]
  },
  {
   "cell_type": "markdown",
   "metadata": {},
   "source": [
    "Q6. What happens when a numpy array is combined with a single-value operand (a scalar, such as an int or a floating-point value) through addition, as in the expression A + n?"
   ]
  },
  {
   "cell_type": "markdown",
   "metadata": {},
   "source": [
    "Answer:\n",
    "\n",
    "If we add a scalar value like integer to a numpy array, all the elements in the array will also add that value.\n",
    "\n",
    "Example: "
   ]
  },
  {
   "cell_type": "code",
   "execution_count": 3,
   "metadata": {},
   "outputs": [
    {
     "name": "stdout",
     "output_type": "stream",
     "text": [
      "[[2 2 3 4]\n",
      " [1 2 1 3]\n",
      " [3 3 3 4]\n",
      " [2 1 2 3]]\n",
      "[[12 12 13 14]\n",
      " [11 12 11 13]\n",
      " [13 13 13 14]\n",
      " [12 11 12 13]]\n"
     ]
    }
   ],
   "source": [
    "import numpy as np\n",
    "\n",
    "arr = np.random.randint(1, 5, size=(4, 4))\n",
    "\n",
    "print(arr)\n",
    "\n",
    "n = 10\n",
    "\n",
    "new_arr = arr + n\n",
    "\n",
    "print(new_arr)"
   ]
  },
  {
   "cell_type": "markdown",
   "metadata": {},
   "source": [
    "Q7. Can array-to-scalar operations use combined operation-assign operators (such as += or *=)? What is the outcome?"
   ]
  },
  {
   "cell_type": "markdown",
   "metadata": {},
   "source": [
    "Answer:\n",
    "\n",
    "It performs the operation according to operators. It performs the specified operation on all the elements of the array. For example, if + operand is used, the current array will be updated by addition, and if '*' is used, it will be updated by multiplication.\n"
   ]
  },
  {
   "cell_type": "markdown",
   "metadata": {},
   "source": [
    "Q8. Does a numpy array contain fixed-length strings? What happens if you allocate a longer string to one of these arrays?"
   ]
  },
  {
   "cell_type": "markdown",
   "metadata": {},
   "source": [
    "Answer:\n",
    "\n",
    "It is possible to include a fixed length string in numpy arrays. The length of the dtype of a numpy array that contains string values is the length of any string in the array. Once set, it will be able to store only new strings with a length that is not greater than the length of the string at the time of its creation. If we attempt to reassign another string value with a length greater than the existing elements' length, it will simply discard all the values that exceed the maximum length accepted up to those values that are below the limit.\n"
   ]
  },
  {
   "cell_type": "markdown",
   "metadata": {},
   "source": [
    "Q9. What happens when you combine two numpy arrays using an operation like addition (+) or multiplication (*)? What are the conditions for combining two numpy arrays?"
   ]
  },
  {
   "cell_type": "markdown",
   "metadata": {},
   "source": [
    "Answer:\n",
    "\n",
    "It simply multiplies or adds an element to an element at the same position. The only conditions that need to be satisfied are: (a) the data type must be the same; and (b) the shape of both matrices must match.\n"
   ]
  },
  {
   "cell_type": "markdown",
   "metadata": {},
   "source": [
    "Q10. What is the best way to use a Boolean array to mask another array?"
   ]
  },
  {
   "cell_type": "markdown",
   "metadata": {},
   "source": [
    "Answer:\n",
    "\n",
    "The best method of masking another array by using a Boolean array is through the use of the numpy package's masked_where function.\n",
    "\n",
    "Example:"
   ]
  },
  {
   "cell_type": "code",
   "execution_count": 4,
   "metadata": {},
   "outputs": [
    {
     "name": "stdout",
     "output_type": "stream",
     "text": [
      "[True True False -- --]\n",
      "[True, True, False, masked, masked]\n"
     ]
    }
   ],
   "source": [
    "import numpy as np\n",
    "\n",
    "b_arr = np.array([True, True, False, True, False])\n",
    "a_arr = np.array([10, 20, 30, 40, 50])\n",
    "\n",
    "m_arr = np.ma.masked_where(a_arr > 30, b_arr)\n",
    "\n",
    "print(m_arr)\n",
    "\n",
    "print(list(m_arr))"
   ]
  },
  {
   "cell_type": "markdown",
   "metadata": {},
   "source": [
    "Q11. What are three different ways to get the standard deviation of a wide collection of data using both standard Python and its packages? Sort the three of them by how quickly they execute."
   ]
  },
  {
   "cell_type": "markdown",
   "metadata": {},
   "source": [
    "Answer:\n",
    "\n",
    "Following are the different ways to get the standard deviation of a wide collection of data using both standard Python and its packages:\n",
    "\n",
    "- std() method from numpy package\n",
    "- stdev() method from statistics package\n",
    "- custom method can be developed to calculate standard deviation using standard Python\n",
    "\n",
    "Example:"
   ]
  },
  {
   "cell_type": "code",
   "execution_count": 5,
   "metadata": {},
   "outputs": [
    {
     "name": "stdout",
     "output_type": "stream",
     "text": [
      "numpy-std:  2.8722813232690143\n",
      "statistics-stdev 3.0\n",
      "custom-std 2.8722813232690143\n"
     ]
    }
   ],
   "source": [
    "import numpy as np\n",
    "import statistics as st\n",
    "\n",
    "def calc_average(arr):\n",
    "    n = len(arr)\n",
    "    avg = sum(arr)/n\n",
    "    return avg\n",
    "\n",
    "def calc_variance(arr):\n",
    "    n = len(arr)\n",
    "    avg = calc_average(arr)\n",
    "    deviation = [(i - avg)**2 for i in arr]\n",
    "    variance = sum(deviation)/n\n",
    "    return variance\n",
    "\n",
    "def calc_std(arr):\n",
    "    variance = calc_variance(arr)\n",
    "    std = variance**(1/2)\n",
    "    return std\n",
    "\n",
    "arr = np.array([1, 2, 3, 4, 5, 6, 7, 8, 9, 10])\n",
    "\n",
    "print('numpy-std: ', np.std(arr))\n",
    "print('statistics-stdev', st.stdev(arr))\n",
    "print('custom-std', calc_std(arr))"
   ]
  },
  {
   "cell_type": "markdown",
   "metadata": {},
   "source": [
    "12. What is the dimensionality of a Boolean mask-generated array?"
   ]
  },
  {
   "cell_type": "markdown",
   "metadata": {},
   "source": [
    "Answer:\n",
    "\n",
    "It will have the same dimensions as the input array. Masking occurs when a value is to be extracted, changed, counted, or otherwise manipulated in an array according to a certain criteria: for instance, counting all values that exceed a certain threshold value, or removing all outliers above a certain threshold value. In the case of Boolean masking in NumPy, the most efficient approach is often to use Boolean masking.\n"
   ]
  }
 ],
 "metadata": {
  "kernelspec": {
   "display_name": "Python 3",
   "language": "python",
   "name": "python3"
  },
  "language_info": {
   "codemirror_mode": {
    "name": "ipython",
    "version": 3
   },
   "file_extension": ".py",
   "mimetype": "text/x-python",
   "name": "python",
   "nbconvert_exporter": "python",
   "pygments_lexer": "ipython3",
   "version": "3.10.10"
  },
  "orig_nbformat": 4
 },
 "nbformat": 4,
 "nbformat_minor": 2
}
