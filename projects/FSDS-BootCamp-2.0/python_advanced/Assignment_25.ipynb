{
 "cells": [
  {
   "cell_type": "markdown",
   "metadata": {},
   "source": [
    "Q1. What is the distinction between a numpy array and a pandas data frame? Is there a way to convert between the two if there is?"
   ]
  },
  {
   "cell_type": "markdown",
   "metadata": {},
   "source": [
    "Answer:\n",
    "\n",
    "Numpy Array:\n",
    "\n",
    "It takes the form of a matrix structure with rows and columns. Generally, it performs python mathematical operations which are not easy to perform manually in a coding case. It can be of any dimension: 1D, 2D, 3D, etc. It depends on the application to requirement. Numpy arrays are not in tabular form that have fields and records. Instead, they are in matrices. Numpy arrays can have single rows and single columns.\n",
    "\n",
    "Pandas Dataframe:\n",
    "\n",
    "Dataframe is a tabular structure format that has more than one column in it. Dataframe has any number of dimensions, but it should have more than 1-Dimensons. Numpy array operation can be used in dataframe, and numpy array can also be converted into dataframe.\n",
    "\n",
    "We can convert between the two in following manner:\n"
   ]
  },
  {
   "cell_type": "code",
   "execution_count": 1,
   "metadata": {},
   "outputs": [
    {
     "name": "stdout",
     "output_type": "stream",
     "text": [
      "[[0 1 2]\n",
      " [3 4 5]]\n",
      "   0  1  2\n",
      "0  0  1  2\n",
      "1  3  4  5\n",
      "[[0 1 2]\n",
      " [3 4 5]]\n"
     ]
    }
   ],
   "source": [
    "import pandas as pd\n",
    "import numpy as np\n",
    "\n",
    "arr = np.arange(6).reshape(2,3)\n",
    "print(arr)\n",
    "\n",
    "df = pd.DataFrame(arr)\n",
    "print(df)\n",
    "\n",
    "print(df.to_numpy())\n"
   ]
  },
  {
   "cell_type": "markdown",
   "metadata": {},
   "source": [
    "Q2. What can go wrong when an user enters in a stock-ticker symbol, and how do you handle it?"
   ]
  },
  {
   "cell_type": "markdown",
   "metadata": {},
   "source": [
    "Answer:\n",
    "\n",
    "When a user inputs the stock-ticker symbols, they may enter the wrong symbols, obsolete symbols, or symbols for non-traded companies. This can be handled by error handling techniques like try-except blocks, which catch the errors and handle them in an elegant manner. You can also use the data validation techniques to verify the symbols entered before using them in your analysis.\n"
   ]
  },
  {
   "cell_type": "markdown",
   "metadata": {},
   "source": [
    "Q3. Identify some of the plotting techniques that are used to produce a stock-market chart."
   ]
  },
  {
   "cell_type": "markdown",
   "metadata": {},
   "source": [
    "Answer:\n",
    "\n",
    "Bar charts, Line charts, and Candlestick charts (mplfinance module) are used for charting stock market.\n"
   ]
  },
  {
   "cell_type": "markdown",
   "metadata": {},
   "source": [
    "Q4. Why is it essential to print a legend on a stock market chart?"
   ]
  },
  {
   "cell_type": "markdown",
   "metadata": {},
   "source": [
    "Answer:\n",
    "\n",
    "As legend will help to compare different stocks, it will be crucial on the chart of the stock market. Legends adds beauty to the visualization of the trend of the data w.r.t. other features. Creates the different trend of the data in different colors, indicating that which belongs to which trend belongs to which feature.\n"
   ]
  },
  {
   "cell_type": "markdown",
   "metadata": {},
   "source": [
    "Q5. What is the best way to limit the length of a pandas data frame to less than a year?"
   ]
  },
  {
   "cell_type": "markdown",
   "metadata": {},
   "source": [
    "Answer:\n",
    "\n",
    "The start and end parameters can be used. The start parameter is the date from which we are beginning and the end parameter is the end date. Within this range, we can restrict duration. We can also use parameters like periods for the number of times we need duration and frequency parameter.\n"
   ]
  },
  {
   "cell_type": "markdown",
   "metadata": {},
   "source": [
    "Q6. What is the definition of a 180-day moving average?"
   ]
  },
  {
   "cell_type": "markdown",
   "metadata": {},
   "source": [
    "Answer:\n",
    "\n",
    "A moving average is a line on a chart that shows the average price over a period of 180 days. A moving average is one of the most commonly used stock indicators in technical analysis. It is calculated by taking the arithmetic average of a set of prices over a specified number of days (in this case, 180 days). The purpose of calculating the moving average is to smooth out price data over a given period by creating a continuously updated average price.\n"
   ]
  },
  {
   "cell_type": "markdown",
   "metadata": {},
   "source": [
    "Q7. Did the chapter's final example use \"indirect\" importing? If so, how exactly do you do it?\n"
   ]
  },
  {
   "cell_type": "markdown",
   "metadata": {},
   "source": [
    "Answer:\n",
    "\n",
    "Indirect Import in Python means that you can directly import a module using a string that contains the name of that module. This is useful when you don’t know the name of a module at runtime, or if you are importing a lot of modules dynamically.\n"
   ]
  },
  {
   "cell_type": "code",
   "execution_count": 2,
   "metadata": {},
   "outputs": [
    {
     "name": "stdout",
     "output_type": "stream",
     "text": [
      "test_module1\n",
      "first module imported\n",
      "test_module2\n",
      "second module imported\n"
     ]
    }
   ],
   "source": [
    "# indirect import example\n",
    "import importlib\n",
    "\n",
    "mod = importlib.import_module('test_module1')\n",
    "print(mod.__name__)\n",
    "mod.main()\n",
    "mod=importlib.import_module('test_module2')\n",
    "print(mod.__name__)\n",
    "mod.main()"
   ]
  }
 ],
 "metadata": {
  "kernelspec": {
   "display_name": "Python 3",
   "language": "python",
   "name": "python3"
  },
  "language_info": {
   "codemirror_mode": {
    "name": "ipython",
    "version": 3
   },
   "file_extension": ".py",
   "mimetype": "text/x-python",
   "name": "python",
   "nbconvert_exporter": "python",
   "pygments_lexer": "ipython3",
   "version": "3.10.10"
  },
  "orig_nbformat": 4
 },
 "nbformat": 4,
 "nbformat_minor": 2
}
