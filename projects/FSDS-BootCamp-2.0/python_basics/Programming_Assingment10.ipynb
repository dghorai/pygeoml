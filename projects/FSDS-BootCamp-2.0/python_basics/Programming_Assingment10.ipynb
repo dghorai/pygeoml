{
 "cells": [
  {
   "cell_type": "markdown",
   "id": "cb612f15",
   "metadata": {},
   "source": [
    "1. Write a Python program to find sum of elements in list?"
   ]
  },
  {
   "cell_type": "code",
   "execution_count": 1,
   "id": "f585ccf8",
   "metadata": {},
   "outputs": [
    {
     "name": "stdout",
     "output_type": "stream",
     "text": [
      "Enter a list with numbers: [1, 2, 3, 4, 5, 6, 7, 8, 9]\n",
      "Sum of list: 45\n"
     ]
    }
   ],
   "source": [
    "def sum_of_list(lst):\n",
    "    _sum = 0\n",
    "    for i in lst:\n",
    "        _sum += i\n",
    "    return _sum\n",
    "\n",
    "my_list = eval(input(\"Enter a list with numbers: \"))\n",
    "print(\"Sum of list: {}\".format(sum_of_list(my_list)))"
   ]
  },
  {
   "cell_type": "markdown",
   "id": "a455d4fc",
   "metadata": {},
   "source": [
    "2. Write a Python program to  Multiply all numbers in the list?"
   ]
  },
  {
   "cell_type": "code",
   "execution_count": 3,
   "id": "ebb60758",
   "metadata": {},
   "outputs": [
    {
     "name": "stdout",
     "output_type": "stream",
     "text": [
      "Enter a list with numbers: [3, 2, 4]\n",
      "Multiplication result of list: 24\n"
     ]
    }
   ],
   "source": [
    "def multiply_list_numbers(lst):\n",
    "    result = 1\n",
    "    for i in lst:\n",
    "        result *= i\n",
    "    return result\n",
    "\n",
    "my_list = eval(input(\"Enter a list with numbers: \"))\n",
    "print(\"Multiplication result of list: {}\".format(multiply_list_numbers(my_list)))"
   ]
  },
  {
   "cell_type": "markdown",
   "id": "a6372787",
   "metadata": {},
   "source": [
    "3. Write a Python program to find smallest number in a list?"
   ]
  },
  {
   "cell_type": "code",
   "execution_count": 4,
   "id": "cbf3405f",
   "metadata": {},
   "outputs": [
    {
     "name": "stdout",
     "output_type": "stream",
     "text": [
      "Enter a list with numbers: [2, 3, 4, 0]\n",
      "Smallest number in list is 0\n"
     ]
    }
   ],
   "source": [
    "def smallest_number_in_list(lst):\n",
    "    smallest = lst[0]\n",
    "    for i in lst:\n",
    "        if smallest > i:\n",
    "            smallest = i\n",
    "    return smallest\n",
    "\n",
    "my_list = eval(input(\"Enter a list with numbers: \"))\n",
    "print(\"Smallest number in list is {}\".format(smallest_number_in_list(my_list)))"
   ]
  },
  {
   "cell_type": "markdown",
   "id": "08db18e9",
   "metadata": {},
   "source": [
    "4. Write a Python program to find largest number in a list?"
   ]
  },
  {
   "cell_type": "code",
   "execution_count": 5,
   "id": "a55f8039",
   "metadata": {},
   "outputs": [
    {
     "name": "stdout",
     "output_type": "stream",
     "text": [
      "Enter a list with numbers: [99, 2, 70, 0, 95]\n",
      "Largest number in list is 99\n"
     ]
    }
   ],
   "source": [
    "def largest_number_in_list(lst):\n",
    "    largest = lst[0]\n",
    "    for i in lst:\n",
    "        if largest < i:\n",
    "            largest = i\n",
    "    return largest\n",
    "\n",
    "my_list = eval(input(\"Enter a list with numbers: \"))\n",
    "print(\"Largest number in list is {}\".format(largest_number_in_list(my_list)))"
   ]
  },
  {
   "cell_type": "markdown",
   "id": "3b2dfe2b",
   "metadata": {},
   "source": [
    "5. Write a Python program to find second largest number in a list?"
   ]
  },
  {
   "cell_type": "code",
   "execution_count": 23,
   "id": "b24525b1",
   "metadata": {},
   "outputs": [
    {
     "name": "stdout",
     "output_type": "stream",
     "text": [
      "Enter a list with numbers: [2,3,1,5,6,7]\n",
      "Second largest number in list is 6\n"
     ]
    }
   ],
   "source": [
    "def largest_number_in_list(lst):\n",
    "    largest = lst[0]\n",
    "    for i in lst:\n",
    "        if largest < i:\n",
    "            largest = i\n",
    "    return largest\n",
    "\n",
    "def remove_element_from_list(lst, ele):\n",
    "    new_lst = []\n",
    "    for i in lst:\n",
    "        if i != ele:\n",
    "            new_lst.append(i)\n",
    "    return new_lst\n",
    "\n",
    "def find_ith_largest(lst, ith=None):\n",
    "    largest = largest_number_in_list(lst)\n",
    "    if ith == 1:\n",
    "        res = largest\n",
    "    else:\n",
    "        for i in range(ith-1):\n",
    "            next_lst = remove_element_from_list(lst, largest)\n",
    "            res = largest_number_in_list(next_lst)\n",
    "            lst = next_lst\n",
    "            largest = res\n",
    "    return res\n",
    "\n",
    "my_list = eval(input(\"Enter a list with numbers: \"))\n",
    "print(\"Second largest number in list is {}\".format(find_ith_largest(my_list, ith=2)))"
   ]
  },
  {
   "cell_type": "markdown",
   "id": "6bd6fb60",
   "metadata": {},
   "source": [
    "6. Write a Python program to find N largest elements from a list?"
   ]
  },
  {
   "cell_type": "code",
   "execution_count": 26,
   "id": "5900f551",
   "metadata": {},
   "outputs": [
    {
     "name": "stdout",
     "output_type": "stream",
     "text": [
      "Enter no. of elements to find largest from the list: 4\n",
      "Enter a list with numbers: [2,3,1,5,6,7]\n",
      "The 4 largest element in the list are [7, 6, 5, 3]\n"
     ]
    }
   ],
   "source": [
    "def largest_number_in_list(lst):\n",
    "    largest = lst[0]\n",
    "    for i in lst:\n",
    "        if largest < i:\n",
    "            largest = i\n",
    "    return largest\n",
    "\n",
    "def remove_element_from_list(lst, ele):\n",
    "    new_lst = []\n",
    "    for i in lst:\n",
    "        if i != ele:\n",
    "            new_lst.append(i)\n",
    "    return new_lst\n",
    "\n",
    "def find_n_largest(lst, n=None):\n",
    "    res = []\n",
    "    largest = largest_number_in_list(lst)\n",
    "    if n == 1:\n",
    "        res.append(largest)\n",
    "    else:\n",
    "        res.append(largest)\n",
    "        for i in range(n-1):\n",
    "            next_lst = remove_element_from_list(lst, largest)\n",
    "            next_largest = largest_number_in_list(next_lst)\n",
    "            res.append(next_largest)\n",
    "            lst = next_lst\n",
    "            largest = next_largest\n",
    "    return res\n",
    "\n",
    "k = int(input(\"Enter no. of elements to find largest from the list: \"))\n",
    "my_list = eval(input(\"Enter a list with numbers: \"))\n",
    "print(f'The {k} largest element in the list are {find_n_largest(my_list, n=k)}')"
   ]
  },
  {
   "cell_type": "markdown",
   "id": "80d9a449",
   "metadata": {},
   "source": [
    "7. Write a Python program to print even numbers in a list?"
   ]
  },
  {
   "cell_type": "code",
   "execution_count": 27,
   "id": "07b361e2",
   "metadata": {},
   "outputs": [
    {
     "name": "stdout",
     "output_type": "stream",
     "text": [
      "Enter a list with numbers: [2,3,1,5,6,7]\n",
      "The even elements in the list are [2, 6]\n"
     ]
    }
   ],
   "source": [
    "def find_even_numbers(lst):\n",
    "    even_num = []\n",
    "    for i in lst:\n",
    "        if (i % 2 == 0):\n",
    "            even_num.append(i)\n",
    "    return even_num\n",
    "\n",
    "my_list = eval(input(\"Enter a list with numbers: \"))\n",
    "print(f'The even elements in the list are {find_even_numbers(my_list)}')"
   ]
  },
  {
   "cell_type": "markdown",
   "id": "11fe17dd",
   "metadata": {},
   "source": [
    "8. Write a Python program to print odd numbers in a List?"
   ]
  },
  {
   "cell_type": "code",
   "execution_count": 28,
   "id": "4818fefd",
   "metadata": {},
   "outputs": [
    {
     "name": "stdout",
     "output_type": "stream",
     "text": [
      "Enter a list with numbers: [2,3,1,5,6,7]\n",
      "The odd elements in the list are [3, 1, 5, 7]\n"
     ]
    }
   ],
   "source": [
    "def find_odd_numbers(lst):\n",
    "    odd_num = []\n",
    "    for i in lst:\n",
    "        if (i % 2 != 0):\n",
    "            odd_num.append(i)\n",
    "    return odd_num\n",
    "\n",
    "my_list = eval(input(\"Enter a list with numbers: \"))\n",
    "print(f'The odd elements in the list are {find_odd_numbers(my_list)}')"
   ]
  },
  {
   "cell_type": "markdown",
   "id": "de7c1bf3",
   "metadata": {},
   "source": [
    "9. Write a Python program to Remove empty List from List?"
   ]
  },
  {
   "cell_type": "code",
   "execution_count": 30,
   "id": "a6162009",
   "metadata": {},
   "outputs": [
    {
     "name": "stdout",
     "output_type": "stream",
     "text": [
      "Enter a list with numbers and empty list: [5, 6, [], 3, [], [], 9]\n",
      "The final list after removing empty list is \n",
      " [5, 6, 3, 9]\n"
     ]
    }
   ],
   "source": [
    "def remove_empty_list(lst):\n",
    "    return [i for i in lst if i != []]\n",
    "\n",
    "my_list = eval(input(\"Enter a list with numbers and empty list: \"))\n",
    "print(f'The final list after removing empty list is \\n {remove_empty_list(my_list)}')"
   ]
  },
  {
   "cell_type": "markdown",
   "id": "6bc851e0",
   "metadata": {},
   "source": [
    "10. Write a Python program to Cloning or Copying a list?"
   ]
  },
  {
   "cell_type": "code",
   "execution_count": 32,
   "id": "c491a296",
   "metadata": {},
   "outputs": [
    {
     "name": "stdout",
     "output_type": "stream",
     "text": [
      "Enter a list with numbers: [2,3,1,5,6,7]\n",
      "Cloning a list: [2, 3, 1, 5, 6, 7]\n"
     ]
    }
   ],
   "source": [
    "def cloning(lst):\n",
    "    li_copy = lst[:]\n",
    "    return li_copy\n",
    "\n",
    "my_list = eval(input(\"Enter a list with numbers: \"))\n",
    "print(f'Cloning a list: {cloning(my_list)}')"
   ]
  },
  {
   "cell_type": "markdown",
   "id": "6c4691e2",
   "metadata": {},
   "source": [
    "11. Write a Python program to Count occurrences of an element in a list?"
   ]
  },
  {
   "cell_type": "code",
   "execution_count": 34,
   "id": "964bf959",
   "metadata": {},
   "outputs": [
    {
     "name": "stdout",
     "output_type": "stream",
     "text": [
      "Enter a list with numbers: [8, 6, 8, 10, 8, 20, 10, 8, 8]\n",
      "Enter the element to find: 8\n",
      "8 has occurred 5 times\n"
     ]
    }
   ],
   "source": [
    "def count_occurrences(lst, x):\n",
    "    count = 0\n",
    "    for i in lst:\n",
    "        if (i == x):\n",
    "            count += 1\n",
    "    return count\n",
    " \n",
    "my_list = eval(input(\"Enter a list with numbers: \"))\n",
    "x = int(input('Enter the element to find: '))\n",
    "print('{} has occurred {} times'.format(x, count_occurrences(my_list, x)))"
   ]
  }
 ],
 "metadata": {
  "kernelspec": {
   "display_name": "Python 3 (ipykernel)",
   "language": "python",
   "name": "python3"
  },
  "language_info": {
   "codemirror_mode": {
    "name": "ipython",
    "version": 3
   },
   "file_extension": ".py",
   "mimetype": "text/x-python",
   "name": "python",
   "nbconvert_exporter": "python",
   "pygments_lexer": "ipython3",
   "version": "3.10.9"
  }
 },
 "nbformat": 4,
 "nbformat_minor": 5
}
