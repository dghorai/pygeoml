{
 "cells": [
  {
   "cell_type": "markdown",
   "id": "20078ee3",
   "metadata": {},
   "source": [
    "Question1\n",
    "\n",
    "Create a function that takes a list of strings and integers, and filters out the list so that it returns a list of integers only.\n",
    "\n",
    "Examples\n",
    "\n",
    "filter_list([1, 2, 3, \"a\", \"b\", 4]) ➞ [1, 2, 3, 4]\n",
    "\n",
    "filter_list([\"A\", 0, \"Edabit\", 1729, \"Python\", \"1729\"]) ➞ [0, 1729]\n",
    "\n",
    "filter_list([\"Nothing\", \"here\"]) ➞ []\n"
   ]
  },
  {
   "cell_type": "code",
   "execution_count": 1,
   "id": "236c27d4",
   "metadata": {},
   "outputs": [
    {
     "name": "stdout",
     "output_type": "stream",
     "text": [
      "filter_list([1, 2, 3, \"a\", \"b\", 4]) ➞ [1, 2, 3, 4]\n",
      "filter_list([\"A\", 0, \"Edabit\", 1729, \"Python\", \"1729\"]) ➞ [0, 1729]\n",
      "filter_list([\"Nothing\", \"here\"]) ➞ []\n"
     ]
    }
   ],
   "source": [
    "def filter_list(lst):\n",
    "    res = []\n",
    "    for i in lst:\n",
    "        if type(i) == int:\n",
    "            res.append(i)\n",
    "    return res\n",
    "\n",
    "print(f'filter_list([1, 2, 3, \"a\", \"b\", 4]) ➞ {filter_list([1, 2, 3, \"a\", \"b\", 4])}')\n",
    "print(f'filter_list([\"A\", 0, \"Edabit\", 1729, \"Python\", \"1729\"]) ➞ {filter_list([\"A\", 0, \"Edabit\", 1729, \"Python\", \"1729\"])}')\n",
    "print(f'filter_list([\"Nothing\", \"here\"]) ➞ {filter_list([\"Nothing\", \"here\"])}')"
   ]
  },
  {
   "cell_type": "markdown",
   "id": "f46f9459",
   "metadata": {},
   "source": [
    "Question2\n",
    "\n",
    "Given a list of numbers, create a function which returns the list but with each element's index in the list added to itself. This means you add 0 to the number at index 0, add 1 to the number at index 1, etc...\n",
    "\n",
    "Examples\n",
    "\n",
    "add_indexes([0, 0, 0, 0, 0]) ➞ [0, 1, 2, 3, 4]\n",
    "\n",
    "add_indexes([1, 2, 3, 4, 5]) ➞ [1, 3, 5, 7, 9]\n",
    "\n",
    "add_indexes([5, 4, 3, 2, 1]) ➞ [5, 5, 5, 5, 5]\n"
   ]
  },
  {
   "cell_type": "code",
   "execution_count": 2,
   "id": "849cacd6",
   "metadata": {},
   "outputs": [
    {
     "name": "stdout",
     "output_type": "stream",
     "text": [
      "add_indexes([0, 0, 0, 0, 0]) ➞ [0, 1, 2, 3, 4]\n",
      "add_indexes([1, 2, 3, 4, 5]) ➞ [1, 3, 5, 7, 9]\n",
      "add_indexes([5, 4, 3, 2, 1]) ➞ [5, 5, 5, 5, 5]\n"
     ]
    }
   ],
   "source": [
    "def add_indexes(lst):\n",
    "    res = []\n",
    "    for i, j in enumerate(lst):\n",
    "        _sum = i + j\n",
    "        res.append(_sum)\n",
    "    return res\n",
    "        \n",
    "print(f'add_indexes([0, 0, 0, 0, 0]) ➞ {add_indexes([0, 0, 0, 0, 0])}')\n",
    "print(f'add_indexes([1, 2, 3, 4, 5]) ➞ {add_indexes([1, 2, 3, 4, 5])}')\n",
    "print(f'add_indexes([5, 4, 3, 2, 1]) ➞ {add_indexes([5, 4, 3, 2, 1])}')"
   ]
  },
  {
   "attachments": {
    "test.png": {
     "image/png": "[encoded data removed]"
    }
   },
   "cell_type": "markdown",
   "id": "94c23959",
   "metadata": {},
   "source": [
    "Question3\n",
    "\n",
    "Create a function that takes the height and radius of a cone as arguments and returns the volume of the cone rounded to the nearest hundredth. See the resources tab for the formula.\n",
    "\n",
    "![test.png](attachment:test.png)\n",
    "\n",
    "Examples\n",
    "\n",
    "cone_volume(3, 2) ➞ 12.57\n",
    "\n",
    "cone_volume(15, 6) ➞ 565.49\n",
    "\n",
    "cone_volume(18, 0) ➞ 0\n"
   ]
  },
  {
   "cell_type": "code",
   "execution_count": 14,
   "id": "f858c1a0",
   "metadata": {},
   "outputs": [
    {
     "name": "stdout",
     "output_type": "stream",
     "text": [
      "cone_volume(3, 2) ➞ 12.57\n",
      "cone_volume(15, 6) ➞ 565.49\n",
      "cone_volume(18, 0) ➞ 0\n"
     ]
    }
   ],
   "source": [
    "import math\n",
    "\n",
    "def cone_volume(h, r):\n",
    "    v = (1/3) * math.pi * r**2 * h\n",
    "    if v == 0:\n",
    "        res = int(v)\n",
    "    else:\n",
    "        res = round(v, 2)\n",
    "    return res\n",
    "\n",
    "print(f'cone_volume(3, 2) ➞ {cone_volume(3, 2)}')\n",
    "print(f'cone_volume(15, 6) ➞ {cone_volume(15, 6)}')\n",
    "print(f'cone_volume(18, 0) ➞ {cone_volume(18, 0)}')"
   ]
  },
  {
   "cell_type": "markdown",
   "id": "f6560756",
   "metadata": {},
   "source": [
    "Question4\n",
    "\n",
    "This Triangular Number Sequence is generated from a pattern of dots that form a triangle. The first 5 numbers of the sequence, or dots, are: \n",
    "\n",
    "1, 3, 6, 10, 15\n",
    "\n",
    "This means that the first triangle has just one dot, the second one has three dots, the third one has 6 dots and so on.\n",
    "Write a function that gives the number of dots with its corresponding triangle number of the sequence.\n",
    "\n",
    "Examples\n",
    "\n",
    "triangle(1) ➞ 1\n",
    "\n",
    "triangle(6) ➞ 21\n",
    "\n",
    "triangle(215) ➞ 23220\n"
   ]
  },
  {
   "cell_type": "code",
   "execution_count": 17,
   "id": "94488937",
   "metadata": {},
   "outputs": [
    {
     "name": "stdout",
     "output_type": "stream",
     "text": [
      "triangle(1) ➞ 1\n",
      "triangle(6) ➞ 21\n",
      "triangle(215) ➞ 23220\n"
     ]
    }
   ],
   "source": [
    "def triangle(n):\n",
    "    return int(n*((n+1)/2))\n",
    "\n",
    "print(f'triangle(1) ➞ {triangle(1)}')\n",
    "print(f'triangle(6) ➞ {triangle(6)}')\n",
    "print(f'triangle(215) ➞ {triangle(215)}')"
   ]
  },
  {
   "cell_type": "markdown",
   "id": "4bcda5ba",
   "metadata": {},
   "source": [
    "Question5\n",
    "\n",
    "Create a function that takes a list of numbers between 1 and 10 (excluding one number) and returns the missing number.\n",
    "\n",
    "Examples\n",
    "\n",
    "missing_num([1, 2, 3, 4, 6, 7, 8, 9, 10]) ➞ 5\n",
    "\n",
    "missing_num([7, 2, 3, 6, 5, 9, 1, 4, 8]) ➞ 10\n",
    "\n",
    "missing_num([10, 5, 1, 2, 4, 6, 8, 3, 9]) ➞ 7\n"
   ]
  },
  {
   "cell_type": "code",
   "execution_count": 19,
   "id": "08456cc8",
   "metadata": {},
   "outputs": [
    {
     "name": "stdout",
     "output_type": "stream",
     "text": [
      "missing_num([1, 2, 3, 4, 6, 7, 8, 9, 10]) ➞ 5\n",
      "missing_num([7, 2, 3, 6, 5, 9, 1, 4, 8]) ➞ 10\n",
      "missing_num([10, 5, 1, 2, 4, 6, 8, 3, 9]) ➞ 7\n"
     ]
    }
   ],
   "source": [
    "def missing_num(lst, n1=1, n2=10):\n",
    "    for i in range(n1, n2+1):\n",
    "        if i not in lst:\n",
    "            return i\n",
    "\n",
    "print(f'missing_num([1, 2, 3, 4, 6, 7, 8, 9, 10]) ➞ {missing_num([1, 2, 3, 4, 6, 7, 8, 9, 10])}')\n",
    "print(f'missing_num([7, 2, 3, 6, 5, 9, 1, 4, 8]) ➞ {missing_num([7, 2, 3, 6, 5, 9, 1, 4, 8])}')\n",
    "print(f'missing_num([10, 5, 1, 2, 4, 6, 8, 3, 9]) ➞ {missing_num([10, 5, 1, 2, 4, 6, 8, 3, 9])}')"
   ]
  }
 ],
 "metadata": {
  "kernelspec": {
   "display_name": "Python 3 (ipykernel)",
   "language": "python",
   "name": "python3"
  },
  "language_info": {
   "codemirror_mode": {
    "name": "ipython",
    "version": 3
   },
   "file_extension": ".py",
   "mimetype": "text/x-python",
   "name": "python",
   "nbconvert_exporter": "python",
   "pygments_lexer": "ipython3",
   "version": "3.11.1"
  }
 },
 "nbformat": 4,
 "nbformat_minor": 5
}
