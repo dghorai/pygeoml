{
 "cells": [
  {
   "cell_type": "markdown",
   "id": "e240ec8a",
   "metadata": {},
   "source": [
    "Question 1:\\\n",
    "Write a program that calculates and prints the value according to the given formula:\\\n",
    "Q = Square root of [(2 * C * D)/H]\\\n",
    "Following are the fixed values of C and H:\\\n",
    "C is 50. H is 30.\\\n",
    "D is the variable whose values should be input to your program in a comma-separated sequence.\\\n",
    "Example\\\n",
    "Let us assume the following comma separated input sequence is given to the program:\\\n",
    "100,150,180\\\n",
    "The output of the program should be:\\\n",
    "18,22,24"
   ]
  },
  {
   "cell_type": "code",
   "execution_count": 6,
   "id": "5c783b11",
   "metadata": {},
   "outputs": [
    {
     "name": "stdout",
     "output_type": "stream",
     "text": [
      "Results: 18,22,24\n"
     ]
    }
   ],
   "source": [
    "import math\n",
    "\n",
    "C = 50\n",
    "H = 30\n",
    "\n",
    "def func1(in_seq):\n",
    "    res = []\n",
    "    for i in in_seq:\n",
    "        D = i\n",
    "        Q = math.sqrt((2*C*D)/H)\n",
    "        res.append(str(int(Q)))\n",
    "    print(\"Results: {}\".format(','.join(res)))\n",
    "\n",
    "in_seq = (100, 150, 180)\n",
    "func1(in_seq)"
   ]
  },
  {
   "cell_type": "markdown",
   "id": "44fb5c1f",
   "metadata": {},
   "source": [
    "Question 2:\\\n",
    "Write a program which takes 2 digits, X,Y as input and generates a 2-dimensional array. The element value in the i-th row and j-th column of the array should be i*j.\\\n",
    "Note: i=0,1.., X-1; j=0,1,¡­Y-1.\\\n",
    "Example\\\n",
    "Suppose the following inputs are given to the program:\\\n",
    "3,5\\\n",
    "Then, the output of the program should be:\\\n",
    "[[0, 0, 0, 0, 0], [0, 1, 2, 3, 4], [0, 2, 4, 6, 8]] "
   ]
  },
  {
   "cell_type": "code",
   "execution_count": 7,
   "id": "1549d9cb",
   "metadata": {},
   "outputs": [
    {
     "name": "stdout",
     "output_type": "stream",
     "text": [
      "[[0, 0, 0, 0, 0], [0, 1, 2, 3, 4], [0, 2, 4, 6, 8]]\n"
     ]
    }
   ],
   "source": [
    "import array\n",
    "\n",
    "def func2(x=None, y=None):\n",
    "    res = []\n",
    "    for i in range(x):\n",
    "        res.insert(x,[])\n",
    "        for j in range(y):\n",
    "            res[i].append(i*j)\n",
    "    print(res)\n",
    "\n",
    "    \n",
    "func2(x=3, y=5)"
   ]
  },
  {
   "cell_type": "markdown",
   "id": "3fa4de93",
   "metadata": {},
   "source": [
    "Question 3:\\\n",
    "Write a program that accepts a comma separated sequence of words as input and prints the words in a comma-separated sequence after sorting them alphabetically.\\\n",
    "Suppose the following input is supplied to the program:\\\n",
    "without,hello,bag,world\\\n",
    "Then, the output should be:\\\n",
    "bag,hello,without,world"
   ]
  },
  {
   "cell_type": "code",
   "execution_count": 8,
   "id": "c943e2ea",
   "metadata": {},
   "outputs": [
    {
     "name": "stdout",
     "output_type": "stream",
     "text": [
      "Result: bag,hello,without,world\n"
     ]
    }
   ],
   "source": [
    "def func3(words):\n",
    "    lst = words.split(\",\")\n",
    "    lst.sort()\n",
    "    res = \",\".join(lst)\n",
    "    print(f'Result: {res}')\n",
    "\n",
    "words = \"without,hello,bag,world\"\n",
    "func3(words)"
   ]
  },
  {
   "cell_type": "markdown",
   "id": "89652071",
   "metadata": {},
   "source": [
    "Question 4:\\\n",
    "Write a program that accepts a sequence of whitespace separated words as input and prints the words after removing all duplicate words and sorting them alphanumerically.\\\n",
    "Suppose the following input is supplied to the program:\\\n",
    "hello world and practice makes perfect and hello world again\\\n",
    "Then, the output should be:\\\n",
    "again and hello makes perfect practice world"
   ]
  },
  {
   "cell_type": "code",
   "execution_count": 10,
   "id": "9d2f81fb",
   "metadata": {},
   "outputs": [
    {
     "name": "stdout",
     "output_type": "stream",
     "text": [
      "Result: again and hello makes perfect practice world\n"
     ]
    }
   ],
   "source": [
    "def func4(words):\n",
    "    lst = words.split(\" \")\n",
    "    unique_lst = list(set(lst))\n",
    "    unique_lst.sort()\n",
    "    res = \" \".join(unique_lst)\n",
    "    print(f'Result: {res}')\n",
    "\n",
    "words = \"hello world and practice makes perfect and hello world again\"\n",
    "func4(words)"
   ]
  },
  {
   "cell_type": "markdown",
   "id": "b8b9f3ed",
   "metadata": {},
   "source": [
    "Question 5:\\\n",
    "Write a program that accepts a sentence and calculate the number of letters and digits.\\\n",
    "Suppose the following input is supplied to the program:\\\n",
    "hello world! 123\\\n",
    "Then, the output should be:\\\n",
    "LETTERS 10\\\n",
    "DIGITS 3"
   ]
  },
  {
   "cell_type": "code",
   "execution_count": 11,
   "id": "de9a7ca4",
   "metadata": {},
   "outputs": [
    {
     "name": "stdout",
     "output_type": "stream",
     "text": [
      "LETTERS 10 \n",
      "DIGITS 3\n"
     ]
    }
   ],
   "source": [
    "def func5(string):\n",
    "    a2z = 'ABCDEFGHIJKLMNOPQRSTUVWXYZabcdefghijklmnopqrstuvwxyz'\n",
    "    digits = '0123456789'\n",
    "    \n",
    "    count_letter = 0\n",
    "    count_digit = 0\n",
    "    \n",
    "    for i in string:\n",
    "        if i in a2z:\n",
    "            count_letter += 1\n",
    "        elif i in digits:\n",
    "            count_digit += 1\n",
    "    \n",
    "    print(f'LETTERS {count_letter} \\nDIGITS {count_digit}')\n",
    "\n",
    "in_string = \"hello world! 123\"\n",
    "func5(in_string)"
   ]
  },
  {
   "cell_type": "markdown",
   "id": "d5f7b543",
   "metadata": {},
   "source": [
    "Question 6:\\\n",
    "A website requires the users to input username and password to register. Write a program to check the validity of password input by users.\\\n",
    "Following are the criteria for checking the password:\n",
    "1. At least 1 letter between [a-z]\n",
    "2. At least 1 number between [0-9]\n",
    "1. At least 1 letter between [A-Z]\n",
    "3. At least 1 character from [$#@]\n",
    "4. Minimum length of transaction password: 6\n",
    "5. Maximum length of transaction password: 12\n",
    "\n",
    "Your program should accept a sequence of comma separated passwords and will check them according to the above criteria. Passwords that match the criteria are to be printed, each separated by a comma.\\\n",
    "Example\\\n",
    "If the following passwords are given as input to the program:\\\n",
    "ABd1234@1,a F1#,2w3E*,2We3345\\\n",
    "Then, the output of the program should be:\\\n",
    "ABd1234@1"
   ]
  },
  {
   "cell_type": "code",
   "execution_count": 12,
   "id": "ca0a9453",
   "metadata": {},
   "outputs": [
    {
     "name": "stdout",
     "output_type": "stream",
     "text": [
      "ABd1234@1\n"
     ]
    }
   ],
   "source": [
    "def func6(string):\n",
    "    numbers = \"0123456789\"\n",
    "    small_letters = \"abcdefghijklmnopqrstuvwxyz\"\n",
    "    capital_letters = \"ABCDEFGHIJKLMNOPQRSTUVWXYZ\"\n",
    "    special_character = \"$#@\"\n",
    "    \n",
    "    lst = string.split(\",\")\n",
    "    \n",
    "    match_pwd = []\n",
    "    for i in lst:\n",
    "        if 6 <= len(i) <= 12:\n",
    "            check1 = [j for j in list(i) if j in small_letters]\n",
    "            check2 = [j for j in list(i) if j in capital_letters]\n",
    "            check3 = [j for j in list(i) if j in numbers]\n",
    "            check4 = [j for j in list(i) if j in special_character]\n",
    "            \n",
    "            if (len(check1) > 0) and (len(check2) > 0) and (len(check3) > 0) and (len(check4) > 0):\n",
    "                match_pwd.append(i)\n",
    "    \n",
    "    if len(match_pwd) > 0:\n",
    "        print(\",\".join(match_pwd))\n",
    "    else:\n",
    "        print(\"Invalid password!\")\n",
    "\n",
    "        \n",
    "in_string = \"ABd1234@1,a F1#,2w3E*,2We3345\"\n",
    "func6(in_string)"
   ]
  }
 ],
 "metadata": {
  "kernelspec": {
   "display_name": "Python 3 (ipykernel)",
   "language": "python",
   "name": "python3"
  },
  "language_info": {
   "codemirror_mode": {
    "name": "ipython",
    "version": 3
   },
   "file_extension": ".py",
   "mimetype": "text/x-python",
   "name": "python",
   "nbconvert_exporter": "python",
   "pygments_lexer": "ipython3",
   "version": "3.10.9"
  }
 },
 "nbformat": 4,
 "nbformat_minor": 5
}
