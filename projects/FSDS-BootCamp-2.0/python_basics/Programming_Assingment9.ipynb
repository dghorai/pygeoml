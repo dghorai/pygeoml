{
 "cells": [
  {
   "cell_type": "markdown",
   "id": "e97edbd5",
   "metadata": {},
   "source": [
    "1. Write a Python program to check if the given number is a Disarium Number?"
   ]
  },
  {
   "cell_type": "code",
   "execution_count": 7,
   "id": "65090530",
   "metadata": {},
   "outputs": [
    {
     "name": "stdout",
     "output_type": "stream",
     "text": [
      "Enter a Number: 175\n",
      "175 is a Disarium Number\n"
     ]
    }
   ],
   "source": [
    "def is_disarium(num):\n",
    "    _sum = 0\n",
    "    \n",
    "    for i in range(len(str(num))):\n",
    "        _sum += int(str(num)[i]) ** (i + 1)\n",
    "    \n",
    "    if _sum == int(num):\n",
    "        print(f'{num} is a Disarium Number')\n",
    "    else:\n",
    "        print(f'{num} is a Not Disarium Number')\n",
    "\n",
    "\n",
    "in_num = input('Enter a Number: ')\n",
    "is_disarium(in_num)"
   ]
  },
  {
   "cell_type": "markdown",
   "id": "816d0cab",
   "metadata": {},
   "source": [
    "2. Write a Python program to print all disarium numbers between 1 to 100?"
   ]
  },
  {
   "cell_type": "code",
   "execution_count": 19,
   "id": "8bbd50c2",
   "metadata": {},
   "outputs": [
    {
     "name": "stdout",
     "output_type": "stream",
     "text": [
      "[1, 2, 3, 4, 5, 6, 7, 8, 9, 89]\n",
      "Disarium Number Not Found!\n"
     ]
    }
   ],
   "source": [
    "def is_disarium(num):\n",
    "    _sum = 0\n",
    "    \n",
    "    for i in range(len(str(num))):\n",
    "        _sum += int(str(num)[i]) ** (i + 1)\n",
    "    \n",
    "    if _sum == int(num):\n",
    "        res = True\n",
    "    else:\n",
    "        res = False\n",
    "    \n",
    "    return res\n",
    "\n",
    "def find_all_disarium(start_num, end_num):\n",
    "    all_disarium = []\n",
    "    for num in range(start_num, end_num+1):\n",
    "        res = is_disarium(num)\n",
    "        if res:\n",
    "            all_disarium.append(num)\n",
    "    \n",
    "    if len(all_disarium) > 0:\n",
    "        return all_disarium\n",
    "    else:\n",
    "        return \"Disarium Number Not Found!\"\n",
    "\n",
    "print(find_all_disarium(1, 100))\n",
    "print(find_all_disarium(101, 125))"
   ]
  },
  {
   "cell_type": "markdown",
   "id": "d8e223a4",
   "metadata": {},
   "source": [
    "3. Write a Python program to check if the given number is Happy Number?"
   ]
  },
  {
   "cell_type": "code",
   "execution_count": 68,
   "id": "03019249",
   "metadata": {},
   "outputs": [
    {
     "name": "stdout",
     "output_type": "stream",
     "text": [
      "Enter a Number: 101\n",
      "101 is not a Happy Number\n"
     ]
    }
   ],
   "source": [
    "def sum_of_square(n):\n",
    "    return sum([int(i)**2 for i in list(str(n))])\n",
    "\n",
    "def is_happy_num(n):\n",
    "    res = True\n",
    "    past_numbers = set()\n",
    "    while n > 1:\n",
    "        sos = sum_of_square(n)\n",
    "        if sos in past_numbers:\n",
    "            res = False\n",
    "            break\n",
    "        else:\n",
    "            past_numbers.add(sos)\n",
    "            n = sos\n",
    "    return res\n",
    "\n",
    "in_num = int(input('Enter a Number: '))\n",
    "\n",
    "if is_happy_num(in_num):\n",
    "    print(f'{in_num} is a Happy Number')\n",
    "else:\n",
    "    print(f'{in_num} is not a Happy Number')"
   ]
  },
  {
   "cell_type": "markdown",
   "id": "30fdd287",
   "metadata": {},
   "source": [
    "4. Write a Python program to print all happy numbers between 1 and 100?"
   ]
  },
  {
   "cell_type": "code",
   "execution_count": 70,
   "id": "0a900f07",
   "metadata": {},
   "outputs": [
    {
     "name": "stdout",
     "output_type": "stream",
     "text": [
      "[1, 7, 10, 13, 19, 23, 28, 31, 32, 44, 49, 68, 70, 79, 82, 86, 91, 94, 97, 100]\n"
     ]
    }
   ],
   "source": [
    "def sum_of_square(n):\n",
    "    return sum([int(i)**2 for i in list(str(n))])\n",
    "\n",
    "def is_happy_num(n):\n",
    "    res = True\n",
    "    past_numbers = set()\n",
    "    while n > 1:\n",
    "        sos = sum_of_square(n)\n",
    "        if sos in past_numbers:\n",
    "            res = False\n",
    "            break\n",
    "        else:\n",
    "            past_numbers.add(sos)\n",
    "            n = sos\n",
    "    return res\n",
    "\n",
    "def find_all_happy_num(start_num, end_num):\n",
    "    all_happy_num = []\n",
    "    for n in range(start_num, end_num+1):\n",
    "        res = is_happy_num(n)\n",
    "        \n",
    "        if res:\n",
    "            all_happy_num.append(n)\n",
    "    \n",
    "    if len(all_happy_num) > 0:\n",
    "        return all_happy_num\n",
    "    else:\n",
    "        return \"Happy Number Not Found!\"\n",
    "\n",
    "\n",
    "print(find_all_happy_num(1, 100))"
   ]
  },
  {
   "cell_type": "markdown",
   "id": "27b3aef5",
   "metadata": {},
   "source": [
    "5. Write a Python program to determine whether the given number is a Harshad Number?"
   ]
  },
  {
   "cell_type": "code",
   "execution_count": 78,
   "id": "7e25dda2",
   "metadata": {},
   "outputs": [
    {
     "name": "stdout",
     "output_type": "stream",
     "text": [
      "Enter number: 153\n",
      "153 is Harshad Number\n"
     ]
    }
   ],
   "source": [
    "def sum_of_digits(n):\n",
    "    return sum([int(i) for i in list(str(n))])\n",
    "\n",
    "def is_harshad_num(num):\n",
    "    res = False\n",
    "    sod = sum_of_digits(num)\n",
    "    if (num % sod == 0):\n",
    "        res = True\n",
    "    return res\n",
    "\n",
    "num = int(input('Enter number: '))\n",
    "\n",
    "if is_harshad_num(num):\n",
    "    print('%d is Harshad Number' % (num))\n",
    "else:\n",
    "    print('%d is Not Harshad Number' % (num))"
   ]
  },
  {
   "cell_type": "markdown",
   "id": "9dacee28",
   "metadata": {},
   "source": [
    "6. Write a Python program to print all pronic numbers between 1 and 100?"
   ]
  },
  {
   "cell_type": "code",
   "execution_count": 79,
   "id": "11cddb12",
   "metadata": {},
   "outputs": [
    {
     "name": "stdout",
     "output_type": "stream",
     "text": [
      "[2, 6, 12, 20, 30, 42, 56, 72, 90]\n"
     ]
    }
   ],
   "source": [
    "def find_all_pronic_num(start_num, end_num):\n",
    "    all_pronic_num = []\n",
    "    for num in range(start_num, end_num+1):\n",
    "        for j in range(1, num+1):\n",
    "            if ((j*(j+1)) == num):\n",
    "                all_pronic_num.append(num)\n",
    "                break\n",
    "    if len(all_pronic_num) > 0:\n",
    "        return all_pronic_num \n",
    "    else:\n",
    "        return \"Pronic Number Not Found!\"\n",
    "\n",
    "print(find_all_pronic_num(1, 100))"
   ]
  }
 ],
 "metadata": {
  "kernelspec": {
   "display_name": "Python 3 (ipykernel)",
   "language": "python",
   "name": "python3"
  },
  "language_info": {
   "codemirror_mode": {
    "name": "ipython",
    "version": 3
   },
   "file_extension": ".py",
   "mimetype": "text/x-python",
   "name": "python",
   "nbconvert_exporter": "python",
   "pygments_lexer": "ipython3",
   "version": "3.10.9"
  }
 },
 "nbformat": 4,
 "nbformat_minor": 5
}
