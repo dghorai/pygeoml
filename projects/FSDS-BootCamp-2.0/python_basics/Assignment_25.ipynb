{
 "cells": [
  {
   "cell_type": "markdown",
   "id": "81a2df95",
   "metadata": {},
   "source": [
    "1) . What is the difference between enclosing a list comprehension in square brackets and parentheses?"
   ]
  },
  {
   "cell_type": "markdown",
   "id": "0783ad66",
   "metadata": {},
   "source": [
    "Answer:"
   ]
  },
  {
   "cell_type": "code",
   "execution_count": 24,
   "id": "4c83d0d4",
   "metadata": {},
   "outputs": [
    {
     "name": "stdout",
     "output_type": "stream",
     "text": [
      "[0, 1, 2, 3, 4, 5, 6, 7, 8, 9]\n",
      "<class 'list'>\n"
     ]
    }
   ],
   "source": [
    "a_list_comp = [i for i in range(10)]\n",
    "print(a_list_comp)\n",
    "print(type(a_list_comp))"
   ]
  },
  {
   "cell_type": "code",
   "execution_count": 25,
   "id": "d02c41f8",
   "metadata": {},
   "outputs": [
    {
     "name": "stdout",
     "output_type": "stream",
     "text": [
      "<generator object <genexpr> at 0x000001FA86BF1F20>\n",
      "<class 'generator'>\n"
     ]
    }
   ],
   "source": [
    "a_list_comp = (i for i in range(10))\n",
    "print(a_list_comp)\n",
    "print(type(a_list_comp))"
   ]
  },
  {
   "cell_type": "markdown",
   "id": "5cf0ff01",
   "metadata": {},
   "source": [
    "Enclosing a list comprehension in square brackets retun a list where as enclosing a list comprehension in parentheses return a generator."
   ]
  },
  {
   "cell_type": "markdown",
   "id": "3a42fee5",
   "metadata": {},
   "source": [
    "2) What is the relationship between generators and iterators?"
   ]
  },
  {
   "cell_type": "markdown",
   "id": "cadd719e",
   "metadata": {},
   "source": [
    "Answer:\n",
    "\n",
    "--> In Python, an iterator is an object used to iterate over iterable objects such as lists, tuples, dictionaries, and sets. An object is called iterable if we can get an iterator from it or loop over it. A Python iterator object must implement two specific methods, iter() and next() , which are referred to collectively as the iterator protocol.\n",
    "\n",
    "--> Python has a generator that allows you to create your iterator function. A generator is somewhat of a function that returns an iterator object with a succession of values rather than a single item. A yield statement, rather than a return statement, is used in a generator function. The difference is that, although a return statement terminates a function completely, a yield statement pauses the function while storing all of its states and then continues from there on subsequent calls.\n",
    "\n",
    "--> Classes are used to Implement the iterators and functions are used to implement the generator.\n",
    "\n",
    "--> Every iterator is not a generator, but every generator is an iterator.\n",
    "\n",
    "--> Iterators in python are less memory efficient and Generators in Python are more memory efficient.\n",
    "\n",
    "--> No local variables are used in Iterators and in Generator, all the local variables are stored before the yield statement."
   ]
  },
  {
   "cell_type": "code",
   "execution_count": 16,
   "id": "2c2e3b57",
   "metadata": {},
   "outputs": [
    {
     "name": "stdout",
     "output_type": "stream",
     "text": [
      "iNeuron\n",
      "Full\n",
      "Stack\n",
      "Data Science\n",
      "BootCamp 2.0\n"
     ]
    }
   ],
   "source": [
    "# Example of iterartor\n",
    "iter_list = iter(['iNeuron','Full','Stack','Data Science', 'BootCamp 2.0'])\n",
    "print(next(iter_list))\n",
    "print(next(iter_list))\n",
    "print(next(iter_list))\n",
    "print(next(iter_list))\n",
    "print(next(iter_list))"
   ]
  },
  {
   "cell_type": "code",
   "execution_count": 23,
   "id": "d504823e",
   "metadata": {},
   "outputs": [
    {
     "name": "stdout",
     "output_type": "stream",
     "text": [
      "1\n",
      "4\n",
      "9\n"
     ]
    }
   ],
   "source": [
    "# Example of Generator\n",
    "def square(n):\n",
    "    for i in range(1, n+1):\n",
    "        yield i**2\n",
    "\n",
    "result = square(3)\n",
    "print(next(result))\n",
    "print(next(result))\n",
    "print(next(result))"
   ]
  },
  {
   "cell_type": "markdown",
   "id": "2dd29bd3",
   "metadata": {},
   "source": [
    "3) What are the signs that a function is a generator function?"
   ]
  },
  {
   "cell_type": "markdown",
   "id": "58e85538",
   "metadata": {},
   "source": [
    "Answer:\n",
    "\n",
    "A generator function uses a yield statement instead of a return statement. \n",
    "A generator function will always return a iterable object called generator where as a normal function can return a string or list or tuple or dict or NoneType, etc."
   ]
  },
  {
   "cell_type": "markdown",
   "id": "e359a3c5",
   "metadata": {},
   "source": [
    "4) What is the purpose of a yield statement?"
   ]
  },
  {
   "cell_type": "markdown",
   "id": "5c10c644",
   "metadata": {},
   "source": [
    "Answer:\n",
    "\n",
    "The yield statement prevents the function from continuing its execution and sends a value back to the caller, but it retains enough state to enable the function to resume where it left off. When the function begins again, execution continues immediately after the last yield run. This allows its code to produce a series of values over time, rather than computing them all at once and sending them back like a list."
   ]
  },
  {
   "cell_type": "markdown",
   "id": "6a61b5fc",
   "metadata": {},
   "source": [
    "5) What is the relationship between map calls and list comprehensions? Make a comparison and contrast between the two."
   ]
  },
  {
   "cell_type": "markdown",
   "id": "d88b47e9",
   "metadata": {},
   "source": [
    "Answer:\n",
    "\n",
    "--> List comprehensions are more concise and easy to read compared to map.\n",
    "\n",
    "--> List comprehensions allows filtering. In map calls, we do not have such facility. For example, to print all odd numbers in range of 50, we can write [n for n in range(50) if n%2 != 0]. There is no alternate for it in map calls.\n",
    "\n",
    "--> List comprehensions are used when a list of results is required as final output, but map calls only returns a map object. Perhaps, to get the desired output from map calls, we needs to be explicitly covert it to desired datatype.\n",
    "\n",
    "--> List comprehensions are faster than map calls when we need to evaluate expressions that are too long or complicated to express and map calls are faster in case of calling an already defined function on a set of values."
   ]
  }
 ],
 "metadata": {
  "kernelspec": {
   "display_name": "Python 3 (ipykernel)",
   "language": "python",
   "name": "python3"
  },
  "language_info": {
   "codemirror_mode": {
    "name": "ipython",
    "version": 3
   },
   "file_extension": ".py",
   "mimetype": "text/x-python",
   "name": "python",
   "nbconvert_exporter": "python",
   "pygments_lexer": "ipython3",
   "version": "3.11.1"
  }
 },
 "nbformat": 4,
 "nbformat_minor": 5
}
