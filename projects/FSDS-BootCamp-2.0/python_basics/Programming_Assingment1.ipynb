{
 "cells": [
  {
   "cell_type": "markdown",
   "id": "ea192de5",
   "metadata": {},
   "source": [
    "1.\tWrite a Python program to print \"Hello Python\"?"
   ]
  },
  {
   "cell_type": "code",
   "execution_count": 1,
   "id": "2d2edb8b",
   "metadata": {},
   "outputs": [
    {
     "name": "stdout",
     "output_type": "stream",
     "text": [
      "Hello Python\n"
     ]
    }
   ],
   "source": [
    "print(\"Hello Python\")"
   ]
  },
  {
   "cell_type": "markdown",
   "id": "dbb8a56e",
   "metadata": {},
   "source": [
    "2.\tWrite a Python program to do arithmetical operations addition and division.?"
   ]
  },
  {
   "cell_type": "code",
   "execution_count": 11,
   "id": "c5b76845",
   "metadata": {},
   "outputs": [
    {
     "name": "stdout",
     "output_type": "stream",
     "text": [
      "Enter first number: 10\n",
      "Enter second number: 5\n",
      "Sum of the two numbers: 15.0\n",
      "Division of the two numbers: 2.0\n"
     ]
    }
   ],
   "source": [
    "num_1 = float(input(\"Enter first number: \"))\n",
    "num_2 = float(input(\"Enter second number: \"))\n",
    "\n",
    "sum_num = num_1 + num_2\n",
    "print(\"Sum of the two numbers: {}\".format(sum_num))\n",
    "\n",
    "div_num = num_1 / num_2\n",
    "print(\"Division of the two numbers: {}\".format(div_num))"
   ]
  },
  {
   "cell_type": "markdown",
   "id": "601cb12e",
   "metadata": {},
   "source": [
    "3.\tWrite a Python program to find the area of a triangle?"
   ]
  },
  {
   "cell_type": "code",
   "execution_count": 10,
   "id": "5a4b0321",
   "metadata": {},
   "outputs": [
    {
     "name": "stdout",
     "output_type": "stream",
     "text": [
      "Enter base of the triangle: 5\n",
      "Enter height of the triangle: 10\n",
      "The area of the triangle is 25.0\n"
     ]
    }
   ],
   "source": [
    "base = float(input(\"Enter base of the triangle: \"))\n",
    "height = float(input(\"Enter height of the triangle: \"))\n",
    "\n",
    "triangle_area = (height*base)/2.0\n",
    "print(\"The area of the triangle is {}\".format(triangle_area))"
   ]
  },
  {
   "cell_type": "markdown",
   "id": "2c60fcd9",
   "metadata": {},
   "source": [
    "4.\tWrite a Python program to swap two variables?"
   ]
  },
  {
   "cell_type": "code",
   "execution_count": 14,
   "id": "691762a7",
   "metadata": {},
   "outputs": [
    {
     "name": "stdout",
     "output_type": "stream",
     "text": [
      "Enter value for var_1: 10\n",
      "Enter value for var_2: 20\n",
      "Before swap: var_1 = 10 and var_2 = 20\n",
      "After swap: var_1 = 20 and var_2 = 10\n"
     ]
    }
   ],
   "source": [
    "var_1 = input(\"Enter value for var_1: \")\n",
    "var_2 = input(\"Enter value for var_2: \")\n",
    "\n",
    "print(\"Before swap: var_1 = {} and var_2 = {}\".format(var_1, var_2))\n",
    "\n",
    "# create a temp vriable to store first variable value\n",
    "temp_var = var_1\n",
    "\n",
    "# swap variable values\n",
    "var_1 = var_2\n",
    "var_2 = temp_var\n",
    "\n",
    "print(\"After swap: var_1 = {} and var_2 = {}\".format(var_1, var_2))"
   ]
  },
  {
   "cell_type": "markdown",
   "id": "0738898c",
   "metadata": {},
   "source": [
    "5.\tWrite a Python program to generate a random number?"
   ]
  },
  {
   "cell_type": "code",
   "execution_count": 19,
   "id": "7f790872",
   "metadata": {},
   "outputs": [
    {
     "name": "stdout",
     "output_type": "stream",
     "text": [
      "Enter the start number: 5\n",
      "Enter the end number: 100\n",
      "Random number between 5 and 100 is 63\n"
     ]
    }
   ],
   "source": [
    "import random\n",
    "\n",
    "start_num = int(input(\"Enter the start number: \"))\n",
    "end_num = int(input(\"Enter the end number: \"))\n",
    "\n",
    "if start_num < end_num:\n",
    "    random_num = random.randint(start_num, end_num)\n",
    "    print(\"Random number between {} and {} is {}\".format(start_num, end_num, random_num))\n",
    "else:\n",
    "    random_num = random.randint(end_num, start_num)\n",
    "    print(\"Random number between {} and {} is {}\".format(end_num, start_num, random_num))"
   ]
  }
 ],
 "metadata": {
  "kernelspec": {
   "display_name": "Python 3 (ipykernel)",
   "language": "python",
   "name": "python3"
  },
  "language_info": {
   "codemirror_mode": {
    "name": "ipython",
    "version": 3
   },
   "file_extension": ".py",
   "mimetype": "text/x-python",
   "name": "python",
   "nbconvert_exporter": "python",
   "pygments_lexer": "ipython3",
   "version": "3.11.1"
  }
 },
 "nbformat": 4,
 "nbformat_minor": 5
}
