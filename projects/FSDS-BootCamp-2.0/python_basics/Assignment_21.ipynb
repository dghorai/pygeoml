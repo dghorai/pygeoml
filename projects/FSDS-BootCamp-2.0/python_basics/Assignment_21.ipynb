{
 "cells": [
  {
   "cell_type": "markdown",
   "id": "6a7aba76",
   "metadata": {},
   "source": [
    "1. Add the current date to the text file today.txt as a string."
   ]
  },
  {
   "cell_type": "code",
   "execution_count": 2,
   "id": "150c5fc4",
   "metadata": {},
   "outputs": [],
   "source": [
    "import datetime\n",
    "\n",
    "# add current date to the today.txt file\n",
    "file = open('today.txt','w')\n",
    "file.write(datetime.datetime.now().strftime(\"%d-%m-%Y\"))\n",
    "file.close()"
   ]
  },
  {
   "cell_type": "markdown",
   "id": "dc166f36",
   "metadata": {},
   "source": [
    "2. Read the text file today.txt into the string today_string"
   ]
  },
  {
   "cell_type": "code",
   "execution_count": 3,
   "id": "c459222e",
   "metadata": {},
   "outputs": [
    {
     "name": "stdout",
     "output_type": "stream",
     "text": [
      "06-03-2023\n"
     ]
    }
   ],
   "source": [
    "f = open('today.txt','r')\n",
    "today_string = f.read()\n",
    "print(today_string)"
   ]
  },
  {
   "cell_type": "markdown",
   "id": "34241d63",
   "metadata": {},
   "source": [
    "3. Parse the date from today_string."
   ]
  },
  {
   "cell_type": "code",
   "execution_count": 5,
   "id": "7938232c",
   "metadata": {},
   "outputs": [
    {
     "name": "stdout",
     "output_type": "stream",
     "text": [
      "2023-03-06 00:00:00\n"
     ]
    }
   ],
   "source": [
    "from datetime import datetime\n",
    "\n",
    "date = datetime.strptime(today_string, '%d-%m-%Y')\n",
    "print(date)"
   ]
  },
  {
   "cell_type": "markdown",
   "id": "13089c9f",
   "metadata": {},
   "source": [
    "4. List the files in your current directory"
   ]
  },
  {
   "cell_type": "code",
   "execution_count": 9,
   "id": "c1896352",
   "metadata": {},
   "outputs": [
    {
     "name": "stdout",
     "output_type": "stream",
     "text": [
      "assignments-urls.txt\n",
      "Assignment_21.docx\n",
      "Assignment_21.ipynb\n",
      "Assignment_22.docx\n",
      "Assignment_23.docx\n",
      "Assignment_24.docx\n",
      "Assignment_25.docx\n",
      "Programming_Assingment1.docx\n",
      "Programming_Assingment2.docx\n",
      "Programming_Assingment3.docx\n",
      "Programming_Assingment4.docx\n",
      "Programming_Assingment5.docx\n",
      "today.txt\n",
      "Assignment_21-checkpoint.ipynb\n"
     ]
    }
   ],
   "source": [
    "import os\n",
    "\n",
    "file_list = []\n",
    "for folders, subfolders, files in os.walk(os.getcwd()):\n",
    "    for f in files:\n",
    "        print(f)"
   ]
  },
  {
   "cell_type": "markdown",
   "id": "c7d963ce",
   "metadata": {},
   "source": [
    "5. Create a list of all of the files in your parent directory (minimum five files should be available)."
   ]
  },
  {
   "cell_type": "code",
   "execution_count": 10,
   "id": "acaad120",
   "metadata": {},
   "outputs": [
    {
     "name": "stdout",
     "output_type": "stream",
     "text": [
      "['.ipynb_checkpoints', 'assignments-urls.txt', 'Assignment_21.docx', 'Assignment_21.ipynb', 'Assignment_22.docx', 'Assignment_23.docx', 'Assignment_24.docx', 'Assignment_25.docx', 'Programming_Assingment1.docx', 'Programming_Assingment2.docx', 'Programming_Assingment3.docx', 'Programming_Assingment4.docx', 'Programming_Assingment5.docx', 'today.txt']\n"
     ]
    }
   ],
   "source": [
    "file_list = os.listdir(os.getcwd())\n",
    "print(file_list)"
   ]
  },
  {
   "cell_type": "markdown",
   "id": "07b54131",
   "metadata": {},
   "source": [
    "6. Use multiprocessing to create three separate processes. Make each one wait a random number of seconds between one and five, print the current time, and then exit."
   ]
  },
  {
   "cell_type": "code",
   "execution_count": 14,
   "id": "5a3293c1",
   "metadata": {},
   "outputs": [],
   "source": [
    "import time\n",
    "import datetime\n",
    "import multiprocessing\n",
    "import random\n",
    "\n",
    "\n",
    "def process_1():\n",
    "    print(f'process-1 start time: {datetime.datetime.now()}')\n",
    "    time.sleep(random.randint(1,5))\n",
    "    print(f'process-1 end time: {datetime.datetime.now()}')\n",
    "    \n",
    "def process_2():\n",
    "    print(f'process-2 start time: {datetime.datetime.now()}')\n",
    "    time.sleep(random.randint(1,5))\n",
    "    print(f'process-2 end time: {datetime.datetime.now()}')\n",
    "\n",
    "def process_3():\n",
    "    print(f'process-3 start time: {datetime.datetime.now()}')\n",
    "    time.sleep(random.randint(1,5))\n",
    "    print(f'process-3 end time: {datetime.datetime.now()}')\n",
    "    \n",
    "if __name__ == \"__main__\":    \n",
    "    p1 = multiprocessing.Process(target=process_1)\n",
    "    p2 = multiprocessing.Process(target=process_2)\n",
    "    p3 = multiprocessing.Process(target=process_3)\n",
    "\n",
    "    # start process\n",
    "    p1.start()\n",
    "    p2.start()\n",
    "    p3.start()\n",
    "\n",
    "    # wait for the process to finish\n",
    "    p1.join()\n",
    "    p2.join()\n",
    "    p3.join()"
   ]
  },
  {
   "cell_type": "markdown",
   "id": "be5b65a2",
   "metadata": {},
   "source": [
    "Due to not printing any output from Jupiter notebook for the above code, I'm using Python IDLE to run the above code and get the results below:\n",
    "\n",
    "process-3 start time: 2023-03-06 20:25:30.004858 \\\n",
    "process-3 end time: 2023-03-06 20:25:32.019990 \\\n",
    "process-1 start time: 2023-03-06 20:25:30.004858 \\\n",
    "process-1 end time: 2023-03-06 20:25:35.012379 \\\n",
    "process-2 start time: 2023-03-06 20:25:30.020482 \\\n",
    "process-2 end time: 2023-03-06 20:25:35.021410"
   ]
  },
  {
   "cell_type": "markdown",
   "id": "059b1de5",
   "metadata": {},
   "source": [
    "7. Create a date object of your day of birth."
   ]
  },
  {
   "cell_type": "code",
   "execution_count": 16,
   "id": "208c2872",
   "metadata": {},
   "outputs": [
    {
     "name": "stdout",
     "output_type": "stream",
     "text": [
      "1984-06-20 00:00:00\n",
      "<class 'datetime.datetime'>\n"
     ]
    }
   ],
   "source": [
    "import datetime\n",
    "\n",
    "dob = datetime.datetime.strptime('20/06/1984','%d/%m/%Y')\n",
    "\n",
    "print(dob)\n",
    "print(type(dob))"
   ]
  },
  {
   "cell_type": "markdown",
   "id": "b6a42b4f",
   "metadata": {},
   "source": [
    "8. What day of the week was your day of birth?"
   ]
  },
  {
   "cell_type": "code",
   "execution_count": 17,
   "id": "9540b619",
   "metadata": {},
   "outputs": [
    {
     "name": "stdout",
     "output_type": "stream",
     "text": [
      "Wednesday\n"
     ]
    }
   ],
   "source": [
    "import datetime\n",
    "\n",
    "day_of_birth = dob.strftime(\"%A\")\n",
    "\n",
    "print(day_of_birth)"
   ]
  },
  {
   "cell_type": "markdown",
   "id": "c539d4be",
   "metadata": {},
   "source": [
    "9. When will you be (or when were you) 10,000 days old?"
   ]
  },
  {
   "cell_type": "code",
   "execution_count": 27,
   "id": "91e2ae2b",
   "metadata": {},
   "outputs": [
    {
     "name": "stdout",
     "output_type": "stream",
     "text": [
      "02 Feb, 1957\n"
     ]
    }
   ],
   "source": [
    "import datetime\n",
    "\n",
    "dob = datetime.datetime.strptime('20/06/1984','%d/%m/%Y')\n",
    "\n",
    "days_10000 = (dob - datetime.timedelta(10000)).strftime(\"%d %b, %Y\")\n",
    "\n",
    "print(days_10000)"
   ]
  }
 ],
 "metadata": {
  "kernelspec": {
   "display_name": "Python 3 (ipykernel)",
   "language": "python",
   "name": "python3"
  },
  "language_info": {
   "codemirror_mode": {
    "name": "ipython",
    "version": 3
   },
   "file_extension": ".py",
   "mimetype": "text/x-python",
   "name": "python",
   "nbconvert_exporter": "python",
   "pygments_lexer": "ipython3",
   "version": "3.11.1"
  }
 },
 "nbformat": 4,
 "nbformat_minor": 5
}
