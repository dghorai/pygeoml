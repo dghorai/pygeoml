{
 "cells": [
  {
   "cell_type": "markdown",
   "id": "44957f79",
   "metadata": {},
   "source": [
    "1.\tWrite a Python program to convert kilometers to miles?"
   ]
  },
  {
   "cell_type": "code",
   "execution_count": 3,
   "id": "2e5ca21d",
   "metadata": {},
   "outputs": [
    {
     "name": "stdout",
     "output_type": "stream",
     "text": [
      "Enter value in kilometers: 100\n",
      "100.00 kilometers is equal to 62.14 miles\n"
     ]
    }
   ],
   "source": [
    "km = float(input(\"Enter value in kilometers: \"))\n",
    "\n",
    "# conversion factor from km to miles\n",
    "C = 0.621371\n",
    "\n",
    "# calculate miles\n",
    "miles = km * C\n",
    "print(\"%0.2f kilometers is equal to %0.2f miles\" %(km, miles))"
   ]
  },
  {
   "cell_type": "markdown",
   "id": "314d45f4",
   "metadata": {},
   "source": [
    "2.\tWrite a Python program to convert Celsius to Fahrenheit?"
   ]
  },
  {
   "cell_type": "code",
   "execution_count": 5,
   "id": "dd9d0807",
   "metadata": {},
   "outputs": [
    {
     "name": "stdout",
     "output_type": "stream",
     "text": [
      "Enter temperature in degree celsius: 21.2\n",
      "21.2 degree Celsius is equal to 70.2 degree Fahrenheit\n"
     ]
    }
   ],
   "source": [
    "celsius = float(input(\"Enter temperature in degree celsius: \"))\n",
    "\n",
    "# conversion factor from celsius to fahrenheit\n",
    "A = 1.8\n",
    "B = 32\n",
    "\n",
    "# calculate fahrenheit\n",
    "fahrenheit = (celsius * A) + B\n",
    "print(\"%0.1f degree Celsius is equal to %0.1f degree Fahrenheit\" %(celsius, fahrenheit))"
   ]
  },
  {
   "cell_type": "markdown",
   "id": "e8eb5818",
   "metadata": {},
   "source": [
    "3.\tWrite a Python program to display calendar?"
   ]
  },
  {
   "cell_type": "code",
   "execution_count": 6,
   "id": "0fc7614b",
   "metadata": {},
   "outputs": [
    {
     "name": "stdout",
     "output_type": "stream",
     "text": [
      "Enter year: 2023\n",
      "Enter month of the year: 3\n",
      "     March 2023\n",
      "Mo Tu We Th Fr Sa Su\n",
      "       1  2  3  4  5\n",
      " 6  7  8  9 10 11 12\n",
      "13 14 15 16 17 18 19\n",
      "20 21 22 23 24 25 26\n",
      "27 28 29 30 31\n",
      "\n"
     ]
    }
   ],
   "source": [
    "import calendar\n",
    "\n",
    "# Get month and year input from the user\n",
    "year = int(input(\"Enter year: \"))\n",
    "Month = int(input(\"Enter month of the year: \"))\n",
    "\n",
    "# display the calendar\n",
    "print(calendar.month(year, Month))"
   ]
  },
  {
   "cell_type": "code",
   "execution_count": 7,
   "id": "2c5cde15",
   "metadata": {},
   "outputs": [
    {
     "name": "stdout",
     "output_type": "stream",
     "text": [
      "Enter year: 2023\n",
      "                                  2023\n",
      "\n",
      "      January                   February                   March\n",
      "Mo Tu We Th Fr Sa Su      Mo Tu We Th Fr Sa Su      Mo Tu We Th Fr Sa Su\n",
      "                   1             1  2  3  4  5             1  2  3  4  5\n",
      " 2  3  4  5  6  7  8       6  7  8  9 10 11 12       6  7  8  9 10 11 12\n",
      " 9 10 11 12 13 14 15      13 14 15 16 17 18 19      13 14 15 16 17 18 19\n",
      "16 17 18 19 20 21 22      20 21 22 23 24 25 26      20 21 22 23 24 25 26\n",
      "23 24 25 26 27 28 29      27 28                     27 28 29 30 31\n",
      "30 31\n",
      "\n",
      "       April                      May                       June\n",
      "Mo Tu We Th Fr Sa Su      Mo Tu We Th Fr Sa Su      Mo Tu We Th Fr Sa Su\n",
      "                1  2       1  2  3  4  5  6  7                1  2  3  4\n",
      " 3  4  5  6  7  8  9       8  9 10 11 12 13 14       5  6  7  8  9 10 11\n",
      "10 11 12 13 14 15 16      15 16 17 18 19 20 21      12 13 14 15 16 17 18\n",
      "17 18 19 20 21 22 23      22 23 24 25 26 27 28      19 20 21 22 23 24 25\n",
      "24 25 26 27 28 29 30      29 30 31                  26 27 28 29 30\n",
      "\n",
      "        July                     August                  September\n",
      "Mo Tu We Th Fr Sa Su      Mo Tu We Th Fr Sa Su      Mo Tu We Th Fr Sa Su\n",
      "                1  2          1  2  3  4  5  6                   1  2  3\n",
      " 3  4  5  6  7  8  9       7  8  9 10 11 12 13       4  5  6  7  8  9 10\n",
      "10 11 12 13 14 15 16      14 15 16 17 18 19 20      11 12 13 14 15 16 17\n",
      "17 18 19 20 21 22 23      21 22 23 24 25 26 27      18 19 20 21 22 23 24\n",
      "24 25 26 27 28 29 30      28 29 30 31               25 26 27 28 29 30\n",
      "31\n",
      "\n",
      "      October                   November                  December\n",
      "Mo Tu We Th Fr Sa Su      Mo Tu We Th Fr Sa Su      Mo Tu We Th Fr Sa Su\n",
      "                   1             1  2  3  4  5                   1  2  3\n",
      " 2  3  4  5  6  7  8       6  7  8  9 10 11 12       4  5  6  7  8  9 10\n",
      " 9 10 11 12 13 14 15      13 14 15 16 17 18 19      11 12 13 14 15 16 17\n",
      "16 17 18 19 20 21 22      20 21 22 23 24 25 26      18 19 20 21 22 23 24\n",
      "23 24 25 26 27 28 29      27 28 29 30               25 26 27 28 29 30 31\n",
      "30 31\n",
      "\n"
     ]
    }
   ],
   "source": [
    "# Get year input from user to display calendar for enrire year\n",
    "year = int(input(\"Enter year: \"))\n",
    "\n",
    "# display the calendar\n",
    "print(calendar.calendar(year))"
   ]
  },
  {
   "cell_type": "markdown",
   "id": "f720ce54",
   "metadata": {},
   "source": [
    "4.\tWrite a Python program to solve quadratic equation?"
   ]
  },
  {
   "cell_type": "code",
   "execution_count": 12,
   "id": "ac3e6327",
   "metadata": {},
   "outputs": [
    {
     "name": "stdout",
     "output_type": "stream",
     "text": [
      "Enter value for a: 1\n",
      "Enter value for b: 2\n",
      "Enter value for c: 1\n",
      "0\n",
      "The solution are -1.0 and -1.0\n"
     ]
    }
   ],
   "source": [
    "import cmath\n",
    "\n",
    "a = int(input(\"Enter value for a: \"))\n",
    "b = int(input(\"Enter value for b: \"))\n",
    "c = int(input(\"Enter value for c: \"))\n",
    "\n",
    "# calculate the discriminant\n",
    "d = (b**2) - (4*a*c)\n",
    "print(d)\n",
    "\n",
    "# find two solutions\n",
    "if d == 0:\n",
    "    sol1 = -b/(2*a)\n",
    "    sol2 = -b/(2*a)\n",
    "else:\n",
    "    sol1 = (-b-cmath.sqrt(d))/(2*a)\n",
    "    sol2 = (-b+cmath.sqrt(d))/(2*a)\n",
    "\n",
    "print('The solution are {} and {}'.format(sol1, sol2))"
   ]
  },
  {
   "cell_type": "markdown",
   "id": "7fbcf816",
   "metadata": {},
   "source": [
    "5.\tWrite a Python program to swap two variables without temp variable?"
   ]
  },
  {
   "cell_type": "code",
   "execution_count": 14,
   "id": "663d8921",
   "metadata": {},
   "outputs": [
    {
     "name": "stdout",
     "output_type": "stream",
     "text": [
      "Enter value for variable x: age\n",
      "Enter value for variable y: 30\n",
      "Before swapping: value of x is age and value of y is 30\n",
      "After swapping: value of x is 30 and value of y is age\n"
     ]
    }
   ],
   "source": [
    "x = input(\"Enter value for variable x: \")\n",
    "y = input(\"Enter value for variable y: \")\n",
    " \n",
    "print (\"Before swapping: value of x is {} and value of y is {}\".format(x, y))\n",
    " \n",
    "# code to swap 'x' and 'y'\n",
    "x, y = y, x\n",
    "\n",
    "print (\"After swapping: value of x is {} and value of y is {}\".format(x, y))"
   ]
  }
 ],
 "metadata": {
  "kernelspec": {
   "display_name": "Python 3 (ipykernel)",
   "language": "python",
   "name": "python3"
  },
  "language_info": {
   "codemirror_mode": {
    "name": "ipython",
    "version": 3
   },
   "file_extension": ".py",
   "mimetype": "text/x-python",
   "name": "python",
   "nbconvert_exporter": "python",
   "pygments_lexer": "ipython3",
   "version": "3.11.1"
  }
 },
 "nbformat": 4,
 "nbformat_minor": 5
}
