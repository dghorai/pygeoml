{
 "cells": [
  {
   "cell_type": "markdown",
   "id": "e3874b9d",
   "metadata": {},
   "source": [
    "1. Write a Python program to find words which are greater than given length k?"
   ]
  },
  {
   "cell_type": "code",
   "execution_count": 2,
   "id": "cfbc03f1",
   "metadata": {},
   "outputs": [
    {
     "name": "stdout",
     "output_type": "stream",
     "text": [
      "Enter the string: iNeuron Full Stack Data Science BootCamp 2.0\n",
      "Enter length of the words to find: 5\n",
      "Words length greater than 5 are iNeuron, Science, BootCamp\n"
     ]
    }
   ],
   "source": [
    "def find_words_klen(k, strings):\n",
    "    string = []\n",
    "    text = strings.split(\" \")\n",
    "    for x in text:\n",
    "        if len(x) > k:\n",
    "            string.append(x)\n",
    "    return \", \".join(i for i in string)\n",
    "\n",
    "words = input(\"Enter the string: \")\n",
    "n = int(input(\"Enter length of the words to find: \"))\n",
    "print(f'Words length greater than {n} are {find_words_klen(n, words)}')"
   ]
  },
  {
   "cell_type": "markdown",
   "id": "e5828080",
   "metadata": {},
   "source": [
    "2. Write a Python program for removing i-th character from a string?"
   ]
  },
  {
   "cell_type": "code",
   "execution_count": 5,
   "id": "325faacd",
   "metadata": {},
   "outputs": [
    {
     "name": "stdout",
     "output_type": "stream",
     "text": [
      "Enter the string: iNeuron\n",
      "Enter the ith character number: 1\n"
     ]
    },
    {
     "data": {
      "text/plain": [
       "'Neuron'"
      ]
     },
     "execution_count": 5,
     "metadata": {},
     "output_type": "execute_result"
    }
   ],
   "source": [
    "def remove_ith_character(in_string, ith_no):\n",
    "    new_string = ''\n",
    "    for i in range(len(in_string)):\n",
    "        if i != ith_no-1:\n",
    "            new_string = new_string + in_string[i]\n",
    "    return new_string\n",
    "\n",
    "in_string = input(\"Enter the string: \")\n",
    "ith_no = int(input(\"Enter the ith character number: \"))\n",
    "remove_ith_character(in_string, ith_no)"
   ]
  },
  {
   "cell_type": "markdown",
   "id": "7a440e96",
   "metadata": {},
   "source": [
    "3. Write a Python program to split and join a string?"
   ]
  },
  {
   "cell_type": "code",
   "execution_count": 7,
   "id": "152d0fb4",
   "metadata": {},
   "outputs": [
    {
     "name": "stdout",
     "output_type": "stream",
     "text": [
      "Enter the string: iNeuron Full Stack Data Science BootCamp 2.0\n",
      "Split string: ['iNeuron', 'Full', 'Stack', 'Data', 'Science', 'BootCamp', '2.0']\n",
      "Join string: iNeuron Full Stack Data Science BootCamp 2.0\n"
     ]
    }
   ],
   "source": [
    "def split_string(in_string):\n",
    "    return in_string.split()\n",
    "\n",
    "def join_string(string_list):\n",
    "    return \" \".join(string_list)\n",
    "\n",
    "in_string = input('Enter the string: ')\n",
    "string_split = split_string(in_string)\n",
    "print(f'Split string: {string_split}')\n",
    "print(f'Join string: {join_string(string_split)}')"
   ]
  },
  {
   "cell_type": "markdown",
   "id": "98516d87",
   "metadata": {},
   "source": [
    "4. Write a Python to check if a given string is binary string or not?"
   ]
  },
  {
   "cell_type": "code",
   "execution_count": 9,
   "id": "a2df3d36",
   "metadata": {},
   "outputs": [
    {
     "name": "stdout",
     "output_type": "stream",
     "text": [
      "Enter the string: 101010000111\n",
      "101010000111 is a binary string\n"
     ]
    }
   ],
   "source": [
    "def check_binary_string(string):\n",
    "    p = set(string)\n",
    "    \n",
    "    s = {'0', '1'}\n",
    "    \n",
    "    if s == p or p == {'0'} or p == {'1'}:\n",
    "        print(f'{string} is a binary string')\n",
    "    else:\n",
    "        print(f'{string} is not a binary string')\n",
    "\n",
    "in_string = input('Enter the string: ')\n",
    "check_binary_string(in_string)"
   ]
  },
  {
   "cell_type": "markdown",
   "id": "c144ed76",
   "metadata": {},
   "source": [
    "5. Write a Python program to find uncommon words from two Strings?"
   ]
  },
  {
   "cell_type": "code",
   "execution_count": 16,
   "id": "23120aa7",
   "metadata": {},
   "outputs": [
    {
     "name": "stdout",
     "output_type": "stream",
     "text": [
      "Enter the first string: \"Apple Ball Cat Dog\"\n",
      "Enter the second string: \"Apple Cat Egg\"\n",
      "['Ball', 'Dog\"', 'Egg\"']\n"
     ]
    }
   ],
   "source": [
    "def find_uncommon_words(str1, str2):\n",
    "    str_lst = str1.split() + str2.split()\n",
    "    frequency = {}\n",
    "    for i in str_lst:\n",
    "        if i in frequency:\n",
    "            frequency[i] += 1\n",
    "        else:\n",
    "            frequency[i] = 1\n",
    "    \n",
    "    # uncommon\n",
    "    uncommon = []\n",
    "    for j in frequency.keys():\n",
    "        if frequency[j] == 1:\n",
    "            uncommon.append(j)\n",
    "            \n",
    "    return uncommon\n",
    "    \n",
    "s1 = input('Enter the first string: ')\n",
    "s2 = input('Enter the second string: ')\n",
    "print(find_uncommon_words(s1, s2))"
   ]
  },
  {
   "cell_type": "markdown",
   "id": "1e91905c",
   "metadata": {},
   "source": [
    "6. Write a Python to find all duplicate characters in string?"
   ]
  },
  {
   "cell_type": "code",
   "execution_count": 27,
   "id": "4c809f86",
   "metadata": {},
   "outputs": [
    {
     "name": "stdout",
     "output_type": "stream",
     "text": [
      "Enter the string: apple ball cat\n",
      "Duplicate characters are ['a', 'p', 'l']\n"
     ]
    }
   ],
   "source": [
    "def find_duplicate_characters(in_str):\n",
    "    str_lst = [i for i in list(in_str) if i.isalpha()]\n",
    "    frequency = {}\n",
    "    for i in str_lst:\n",
    "        if i in frequency:\n",
    "            frequency[i] += 1\n",
    "        else:\n",
    "            frequency[i] = 1\n",
    "    \n",
    "    # duplicate\n",
    "    duplicate = []\n",
    "    for j in frequency.keys():\n",
    "        if frequency[j] > 1:\n",
    "            duplicate.append(j)\n",
    "            \n",
    "    return duplicate\n",
    "\n",
    "string = input('Enter the string: ')\n",
    "print(f'Duplicate characters are {find_duplicate_characters(string)}')"
   ]
  },
  {
   "cell_type": "markdown",
   "id": "448a2706",
   "metadata": {},
   "source": [
    "7. Write a Python Program to check if a string contains any special character?"
   ]
  },
  {
   "cell_type": "code",
   "execution_count": 31,
   "id": "65d12265",
   "metadata": {},
   "outputs": [
    {
     "name": "stdout",
     "output_type": "stream",
     "text": [
      "Enter a string: @Hello, World\n",
      "String contains special character\n"
     ]
    }
   ],
   "source": [
    "import re\n",
    " \n",
    "def find_special_character(string):\n",
    "    regex = re.compile('[@_!#$%^&*()<>?/\\|}{~:]')\n",
    "    if(regex.search(string) == None):\n",
    "        print(\"String contains no special character\")\n",
    "    else:\n",
    "        print(\"String contains special character\")\n",
    "\n",
    "string = input(\"Enter a string: \")\n",
    "find_special_character(string)"
   ]
  }
 ],
 "metadata": {
  "kernelspec": {
   "display_name": "Python 3 (ipykernel)",
   "language": "python",
   "name": "python3"
  },
  "language_info": {
   "codemirror_mode": {
    "name": "ipython",
    "version": 3
   },
   "file_extension": ".py",
   "mimetype": "text/x-python",
   "name": "python",
   "nbconvert_exporter": "python",
   "pygments_lexer": "ipython3",
   "version": "3.10.9"
  }
 },
 "nbformat": 4,
 "nbformat_minor": 5
}
