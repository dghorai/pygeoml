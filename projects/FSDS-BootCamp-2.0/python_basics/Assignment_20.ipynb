{
 "cells": [
  {
   "cell_type": "markdown",
   "id": "88964121",
   "metadata": {},
   "source": [
    "1. Set the variable test1 to the string 'This is a test of the emergency text system,' and save test1 to a file named test.txt."
   ]
  },
  {
   "cell_type": "code",
   "execution_count": 1,
   "id": "cf79790e",
   "metadata": {},
   "outputs": [
    {
     "name": "stdout",
     "output_type": "stream",
     "text": [
      "This is a test of the emergency text system\n"
     ]
    }
   ],
   "source": [
    "test1 = \"This is a test of the emergency text system\"\n",
    "print(test1)\n",
    "\n",
    "# save test1 to a file named test.txt\n",
    "with open('test.txt','w') as f:\n",
    "    f.write(test1)\n",
    "    f.close()"
   ]
  },
  {
   "cell_type": "markdown",
   "id": "6ed7ae7d",
   "metadata": {},
   "source": [
    "2. Read the contents of the file test.txt into the variable test2. Is there a difference between test 1 and test 2?"
   ]
  },
  {
   "cell_type": "code",
   "execution_count": 2,
   "id": "0261e407",
   "metadata": {},
   "outputs": [
    {
     "name": "stdout",
     "output_type": "stream",
     "text": [
      "This is a test of the emergency text system\n",
      "True\n"
     ]
    }
   ],
   "source": [
    "# get the \n",
    "import os\n",
    "base_path = os.getcwd()\n",
    "text_file = os.path.join(base_path, \"test.txt\")\n",
    "\n",
    "with open(text_file,'r') as file:\n",
    "    test2 = file.read()\n",
    "    \n",
    "print(test2) \n",
    "print(test1 == test2)\n"
   ]
  },
  {
   "cell_type": "markdown",
   "id": "be9e3c37",
   "metadata": {},
   "source": [
    "3. Create a CSV file called books.csv by using these lines:\n",
    "\n",
    "title,author,year\n",
    "\n",
    "The Weirdstone of Brisingamen,Alan Garner,1960\n",
    "\n",
    "Perdido Street Station,China Miéville,2000\n",
    "\n",
    "Thud!,Terry Pratchett,2005\n",
    "\n",
    "The Spellman Files,Lisa Lutz,2007\n",
    "\n",
    "Small Gods,Terry Pratchett,1992"
   ]
  },
  {
   "cell_type": "code",
   "execution_count": 19,
   "id": "efcae3a9",
   "metadata": {},
   "outputs": [],
   "source": [
    "text = \"\"\"title,author,year\n",
    "The Weirdstone of Brisingamen,Alan Garner,1960\n",
    "Perdido Street Station,China Miéville,2000\n",
    "Thud!,Terry Pratchett,2005\n",
    "The Spellman Files,Lisa Lutz,2007\n",
    "Small Gods,Terry Pratchett,1992\"\"\"\n",
    "\n",
    "with open('books.csv','w') as f:\n",
    "    f.write(text)\n",
    "    f.close()"
   ]
  },
  {
   "cell_type": "markdown",
   "id": "4526a6a8",
   "metadata": {},
   "source": [
    "4. Use the sqlite3 module to create a SQLite database called books.db, and a table called books with these fields: title (text), author (text), and year (integer)."
   ]
  },
  {
   "cell_type": "code",
   "execution_count": 6,
   "id": "787c7a98",
   "metadata": {},
   "outputs": [],
   "source": [
    "import sqlite3\n",
    "\n",
    "db = sqlite3.connect('books.db')\n",
    "\n",
    "cursor = db.cursor()\n",
    "cursor.execute(\"CREATE TABLE books (title text, author text, year int)\")\n",
    "db.commit()\n",
    "db.close()"
   ]
  },
  {
   "cell_type": "markdown",
   "id": "071d3e55",
   "metadata": {},
   "source": [
    "5. Read books.csv and insert its data into the book table."
   ]
  },
  {
   "cell_type": "code",
   "execution_count": 22,
   "id": "24be966e",
   "metadata": {},
   "outputs": [],
   "source": [
    "import csv\n",
    "import sqlite3\n",
    "\n",
    "conn = sqlite3.connect(\"books.db\")\n",
    "\n",
    "cursor = conn.cursor()\n",
    "\n",
    "with open(\"books.csv\",\"r\") as f:\n",
    "    reader = csv.DictReader(f)\n",
    "    for row in reader:\n",
    "        title = row['title']\n",
    "        author = row['author']\n",
    "        year = row['year']\n",
    "        insert_records = (title, author, year)\n",
    "        insert_query = '''INSERT INTO books(title, author, year) VALUES(?, ?, ?)'''\n",
    "        cursor.execute(insert_query, insert_records)\n",
    "        \n",
    "conn.commit()\n",
    "conn.close()"
   ]
  },
  {
   "cell_type": "markdown",
   "id": "261b45d8",
   "metadata": {},
   "source": [
    "6. Select and print the title column from the book table in alphabetical order."
   ]
  },
  {
   "cell_type": "code",
   "execution_count": 25,
   "id": "cd0b2c53",
   "metadata": {},
   "outputs": [
    {
     "name": "stdout",
     "output_type": "stream",
     "text": [
      "Perdido Street Station\n",
      "Small Gods\n",
      "The Spellman Files\n",
      "The Weirdstone of Brisingamen\n",
      "Thud!\n"
     ]
    }
   ],
   "source": [
    "import sqlite3\n",
    "\n",
    "conn = sqlite3.connect('books.db')\n",
    "\n",
    "cursor = conn.cursor()\n",
    "results = cursor.execute(\"SELECT title FROM books ORDER BY title ASC\")\n",
    "\n",
    "for res in results:\n",
    "    print(res[0])\n",
    "\n",
    "conn.close()"
   ]
  },
  {
   "cell_type": "markdown",
   "id": "6d613e74",
   "metadata": {},
   "source": [
    "7. From the book table, select and print all columns in the order of publication."
   ]
  },
  {
   "cell_type": "code",
   "execution_count": 26,
   "id": "9d743ac2",
   "metadata": {},
   "outputs": [
    {
     "name": "stdout",
     "output_type": "stream",
     "text": [
      "('The Weirdstone of Brisingamen', 'Alan Garner', 1960)\n",
      "('Small Gods', 'Terry Pratchett', 1992)\n",
      "('Perdido Street Station', 'China Miéville', 2000)\n",
      "('Thud!', 'Terry Pratchett', 2005)\n",
      "('The Spellman Files', 'Lisa Lutz', 2007)\n"
     ]
    }
   ],
   "source": [
    "import sqlite3\n",
    "\n",
    "conn = sqlite3.connect('books.db')\n",
    "\n",
    "cursor = conn.cursor()\n",
    "results = cursor.execute(\"SELECT * FROM books ORDER BY year\")\n",
    "\n",
    "for record in results:\n",
    "    print(record)\n",
    "\n",
    "conn.close()"
   ]
  },
  {
   "cell_type": "markdown",
   "id": "ac2ddfa1",
   "metadata": {},
   "source": [
    "8. Use the sqlalchemy module to connect to the sqlite3 database books.db that you just made in exercise 6."
   ]
  },
  {
   "cell_type": "code",
   "execution_count": 29,
   "id": "4973f4d1",
   "metadata": {},
   "outputs": [
    {
     "data": {
      "text/plain": [
       "Engine(sqlite:///books.db)"
      ]
     },
     "execution_count": 29,
     "metadata": {},
     "output_type": "execute_result"
    }
   ],
   "source": [
    "# install sqlalchemy\n",
    "# !pip install SQLAlchemy\n",
    "\n",
    "import sqlalchemy\n",
    "\n",
    "conn = sqlalchemy.create_engine('sqlite:///books.db')\n",
    "conn"
   ]
  },
  {
   "cell_type": "markdown",
   "id": "a2102952",
   "metadata": {},
   "source": [
    "9. Install the Redis server and the Python redis library (pip install redis) on your computer. Create a Redis hash called test with the fields count (1) and name ('Fester Bestertester'). Print all the fields for test."
   ]
  },
  {
   "cell_type": "code",
   "execution_count": 32,
   "id": "1aa5a513",
   "metadata": {},
   "outputs": [
    {
     "name": "stdout",
     "output_type": "stream",
     "text": [
      "Requirement already satisfied: redis in /home/ghorai/miniconda3/envs/venv/lib/python3.10/site-packages (4.5.1)\r\n",
      "Requirement already satisfied: async-timeout>=4.0.2 in /home/ghorai/miniconda3/envs/venv/lib/python3.10/site-packages (from redis) (4.0.2)\r\n"
     ]
    }
   ],
   "source": [
    "!python -m pip install redis"
   ]
  },
  {
   "cell_type": "code",
   "execution_count": 39,
   "id": "042ae6c8",
   "metadata": {},
   "outputs": [
    {
     "name": "stderr",
     "output_type": "stream",
     "text": [
      "/tmp/ipykernel_11691/2817046949.py:8: DeprecationWarning: Redis.hmset() is deprecated. Use Redis.hset() instead.\n",
      "  r_conn.hmset(hashName,  {\"count\":1, \"name\":\"Fester Bestertester\"})\n"
     ]
    },
    {
     "data": {
      "text/plain": [
       "{b'count': b'1', b'name': b'Fester Bestertester'}"
      ]
     },
     "execution_count": 39,
     "metadata": {},
     "output_type": "execute_result"
    }
   ],
   "source": [
    "import redis\n",
    "\n",
    "# create the redis connection\n",
    "r_conn = redis.Redis(host='localhost', port=6379)\n",
    "\n",
    "# add key value pairs to the Redis hash\n",
    "hashName = \"test\"\n",
    "r_conn.hmset(hashName,  {\"count\":1, \"name\":\"Fester Bestertester\"})\n",
    "\n",
    "# print\n",
    "r_conn.hgetall(hashName)"
   ]
  },
  {
   "cell_type": "markdown",
   "id": "4ae1a7b8",
   "metadata": {},
   "source": [
    "10. Increment the count field of test and print it."
   ]
  },
  {
   "cell_type": "code",
   "execution_count": 40,
   "id": "9ac65974",
   "metadata": {},
   "outputs": [
    {
     "data": {
      "text/plain": [
       "b'2'"
      ]
     },
     "execution_count": 40,
     "metadata": {},
     "output_type": "execute_result"
    }
   ],
   "source": [
    "r_conn.hincrby(hashName, \"count\", 1)\n",
    "r_conn.hget(hashName, \"count\")"
   ]
  }
 ],
 "metadata": {
  "kernelspec": {
   "display_name": "Python 3 (ipykernel)",
   "language": "python",
   "name": "python3"
  },
  "language_info": {
   "codemirror_mode": {
    "name": "ipython",
    "version": 3
   },
   "file_extension": ".py",
   "mimetype": "text/x-python",
   "name": "python",
   "nbconvert_exporter": "python",
   "pygments_lexer": "ipython3",
   "version": "3.10.9"
  }
 },
 "nbformat": 4,
 "nbformat_minor": 5
}
