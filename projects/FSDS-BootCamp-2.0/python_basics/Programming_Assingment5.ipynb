{
 "cells": [
  {
   "cell_type": "markdown",
   "id": "db3ee21f",
   "metadata": {},
   "source": [
    "1.\tWrite a Python Program to Find LCM?"
   ]
  },
  {
   "cell_type": "code",
   "execution_count": 4,
   "id": "147c4ea2",
   "metadata": {},
   "outputs": [
    {
     "name": "stdout",
     "output_type": "stream",
     "text": [
      "The LCM of 1, 3 is 3\n",
      "The LCM of 10, 5 is 10\n",
      "The LCM of 51, 500 is 25500\n"
     ]
    }
   ],
   "source": [
    "def find_lcm(x, y):\n",
    "    if x > y:\n",
    "        greater = x\n",
    "    else:\n",
    "        greater = y\n",
    "    \n",
    "    while True:\n",
    "        if (greater%x == 0) and (greater%y == 0):\n",
    "            lcm = greater\n",
    "            break\n",
    "        greater += 1\n",
    "    \n",
    "    print(f'The LCM of {x}, {y} is {lcm}')\n",
    "\n",
    "find_lcm(1, 3)\n",
    "find_lcm(10, 5)\n",
    "find_lcm(51, 500)"
   ]
  },
  {
   "cell_type": "markdown",
   "id": "26e41003",
   "metadata": {},
   "source": [
    "2.\tWrite a Python Program to Find HCF?"
   ]
  },
  {
   "cell_type": "code",
   "execution_count": 5,
   "id": "2f68b6bd",
   "metadata": {},
   "outputs": [
    {
     "name": "stdout",
     "output_type": "stream",
     "text": [
      "The HCF of 1, 3 is 1\n",
      "The HCF of 10, 5 is 5\n",
      "The HCF of 51, 500 is 1\n"
     ]
    }
   ],
   "source": [
    "def find_hcf(x, y):\n",
    "    if x > y:\n",
    "        smaller = y\n",
    "    else:\n",
    "        smaller = x\n",
    "    \n",
    "    for i in range(1, smaller+1):\n",
    "        if (x%i == 0) and (y%i == 0):\n",
    "            hcf = i\n",
    "    \n",
    "    print(f'The HCF of {x}, {y} is {hcf}')\n",
    "\n",
    "find_hcf(1, 3)\n",
    "find_hcf(10, 5)\n",
    "find_hcf(51, 500)"
   ]
  },
  {
   "cell_type": "markdown",
   "id": "b0b822bf",
   "metadata": {},
   "source": [
    "3.\tWrite a Python Program to Convert Decimal to Binary, Octal and Hexadecimal?"
   ]
  },
  {
   "cell_type": "code",
   "execution_count": 7,
   "id": "77accb89",
   "metadata": {},
   "outputs": [
    {
     "name": "stdout",
     "output_type": "stream",
     "text": [
      "Enter a decimal number: 100\n",
      "The decimal value of 100 is 0b1100100 in binary.\n",
      "The decimal value of 100 is 0o144 in octal.\n",
      "The decimal value of 100 is 0x64 in hexadecimal.\n"
     ]
    }
   ],
   "source": [
    "def decimalConverter(decimal, convert_to=None):\n",
    "    if convert_to == \"Binary\":\n",
    "        res = bin(decimal)\n",
    "    elif convert_to == \"Octal\":\n",
    "        res = oct(decimal)\n",
    "    elif convert_to == \"Hexadecimal\":\n",
    "        res = hex(decimal)\n",
    "    return res\n",
    "\n",
    "decimal = int(input(\"Enter a decimal number: \"))\n",
    "print(\"The decimal value of {} is {} in binary.\".format(decimal, decimalConverter(decimal, convert_to=\"Binary\")))\n",
    "print(\"The decimal value of {} is {} in octal.\".format(decimal, decimalConverter(decimal, convert_to=\"Octal\")))\n",
    "print(\"The decimal value of {} is {} in hexadecimal.\".format(decimal, decimalConverter(decimal, convert_to=\"Hexadecimal\")))"
   ]
  },
  {
   "cell_type": "markdown",
   "id": "bf623339",
   "metadata": {},
   "source": [
    "4.\tWrite a Python Program To Find ASCII value of a character?"
   ]
  },
  {
   "cell_type": "code",
   "execution_count": 9,
   "id": "766cd5fd",
   "metadata": {},
   "outputs": [
    {
     "name": "stdout",
     "output_type": "stream",
     "text": [
      "Enter a character: #\n",
      "The ASCII value of # is 35\n"
     ]
    }
   ],
   "source": [
    "def find_character_ascii_value(character):\n",
    "    if len(character) > 1:\n",
    "        raise \"Please enter a single character\"\n",
    "    else:\n",
    "        print(\"The ASCII value of {} is {}\".format(character, ord(character)))\n",
    "\n",
    "character = input(\"Enter a character: \")\n",
    "find_character_ascii_value(character)"
   ]
  },
  {
   "cell_type": "markdown",
   "id": "5085d079",
   "metadata": {},
   "source": [
    "5.\tWrite a Python Program to Make a Simple Calculator with 4 basic mathematical operations?"
   ]
  },
  {
   "cell_type": "code",
   "execution_count": 17,
   "id": "1d6060e1",
   "metadata": {},
   "outputs": [
    {
     "name": "stdout",
     "output_type": "stream",
     "text": [
      "Please select mathematical operation -\n",
      "1. Addition (+)\n",
      "2. Subtraction (-)\n",
      "3. Multiplication (*)\n",
      "4. Division (/)\n",
      "5. Type anything to stop calculator\n",
      "Select mathematical operations form 1, 2, 3, 4: \n",
      "1\n",
      "Enter first number: 50\n",
      "Enter second number: 60\n",
      "50 + 60 = 110\n",
      "Select mathematical operations form 1, 2, 3, 4: \n",
      "2\n",
      "Enter first number: 100\n",
      "Enter second number: 40\n",
      "100 - 40 = 60\n",
      "Select mathematical operations form 1, 2, 3, 4: \n",
      "3\n",
      "Enter first number: 5\n",
      "Enter second number: 15\n",
      "5 * 15 = 75\n",
      "Select mathematical operations form 1, 2, 3, 4: \n",
      "4\n",
      "Enter first number: 250\n",
      "Enter second number: 5\n",
      "250 / 5 = 50.0\n",
      "Select mathematical operations form 1, 2, 3, 4: \n",
      "10\n"
     ]
    }
   ],
   "source": [
    "def add(num1, num2):\n",
    "    return num1 + num2\n",
    " \n",
    "def subtract(num1, num2):\n",
    "    return num1 - num2\n",
    " \n",
    "def multiply(num1, num2):\n",
    "    return num1 * num2\n",
    " \n",
    "def divide(num1, num2):\n",
    "    return num1 / num2\n",
    "\n",
    "def calculator(number_1, number_2):\n",
    "    if select == 1:\n",
    "        print(number_1, \"+\", number_2, \"=\", add(number_1, number_2))\n",
    "    elif select == 2:\n",
    "        print(number_1, \"-\", number_2, \"=\", subtract(number_1, number_2))\n",
    "    elif select == 3:\n",
    "        print(number_1, \"*\", number_2, \"=\", multiply(number_1, number_2))\n",
    "    elif select == 4:\n",
    "        print(number_1, \"/\", number_2, \"=\", divide(number_1, number_2))\n",
    "\n",
    "        \n",
    "print(\"Please select mathematical operation -\" \\\n",
    "      \"\\n1. Addition (+)\" \\\n",
    "      \"\\n2. Subtraction (-)\" \\\n",
    "      \"\\n3. Multiplication (*)\" \\\n",
    "      \"\\n4. Division (/)\" \\\n",
    "      \"\\n5. Type anything to stop calculator\"\n",
    "     )\n",
    "\n",
    "while True:\n",
    "    select = int(input(\"Select mathematical operations form 1, 2, 3, 4: \\n\"))\n",
    "    if select not in [1, 2, 3, 4]:\n",
    "        break\n",
    "    else:\n",
    "        number_1 = int(input(\"Enter first number: \"))\n",
    "        number_2 = int(input(\"Enter second number: \"))\n",
    "        calculator(number_1, number_2)"
   ]
  }
 ],
 "metadata": {
  "kernelspec": {
   "display_name": "Python 3 (ipykernel)",
   "language": "python",
   "name": "python3"
  },
  "language_info": {
   "codemirror_mode": {
    "name": "ipython",
    "version": 3
   },
   "file_extension": ".py",
   "mimetype": "text/x-python",
   "name": "python",
   "nbconvert_exporter": "python",
   "pygments_lexer": "ipython3",
   "version": "3.11.1"
  }
 },
 "nbformat": 4,
 "nbformat_minor": 5
}
