{
 "cells": [
  {
   "cell_type": "markdown",
   "id": "32100f07",
   "metadata": {},
   "source": [
    "Question1\n",
    "\n",
    "Create a function that takes three integer arguments (a, b, c) and returns the amount of integers which are of equal value.\n",
    "\n",
    "Examples\n",
    "\n",
    "equal(3, 4, 3) ➞ 2\n",
    "\n",
    "equal(1, 1, 1) ➞ 3\n",
    "\n",
    "equal(3, 4, 1) ➞ 0 \n",
    "\n",
    "Notes\n",
    "\n",
    "Your function must return 0, 2 or 3.\n"
   ]
  },
  {
   "cell_type": "code",
   "execution_count": 4,
   "id": "df123f7b",
   "metadata": {},
   "outputs": [
    {
     "name": "stdout",
     "output_type": "stream",
     "text": [
      "equal(3, 4, 3) ➞ 2\n",
      "equal(1, 1, 1) ➞ 3\n",
      "equal(3, 4, 1) ➞ 0\n"
     ]
    }
   ],
   "source": [
    "def equal(a, b, c):\n",
    "    if a == b == c:\n",
    "        res = 3\n",
    "    elif (a == b) or (b == c) or (c == a):\n",
    "        res = 2\n",
    "    else:\n",
    "        res = 0\n",
    "    return res\n",
    "\n",
    "print(f'equal(3, 4, 3) ➞ {equal(3, 4, 3)}')\n",
    "print(f'equal(1, 1, 1) ➞ {equal(1, 1, 1)}')\n",
    "print(f'equal(3, 4, 1) ➞ {equal(3, 4, 1)}')"
   ]
  },
  {
   "cell_type": "markdown",
   "id": "b125809b",
   "metadata": {},
   "source": [
    "Question2\n",
    "\n",
    "Write a function that converts a dictionary into a list of keys-values tuples.\n",
    "\n",
    "Examples\n",
    "\n",
    "dict_to_list({\n",
    "  \"D\": 1,\n",
    "  \"B\": 2,\n",
    "  \"C\": 3\n",
    "}) ➞ [(\"B\", 2), (\"C\", 3), (\"D\", 1)]\n",
    "\n",
    "dict_to_list({\n",
    "  \"likes\": 2,\n",
    "  \"dislikes\": 3,\n",
    "  \"followers\": 10\n",
    "}) ➞ [(\"dislikes\", 3), (\"followers\", 10), (\"likes\", 2)]\n",
    "\n",
    "Notes\n",
    "\n",
    "Return the elements in the list in alphabetical order.\n"
   ]
  },
  {
   "cell_type": "code",
   "execution_count": 12,
   "id": "5f03e6d0",
   "metadata": {},
   "outputs": [
    {
     "name": "stdout",
     "output_type": "stream",
     "text": [
      "dict_to_list({'D': 1, 'B': 2, 'C': 3}) ➞ [('B', 2), ('C', 3), ('D', 1)]\n",
      "dict_to_list({'likes': 2, 'dislikes': 3, 'followers': 10}) ➞ [('dislikes', 3), ('followers', 10), ('likes', 2)]\n"
     ]
    }
   ],
   "source": [
    "def dict_to_list(dct):\n",
    "    return list(sorted(zip(dct.keys(), dct.values())))\n",
    "\n",
    "dict_1 = { \"D\": 1, \"B\": 2, \"C\": 3 }\n",
    "dict_2 = { \"likes\": 2, \"dislikes\": 3, \"followers\": 10 }\n",
    "print(f'dict_to_list({dict_1}) ➞ {dict_to_list(dict_1)}')\n",
    "print(f'dict_to_list({dict_2}) ➞ {dict_to_list(dict_2)}')"
   ]
  },
  {
   "cell_type": "markdown",
   "id": "1e068b98",
   "metadata": {},
   "source": [
    "Question3\n",
    "\n",
    "Write a function that creates a dictionary with each (key, value) pair being the (lower case, upper case) versions of a letter, respectively.\n",
    "\n",
    "Examples\n",
    "\n",
    "mapping([\"p\", \"s\"]) ➞ { \"p\": \"P\", \"s\": \"S\" }\n",
    "\n",
    "mapping([\"a\", \"b\", \"c\"]) ➞ { \"a\": \"A\", \"b\": \"B\", \"c\": \"C\" }\n",
    "\n",
    "mapping([\"a\", \"v\", \"y\", \"z\"]) ➞ { \"a\": \"A\", \"v\": \"V\", \"y\": \"Y\", \"z\": \"Z\" }\n",
    "\n",
    "Notes\n",
    "\n",
    "All of the letters in the input list will always be lowercase.\n"
   ]
  },
  {
   "cell_type": "code",
   "execution_count": 20,
   "id": "0185bc6c",
   "metadata": {},
   "outputs": [
    {
     "name": "stdout",
     "output_type": "stream",
     "text": [
      "mapping([\"p\", \"s\"]) ➞ {'p': 'P', 's': 'S'}\n",
      "mapping([\"a\", \"b\", \"c\"]) ➞ {'a': 'A', 'b': 'B', 'c': 'C'}\n",
      "mapping([\"a\", \"v\", \"y\", \"z\"]) ➞ {'a': 'A', 'v': 'V', 'y': 'Y', 'z': 'Z'}\n",
      "mapping([\"d\", \"G\"]) ➞ Upercase letter found in the list\n"
     ]
    }
   ],
   "source": [
    "import re\n",
    "\n",
    "def mapping(lst):\n",
    "    # concat list elements\n",
    "    strings = \"\".join(str(i) for i in lst)\n",
    "    # check if any letters in the input string is upercase or not\n",
    "    if bool(re.search('[A-Z]', strings)):\n",
    "        res = \"Upercase letter found in the list\"\n",
    "    else:\n",
    "        res = {}\n",
    "        for i in lst:\n",
    "            res[i] = i.upper()\n",
    "    return res\n",
    "    \n",
    "print(f'mapping([\"p\", \"s\"]) ➞ {mapping([\"p\", \"s\"])}')\n",
    "print(f'mapping([\"a\", \"b\", \"c\"]) ➞ {mapping([\"a\", \"b\", \"c\"])}')\n",
    "print(f'mapping([\"a\", \"v\", \"y\", \"z\"]) ➞ {mapping([\"a\", \"v\", \"y\", \"z\"])}')\n",
    "print(f'mapping([\"d\", \"G\"]) ➞ {mapping([\"d\", \"G\"])}')"
   ]
  },
  {
   "cell_type": "markdown",
   "id": "f11d62e9",
   "metadata": {},
   "source": [
    "Question4\n",
    "\n",
    "Write a function, that replaces all vowels in a string with a specified vowel.\n",
    "\n",
    "Examples\n",
    "\n",
    "vow_replace(\"apples and bananas\", \"u\") ➞ \"upplus und bununus\"\n",
    "\n",
    "vow_replace(\"cheese casserole\", \"o\") ➞ \"chooso cossorolo\"\n",
    "\n",
    "vow_replace(\"stuffed jalapeno poppers\", \"e\") ➞ \"steffed jelepene peppers\"\n",
    "\n",
    "Notes\n",
    "\n",
    "All words will be lowercase. Y is not considered a vowel.\n"
   ]
  },
  {
   "cell_type": "code",
   "execution_count": 28,
   "id": "1316d267",
   "metadata": {},
   "outputs": [
    {
     "name": "stdout",
     "output_type": "stream",
     "text": [
      "vow_replace(\"apples and bananas\", \"u\") ➞ \"upplus und bununus\"\n",
      "vow_replace(\"cheese casserole\", \"o\") ➞ \"chooso cossorolo\"\n",
      "vow_replace(\"stuffed jalapeno poppers\", \"e\") ➞ \"steffed jelepene peppers\"\n",
      "vow_replace(\"Debabrata\", \"o\") ➞ \"Upercase letter found in the list\"\n"
     ]
    }
   ],
   "source": [
    "def vow_replace(string, k):\n",
    "    # string of vowels\n",
    "    vowels = 'AEIOUaeiou'\n",
    "    # check if any letters in the input string is upercase or not\n",
    "    if bool(re.search('[A-Z]', string)):\n",
    "        string = \"Upercase letter found in the list\"\n",
    "    else:\n",
    "        # iterating to check vowels in string\n",
    "        for i in vowels:\n",
    "            # replacing vowel with the specified character\n",
    "            string = string.replace(i, k)\n",
    "    return string\n",
    "\n",
    "print(f'vow_replace(\"apples and bananas\", \"u\") ➞ \"{vow_replace(\"apples and bananas\", \"u\")}\"')\n",
    "print(f'vow_replace(\"cheese casserole\", \"o\") ➞ \"{vow_replace(\"cheese casserole\", \"o\")}\"')\n",
    "print(f'vow_replace(\"stuffed jalapeno poppers\", \"e\") ➞ \"{vow_replace(\"stuffed jalapeno poppers\", \"e\")}\"')\n",
    "print(f'vow_replace(\"Debabrata\", \"o\") ➞ \"{vow_replace(\"Debabrata\", \"o\")}\"')"
   ]
  },
  {
   "cell_type": "markdown",
   "id": "b3f63537",
   "metadata": {},
   "source": [
    "Question5\n",
    "\n",
    "Create a function that takes a string as input and capitalizes a letter if its ASCII code is even and returns its lower case version if its ASCII code is odd.\n",
    "\n",
    "Examples\n",
    "\n",
    "ascii_capitalize(\"to be or not to be!\") ➞ \"To Be oR NoT To Be!\"\n",
    "\n",
    "ascii_capitalize(\"THE LITTLE MERMAID\") ➞ \"THe LiTTLe meRmaiD\"\n",
    "\n",
    "ascii_capitalize(\"Oh what a beautiful morning.\") ➞ \"oH wHaT a BeauTiFuL moRNiNg.\"\n"
   ]
  },
  {
   "cell_type": "code",
   "execution_count": 29,
   "id": "85b53bc3",
   "metadata": {},
   "outputs": [
    {
     "name": "stdout",
     "output_type": "stream",
     "text": [
      "ascii_capitalize(\"to be or not to be!\") ➞ \"To Be oR NoT To Be!\"\n",
      "ascii_capitalize(\"THE LITTLE MERMAID\") ➞ \"THe LiTTLe meRmaiD\"\n",
      "ascii_capitalize(\"Oh what a beautiful morning.\") ➞ \"oH wHaT a BeauTiFuL moRNiNg.\"\n"
     ]
    }
   ],
   "source": [
    "def ascii_capitalize(string):\n",
    "    lst = list(string)\n",
    "    res = ''\n",
    "    for i in lst:\n",
    "        if ord(i)%2 == 0:\n",
    "            # ascii code is even\n",
    "            res += i.upper()\n",
    "        else:\n",
    "            # ascii code is odd\n",
    "            res += i.lower()\n",
    "    return res\n",
    "\n",
    "print(f'ascii_capitalize(\"to be or not to be!\") ➞ \"{ascii_capitalize(\"to be or not to be!\")}\"')\n",
    "print(f'ascii_capitalize(\"THE LITTLE MERMAID\") ➞ \"{ascii_capitalize(\"THE LITTLE MERMAID\")}\"')\n",
    "print(f'ascii_capitalize(\"Oh what a beautiful morning.\") ➞ \"{ascii_capitalize(\"Oh what a beautiful morning.\")}\"')"
   ]
  }
 ],
 "metadata": {
  "kernelspec": {
   "display_name": "Python 3 (ipykernel)",
   "language": "python",
   "name": "python3"
  },
  "language_info": {
   "codemirror_mode": {
    "name": "ipython",
    "version": 3
   },
   "file_extension": ".py",
   "mimetype": "text/x-python",
   "name": "python",
   "nbconvert_exporter": "python",
   "pygments_lexer": "ipython3",
   "version": "3.11.1"
  }
 },
 "nbformat": 4,
 "nbformat_minor": 5
}
