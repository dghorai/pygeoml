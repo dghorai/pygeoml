{
 "cells": [
  {
   "cell_type": "markdown",
   "id": "0dc284f5",
   "metadata": {},
   "source": [
    "1.\tWrite a Python Program to Add Two Matrices?"
   ]
  },
  {
   "cell_type": "code",
   "execution_count": 10,
   "id": "115ed8a7",
   "metadata": {},
   "outputs": [
    {
     "name": "stdout",
     "output_type": "stream",
     "text": [
      "First Matrix: \n",
      " [[8 7 2]\n",
      " [5 7 9]\n",
      " [3 8 1]]\n",
      "Second Matrix: \n",
      " [[0 6 8]\n",
      " [3 1 1]\n",
      " [2 8 3]]\n",
      "Addition of two matrix: \n",
      " [[ 8 13 10]\n",
      " [ 8  8 10]\n",
      " [ 5 16  4]]\n"
     ]
    }
   ],
   "source": [
    "import numpy as np\n",
    "\n",
    "def add_matrix(A, B):\n",
    "    rows = A.shape[0]\n",
    "    cols = A.shape[1]\n",
    "    if A.shape == B.shape:\n",
    "        C = np.zeros((rows, cols), dtype=int)\n",
    "        for i in range(rows):\n",
    "            for j in range(cols):\n",
    "                C[i][j] = X[i][j] + Y[i][j]\n",
    "        return C\n",
    "    else:\n",
    "        return \"Both matrices must contains same no. of rows and columns\"\n",
    "\n",
    "# first matrix with shape 3x3\n",
    "X = np.random.randint(10, size=(3, 3))\n",
    "\n",
    "# second matrix with shape 3x3\n",
    "Y = np.random.randint(10, size=(3, 3))\n",
    "\n",
    "# add two matrices\n",
    "Z = add_matrix(X, Y)\n",
    "\n",
    "print(\"First Matrix: \\n {}\".format(X))\n",
    "print(\"Second Matrix: \\n {}\".format(Y))\n",
    "print(\"Addition of two matrix: \\n {}\".format(Z))"
   ]
  },
  {
   "cell_type": "markdown",
   "id": "178159e6",
   "metadata": {},
   "source": [
    "2.\tWrite a Python Program to Multiply Two Matrices?"
   ]
  },
  {
   "cell_type": "code",
   "execution_count": 13,
   "id": "00860a1d",
   "metadata": {},
   "outputs": [
    {
     "name": "stdout",
     "output_type": "stream",
     "text": [
      "First Matrix: \n",
      " [[6 1 7]\n",
      " [3 9 3]\n",
      " [3 2 4]\n",
      " [1 4 7]]\n",
      "Second Matrix: \n",
      " [[5 4 4 7]\n",
      " [0 5 7 7]\n",
      " [0 8 6 7]]\n",
      "Multiplication of two matrix: \n",
      " [[ 30  85  73  98]\n",
      " [ 15  81  93 105]\n",
      " [ 15  54  50  63]\n",
      " [  5  80  74  84]]\n"
     ]
    }
   ],
   "source": [
    "import numpy as np\n",
    "\n",
    "def multiply_matrix(A, B):\n",
    "    rows = A.shape[0]\n",
    "    cols = B.shape[1]\n",
    "    if  A.shape[1] == B.shape[0]:\n",
    "        C = np.zeros((rows, cols), dtype=int)\n",
    "        for i in range(rows):\n",
    "            for j in range(cols):\n",
    "                for k in range(len(B)):\n",
    "                    C[i, j] += A[i, k] * B[k, j]\n",
    "        return C\n",
    "    else:\n",
    "        return \"No. of columns of first matrix and no. of rows of second matrix must be same\"\n",
    "\n",
    "\n",
    "# first matrix with shape 4x3\n",
    "X = np.random.randint(10, size=(4, 3))\n",
    "\n",
    "# second matrix with shape 3x4\n",
    "Y = np.random.randint(10, size=(3, 4))\n",
    "\n",
    "# multiply two matrices\n",
    "Z = multiply_matrix(X, Y)\n",
    "\n",
    "print(\"First Matrix: \\n {}\".format(X))\n",
    "print(\"Second Matrix: \\n {}\".format(Y))\n",
    "print(\"Multiplication of two matrix: \\n {}\".format(Z))"
   ]
  },
  {
   "cell_type": "markdown",
   "id": "d4517c41",
   "metadata": {},
   "source": [
    "3.\tWrite a Python Program to Transpose a Matrix?"
   ]
  },
  {
   "cell_type": "code",
   "execution_count": 16,
   "id": "11045bf0",
   "metadata": {},
   "outputs": [
    {
     "name": "stdout",
     "output_type": "stream",
     "text": [
      "Matrix: \n",
      " [[5 3 0]\n",
      " [2 8 1]\n",
      " [0 2 7]\n",
      " [6 9 4]]\n",
      "Transpose of the matrix: \n",
      " [[5 2 0 6]\n",
      " [3 8 2 9]\n",
      " [0 1 7 4]]\n"
     ]
    }
   ],
   "source": [
    "import numpy as np\n",
    "\n",
    "def transpose_matrix(A):\n",
    "    rows = A.shape[0]\n",
    "    cols = A.shape[1]\n",
    "    res = np.zeros((cols, rows), dtype=int)\n",
    "    for i in range(rows):\n",
    "        for j in range(cols):\n",
    "            res[j][i] = X[i][j]\n",
    "    return res\n",
    "\n",
    "X = np.random.randint(10, size=(4, 3))\n",
    "Xt = transpose_matrix(X)\n",
    "\n",
    "print(\"Matrix: \\n {}\".format(X))\n",
    "print(\"Transpose of the matrix: \\n {}\".format(Xt))"
   ]
  },
  {
   "cell_type": "markdown",
   "id": "59303860",
   "metadata": {},
   "source": [
    "4.\tWrite a Python Program to Sort Words in Alphabetic Order?"
   ]
  },
  {
   "cell_type": "code",
   "execution_count": 18,
   "id": "c219a172",
   "metadata": {},
   "outputs": [
    {
     "name": "stdout",
     "output_type": "stream",
     "text": [
      "Enter a string: I am Debabrata\n",
      "am, debabrata, i\n"
     ]
    }
   ],
   "source": [
    "def sort_words_a2z(my_str):\n",
    "    words = [word.lower() for word in my_str.split()]\n",
    "    words.sort()\n",
    "    print(\", \".join(w for w in words))\n",
    "\n",
    "in_str = input(\"Enter a string: \")\n",
    "sort_words_a2z(in_str)"
   ]
  },
  {
   "cell_type": "markdown",
   "id": "00bd3a29",
   "metadata": {},
   "source": [
    "5.\tWrite a Python Program to Remove Punctuation From a String?"
   ]
  },
  {
   "cell_type": "code",
   "execution_count": 19,
   "id": "7d67792f",
   "metadata": {},
   "outputs": [
    {
     "name": "stdout",
     "output_type": "stream",
     "text": [
      "Enter a string: Hello!!!!, @World\n",
      "Hello World\n"
     ]
    }
   ],
   "source": [
    "def get_punctuations_free(my_str):\n",
    "    punctuations_str = '''!()-[]{};:'\"\\,<>./?@#$%^&*_~'''\n",
    "    \n",
    "    punct_free = \"\"\n",
    "    for char in my_str:\n",
    "        if char not in punctuations_str:\n",
    "            punct_free += char\n",
    "            \n",
    "    print(punct_free)\n",
    "\n",
    "in_str = input(\"Enter a string: \")\n",
    "get_punctuations_free(in_str)"
   ]
  }
 ],
 "metadata": {
  "kernelspec": {
   "display_name": "Python 3 (ipykernel)",
   "language": "python",
   "name": "python3"
  },
  "language_info": {
   "codemirror_mode": {
    "name": "ipython",
    "version": 3
   },
   "file_extension": ".py",
   "mimetype": "text/x-python",
   "name": "python",
   "nbconvert_exporter": "python",
   "pygments_lexer": "ipython3",
   "version": "3.11.1"
  }
 },
 "nbformat": 4,
 "nbformat_minor": 5
}
