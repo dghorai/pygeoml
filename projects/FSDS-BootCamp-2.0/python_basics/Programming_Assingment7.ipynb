{
 "cells": [
  {
   "cell_type": "markdown",
   "id": "c783e861",
   "metadata": {},
   "source": [
    "1.\tWrite a Python Program to find sum of array?"
   ]
  },
  {
   "cell_type": "code",
   "execution_count": 3,
   "id": "09d91f9a",
   "metadata": {},
   "outputs": [
    {
     "name": "stdout",
     "output_type": "stream",
     "text": [
      "Enter an array: [1,10,15,20,25]\n",
      "The sum of [1, 10, 15, 20, 25] is 71\n"
     ]
    }
   ],
   "source": [
    "def sum_of_array(arr):\n",
    "    _sum = 0\n",
    "    for i in arr:\n",
    "        _sum += i\n",
    "    return _sum\n",
    "\n",
    "in_arr = eval(input(\"Enter an array: \"))\n",
    "print(f'The sum of {in_arr} is {sum_of_array(in_arr)}')"
   ]
  },
  {
   "cell_type": "markdown",
   "id": "3a9fe01b",
   "metadata": {},
   "source": [
    "2.\tWrite a Python Program to find largest element in an array?"
   ]
  },
  {
   "cell_type": "code",
   "execution_count": 4,
   "id": "860cc949",
   "metadata": {},
   "outputs": [
    {
     "name": "stdout",
     "output_type": "stream",
     "text": [
      "Enter an array: [1, 100, 0, 50, 99]\n",
      "The largest element in [1, 100, 0, 50, 99] is 100\n"
     ]
    }
   ],
   "source": [
    "def find_largest_element(arr):\n",
    "    _max = arr[0]\n",
    "    for i in range(len(arr)):\n",
    "        if arr[i] > _max:\n",
    "            _max = arr[i]\n",
    "    return _max\n",
    "\n",
    "in_arr = eval(input(\"Enter an array: \"))\n",
    "print(f'The largest element in {in_arr} is {find_largest_element(in_arr)}')"
   ]
  },
  {
   "cell_type": "markdown",
   "id": "b76f277c",
   "metadata": {},
   "source": [
    "3.\tWrite a Python Program for array rotation?"
   ]
  },
  {
   "cell_type": "code",
   "execution_count": 12,
   "id": "762d81c9",
   "metadata": {},
   "outputs": [
    {
     "name": "stdout",
     "output_type": "stream",
     "text": [
      "Array after left rotation is:  [4, 5, 6, 7, 1, 2, 3]\n",
      "Array after reverse rotation is:  [7, 6, 5, 4, 3, 2, 1]\n"
     ]
    }
   ],
   "source": [
    "def array_left_rotation(a, d):\n",
    "    temp = []\n",
    "    for i in range(d, len(a)):\n",
    "        temp.append(a[i])\n",
    "        \n",
    "    for i in range (0, d):\n",
    "        temp.append(a[i])\n",
    "        \n",
    "    return temp\n",
    "\n",
    "def array_reverse_rotation(arr):\n",
    "    return arr[::-1]\n",
    "\n",
    "in_arr = [1, 2, 3, 4, 5, 6, 7]\n",
    "print(\"Array after left rotation is: \", end=' ')\n",
    "print(array_left_rotation(in_arr, 3))\n",
    "print(\"Array after reverse rotation is: \", array_reverse_rotation(in_arr))"
   ]
  },
  {
   "cell_type": "markdown",
   "id": "8b0c749e",
   "metadata": {},
   "source": [
    "4.\tWrite a Python Program to Split the array and add the first part to the end?"
   ]
  },
  {
   "cell_type": "code",
   "execution_count": 14,
   "id": "829bb1cf",
   "metadata": {},
   "outputs": [
    {
     "data": {
      "text/plain": [
       "[36, 50, 10, 90, 12, 10, 5, 6, 52]"
      ]
     },
     "execution_count": 14,
     "metadata": {},
     "output_type": "execute_result"
    }
   ],
   "source": [
    "def split_array(arr, ix):\n",
    "    first_part = arr[:ix]\n",
    "    end_part = arr[ix:]\n",
    "    return end_part[::] + first_part[::]\n",
    "\n",
    "in_arr = [12, 10, 5, 6, 52, 36, 50, 10, 90]\n",
    "\n",
    "# split at index 5 (ix = 5)\n",
    "split_array(in_arr, 5)"
   ]
  },
  {
   "cell_type": "markdown",
   "id": "363a0287",
   "metadata": {},
   "source": [
    "5.\tWrite a Python Program to check if given array is Monotonic?"
   ]
  },
  {
   "cell_type": "code",
   "execution_count": 21,
   "id": "14115efe",
   "metadata": {},
   "outputs": [
    {
     "name": "stdout",
     "output_type": "stream",
     "text": [
      "Enter the Array: [1, 2, 3, 4, 5, 6, 7]\n",
      "[1, 2, 3, 4, 5, 6, 7] this array is Monotonic\n"
     ]
    }
   ],
   "source": [
    "def is_monotonic(arr):\n",
    "    cond1 = all(arr[i] <= arr[i + 1] for i in range(len(arr) - 1))\n",
    "    cond2 = all(arr[i] >= arr[i + 1] for i in range(len(arr) - 1))\n",
    "    if cond1 or cond2:\n",
    "        res = f'{arr} this array is Monotonic'\n",
    "    else:\n",
    "        res = f'{arr} this array is not Monotonic'\n",
    "    return res\n",
    "\n",
    "in_arr = eval(input(\"Enter the Array: \"))\n",
    "print(is_monotonic(in_arr))"
   ]
  }
 ],
 "metadata": {
  "kernelspec": {
   "display_name": "Python 3 (ipykernel)",
   "language": "python",
   "name": "python3"
  },
  "language_info": {
   "codemirror_mode": {
    "name": "ipython",
    "version": 3
   },
   "file_extension": ".py",
   "mimetype": "text/x-python",
   "name": "python",
   "nbconvert_exporter": "python",
   "pygments_lexer": "ipython3",
   "version": "3.11.1"
  }
 },
 "nbformat": 4,
 "nbformat_minor": 5
}
