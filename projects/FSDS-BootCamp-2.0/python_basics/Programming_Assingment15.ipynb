{
 "cells": [
  {
   "cell_type": "markdown",
   "id": "98507f95",
   "metadata": {},
   "source": [
    "Question 1:\n",
    "Please write a program using generator to print the numbers which can be divisible by 5 and 7 between 0 and n in comma separated form while n is input by console.\n",
    "Example:\n",
    "If the following n is given as input to the program:\n",
    "100\n",
    "Then, the output of the program should be:\n",
    "0,35,70"
   ]
  },
  {
   "cell_type": "code",
   "execution_count": 3,
   "id": "7bfab5e2",
   "metadata": {},
   "outputs": [
    {
     "name": "stdout",
     "output_type": "stream",
     "text": [
      "Enter n: 100\n",
      "0,35,70\n"
     ]
    }
   ],
   "source": [
    "def print_divisible_numbers(n):\n",
    "    for i in range(n+1):\n",
    "        if (i%5 == 0) and (i%7 == 0):\n",
    "            yield i\n",
    "    \n",
    "n = int(input(\"Enter n: \"))\n",
    "res = [str(i) for i in print_divisible_numbers(n)]\n",
    "print(\",\".join(res))"
   ]
  },
  {
   "cell_type": "markdown",
   "id": "c3aa8ac0",
   "metadata": {},
   "source": [
    "Question 2:\n",
    "Please write a program using generator to print the even numbers between 0 and n in comma separated form while n is input by console.\n",
    "Example:\n",
    "If the following n is given as input to the program:\n",
    "10\n",
    "Then, the output of the program should be:\n",
    "0,2,4,6,8,10"
   ]
  },
  {
   "cell_type": "code",
   "execution_count": 5,
   "id": "1c3e5b76",
   "metadata": {},
   "outputs": [
    {
     "name": "stdout",
     "output_type": "stream",
     "text": [
      "Enter n: 10\n",
      "0,2,4,6,8,10\n"
     ]
    }
   ],
   "source": [
    "def print_even_numbers(n):\n",
    "    for i in range(n+1):\n",
    "        if i%2 == 0:\n",
    "            yield i\n",
    "\n",
    "n = int(input(\"Enter n: \"))\n",
    "res = [str(i) for i in print_even_numbers(n)]\n",
    "print(\",\".join(res))"
   ]
  },
  {
   "cell_type": "markdown",
   "id": "1c1eed11",
   "metadata": {},
   "source": [
    "Question 3:\n",
    "The Fibonacci Sequence is computed based on the following formula:\n",
    "f(n)=0 if n=0\n",
    "f(n)=1 if n=1\n",
    "f(n)=f(n-1)+f(n-2) if n>1\n",
    "Please write a program using list comprehension to print the Fibonacci Sequence in comma separated form with a given n input by console.\n",
    "Example:\n",
    "If the following n is given as input to the program:\n",
    "7\n",
    "\n",
    "Then, the output of the program should be:\n",
    "0,1,1,2,3,5,8,13"
   ]
  },
  {
   "cell_type": "code",
   "execution_count": 12,
   "id": "d597298e",
   "metadata": {},
   "outputs": [
    {
     "name": "stdout",
     "output_type": "stream",
     "text": [
      "Enter n: 7\n",
      "0,1,1,2,3,5,8,13\n"
     ]
    }
   ],
   "source": [
    "def fs(n):\n",
    "    if n > 1:\n",
    "        f = fs(n-1) + fs(n-2)\n",
    "    else:\n",
    "        f = n\n",
    "    return f\n",
    "\n",
    "n = int(input(\"Enter n: \" ))\n",
    "res = [str(fs(i)) for i in range(n+1)]\n",
    "print(\",\".join(res))"
   ]
  },
  {
   "cell_type": "markdown",
   "id": "3f969c26",
   "metadata": {},
   "source": [
    "Question 4:\n",
    "Assuming that we have some email addresses in the \"username@companyname.com\" format, please write program to print the user name of a given email address. Both user names and company names are composed of letters only.\n",
    "Example:\n",
    "If the following email address is given as input to the program:\n",
    "john@google.com\n",
    "Then, the output of the program should be:\n",
    "john"
   ]
  },
  {
   "cell_type": "code",
   "execution_count": 13,
   "id": "952315a3",
   "metadata": {},
   "outputs": [
    {
     "name": "stdout",
     "output_type": "stream",
     "text": [
      "john\n"
     ]
    }
   ],
   "source": [
    "def get_username_from_emailid(email):\n",
    "    email = email.split('@')\n",
    "    return email[0]\n",
    "\n",
    "email = \"john@google.com\"\n",
    "print(get_username_from_emailid(email))"
   ]
  },
  {
   "cell_type": "markdown",
   "id": "7f659135",
   "metadata": {},
   "source": [
    "Question 5:\n",
    "Define a class named Shape and its subclass Square. The Square class has an init function which takes a length as argument. Both classes have a area function which can print the area of the shape where Shape's area is 0 by default."
   ]
  },
  {
   "cell_type": "code",
   "execution_count": 15,
   "id": "58ba6650",
   "metadata": {},
   "outputs": [
    {
     "name": "stdout",
     "output_type": "stream",
     "text": [
      "225\n"
     ]
    }
   ],
   "source": [
    "class Shape():\n",
    "    def __init__(self):\n",
    "        pass\n",
    "    \n",
    "    def area(self):\n",
    "        return 0\n",
    "\n",
    "class Square(Shape):\n",
    "    def __init__(self, length):\n",
    "        Shape.__init__(self)\n",
    "        self.length = length\n",
    "        \n",
    "    def area(self):\n",
    "        return self.length*self.length\n",
    "\n",
    "\n",
    "shpobj = Square(15)\n",
    "print(shpobj.area())"
   ]
  }
 ],
 "metadata": {
  "kernelspec": {
   "display_name": "Python 3 (ipykernel)",
   "language": "python",
   "name": "python3"
  },
  "language_info": {
   "codemirror_mode": {
    "name": "ipython",
    "version": 3
   },
   "file_extension": ".py",
   "mimetype": "text/x-python",
   "name": "python",
   "nbconvert_exporter": "python",
   "pygments_lexer": "ipython3",
   "version": "3.10.9"
  }
 },
 "nbformat": 4,
 "nbformat_minor": 5
}
