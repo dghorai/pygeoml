{
 "cells": [
  {
   "cell_type": "markdown",
   "id": "d4d2a7e8",
   "metadata": {},
   "source": [
    "Question1. \n",
    "\n",
    "Create a function that takes three arguments a, b, c and returns the sum of the numbers that are evenly divided by c from the range a, b inclusive.\n",
    "Examples\n",
    "\n",
    "evenly_divisible(1, 10, 20) ➞ 0\n",
    "#### No number between 1 and 10 can be evenly divided by 20.\n",
    "\n",
    "evenly_divisible(1, 10, 2) ➞ 30\n",
    "#### 2 + 4 + 6 + 8 + 10 = 30\n",
    "\n",
    "evenly_divisible(1, 10, 3) ➞ 18\n",
    "#### 3 + 6 + 9 = 18\n"
   ]
  },
  {
   "cell_type": "code",
   "execution_count": 3,
   "id": "220d5121",
   "metadata": {},
   "outputs": [
    {
     "name": "stdout",
     "output_type": "stream",
     "text": [
      "evenly_divisible(1, 10, 20) ➞ 0\n",
      "evenly_divisible(1, 10, 2) ➞ 30\n",
      "evenly_divisible(1, 10, 3) ➞ 18\n"
     ]
    }
   ],
   "source": [
    "def evenly_divisible(a, b, c):\n",
    "    _sum = 0\n",
    "    for i in range(a, b+1):\n",
    "        if i%c == 0:\n",
    "            _sum += i\n",
    "    return _sum\n",
    "\n",
    "print(f'evenly_divisible(1, 10, 20) ➞ {evenly_divisible(1, 10, 20)}')\n",
    "print(f'evenly_divisible(1, 10, 2) ➞ {evenly_divisible(1, 10, 2)}')\n",
    "print(f'evenly_divisible(1, 10, 3) ➞ {evenly_divisible(1, 10, 3)}')"
   ]
  },
  {
   "cell_type": "markdown",
   "id": "f0e3496d",
   "metadata": {},
   "source": [
    "Question2. \n",
    "\n",
    "Create a function that returns True if a given inequality expression is correct and False otherwise.\n",
    "Examples\n",
    "\n",
    "correct_signs(\"3 < 7 < 11\") ➞ True\n",
    "\n",
    "correct_signs(\"13 > 44 > 33 > 1\") ➞ False\n",
    "\n",
    "correct_signs(\"1 < 2 < 6 < 9 > 3\") ➞ True\n"
   ]
  },
  {
   "cell_type": "code",
   "execution_count": 5,
   "id": "7fc2f1ae",
   "metadata": {},
   "outputs": [
    {
     "name": "stdout",
     "output_type": "stream",
     "text": [
      "correct_signs(\"3 < 7 < 11\") ➞ True\n",
      "correct_signs(\"13 > 44 > 33 > 1\") ➞ False\n",
      "correct_signs(\"1 < 2 < 6 < 9 > 3\") ➞ True\n"
     ]
    }
   ],
   "source": [
    "def correct_signs(s):\n",
    "    regex = eval(s)\n",
    "    if regex:\n",
    "        return True\n",
    "    else:\n",
    "        return False\n",
    "\n",
    "print(f'correct_signs(\"3 < 7 < 11\") ➞ {correct_signs(\"3 < 7 < 11\")}')\n",
    "print(f'correct_signs(\"13 > 44 > 33 > 1\") ➞ {correct_signs(\"13 > 44 > 33 > 1\")}')\n",
    "print(f'correct_signs(\"1 < 2 < 6 < 9 > 3\") ➞ {correct_signs(\"1 < 2 < 6 < 9 > 3\")}')"
   ]
  },
  {
   "cell_type": "markdown",
   "id": "6b368b83",
   "metadata": {},
   "source": [
    "Question3. \n",
    "\n",
    "Create a function that replaces all the vowels in a string with a specified character.\n",
    "\n",
    "Examples\n",
    "\n",
    "replace_vowels(\"the aardvark\", \"#\") ➞ \"th# ##rdv#rk\"\n",
    "\n",
    "replace_vowels(\"minnie mouse\", \"?\") ➞ \"m?nn?? m??s?\"\n",
    "\n",
    "replace_vowels(\"shakespeare\", \"*\") ➞ \"sh*k*sp**r*\"\n"
   ]
  },
  {
   "cell_type": "code",
   "execution_count": 10,
   "id": "bda8ee5e",
   "metadata": {},
   "outputs": [
    {
     "name": "stdout",
     "output_type": "stream",
     "text": [
      "replace_vowels(\"the aardvark\", \"#\") ➞ \"th# ##rdv#rk\"\n",
      "replace_vowels(\"minnie mouse\", \"?\") ➞ \"m?nn?? m??s?\"\n",
      "replace_vowels(\"shakespeare\", \"*\") ➞ \"sh*k*sp**r*\"\n"
     ]
    }
   ],
   "source": [
    "import re\n",
    "\n",
    "def replace_vowels(string, ch):\n",
    "    vowels = \"AaEeIiOoUu\"\n",
    "    return re.sub(rf'[{vowels}]', ch, string)\n",
    "\n",
    "print(f'replace_vowels(\"the aardvark\", \"#\") ➞ \"{replace_vowels(\"the aardvark\", \"#\")}\"')\n",
    "print(f'replace_vowels(\"minnie mouse\", \"?\") ➞ \"{replace_vowels(\"minnie mouse\", \"?\")}\"')\n",
    "print(f'replace_vowels(\"shakespeare\", \"*\") ➞ \"{replace_vowels(\"shakespeare\", \"*\")}\"')"
   ]
  },
  {
   "cell_type": "markdown",
   "id": "17cebbe0",
   "metadata": {},
   "source": [
    "Question4. \n",
    "\n",
    "Write a function that calculates the factorial of a number recursively.\n",
    "\n",
    "Examples\n",
    "\n",
    "factorial(5) ➞ 120\n",
    "\n",
    "factorial(3) ➞ 6\n",
    "\n",
    "factorial(1) ➞ 1\n",
    "\n",
    "factorial(0) ➞ 1\n"
   ]
  },
  {
   "cell_type": "code",
   "execution_count": 18,
   "id": "f1b7ef4a",
   "metadata": {},
   "outputs": [
    {
     "name": "stdout",
     "output_type": "stream",
     "text": [
      "factorial(5) ➞ 120\n",
      "factorial(3) ➞ 6\n",
      "factorial(1) ➞ 1\n",
      "factorial(0) ➞ 1\n"
     ]
    }
   ],
   "source": [
    "def factorial(n):\n",
    "    if n < 0:\n",
    "        return \"Factorial does not exist for negative numbers\"\n",
    "    elif 0 <= n <= 1:\n",
    "        return 1\n",
    "    else:\n",
    "        return n*factorial(n-1)\n",
    "\n",
    "print(f'factorial(5) ➞ {factorial(5)}')\n",
    "print(f'factorial(3) ➞ {factorial(3)}')\n",
    "print(f'factorial(1) ➞ {factorial(1)}')\n",
    "print(f'factorial(0) ➞ {factorial(0)}')"
   ]
  },
  {
   "cell_type": "markdown",
   "id": "904da912",
   "metadata": {},
   "source": [
    "Question 5\n",
    "\n",
    "Hamming distance is the number of characters that differ between two strings.\n",
    "To illustrate:\n",
    "String1: \"abcbba\"\n",
    "String2: \"abcbda\"\n",
    "\n",
    "Hamming Distance: 1 - \"b\" vs. \"d\" is the only difference.\n",
    "Create a function that computes the hamming distance between two strings.\n",
    "\n",
    "Examples\n",
    "\n",
    "hamming_distance(\"abcde\", \"bcdef\") ➞ 5\n",
    "\n",
    "hamming_distance(\"abcde\", \"abcde\") ➞ 0\n",
    "\n",
    "hamming_distance(\"strong\", \"strung\") ➞ 1\n"
   ]
  },
  {
   "cell_type": "code",
   "execution_count": 20,
   "id": "e9ff3ea2",
   "metadata": {},
   "outputs": [
    {
     "name": "stdout",
     "output_type": "stream",
     "text": [
      "hamming_distance(\"abcde\", \"bcdef\") ➞ 5\n",
      "hamming_distance(\"abcde\", \"abcde\") ➞ 0\n",
      "hamming_distance(\"strong\", \"strung\") ➞ 1\n"
     ]
    }
   ],
   "source": [
    "def hamming_distance(str1, str2):\n",
    "    i = 0\n",
    "    count = 0\n",
    "    while(i < len(str1)):\n",
    "        if str1[i] != str2[i]:\n",
    "            count += 1\n",
    "        i += 1\n",
    "    return count\n",
    " \n",
    "print(f'hamming_distance(\"abcde\", \"bcdef\") ➞ {hamming_distance(\"abcde\", \"bcdef\")}')\n",
    "print(f'hamming_distance(\"abcde\", \"abcde\") ➞ {hamming_distance(\"abcde\", \"abcde\")}')\n",
    "print(f'hamming_distance(\"strong\", \"strung\") ➞ {hamming_distance(\"strong\", \"strung\")}')"
   ]
  }
 ],
 "metadata": {
  "kernelspec": {
   "display_name": "Python 3 (ipykernel)",
   "language": "python",
   "name": "python3"
  },
  "language_info": {
   "codemirror_mode": {
    "name": "ipython",
    "version": 3
   },
   "file_extension": ".py",
   "mimetype": "text/x-python",
   "name": "python",
   "nbconvert_exporter": "python",
   "pygments_lexer": "ipython3",
   "version": "3.11.1"
  }
 },
 "nbformat": 4,
 "nbformat_minor": 5
}
