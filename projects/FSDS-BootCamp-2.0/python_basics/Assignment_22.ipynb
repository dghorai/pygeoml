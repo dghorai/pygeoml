{
 "cells": [
  {
   "cell_type": "markdown",
   "id": "c32cf4d0",
   "metadata": {},
   "source": [
    "1. What is the result of the code, and explain?"
   ]
  },
  {
   "cell_type": "raw",
   "id": "6d916aeb",
   "metadata": {},
   "source": [
    ">>>X='iNeuron'\n",
    ">>>def func():\n",
    "print(X)\n",
    "\n",
    ">>>func()"
   ]
  },
  {
   "cell_type": "code",
   "execution_count": 2,
   "id": "99edc7b8",
   "metadata": {},
   "outputs": [
    {
     "name": "stdout",
     "output_type": "stream",
     "text": [
      "iNeuron\n"
     ]
    }
   ],
   "source": [
    "X = 'iNeuron'\n",
    "\n",
    "def func():\n",
    "    print(X)\n",
    "\n",
    "func()"
   ]
  },
  {
   "cell_type": "markdown",
   "id": "e5e9502e",
   "metadata": {},
   "source": [
    "The result of the above code is iNeuron. This is because the function func() try to find the value of the variable X in its local scope, but since there is no local variable called X, its return the value of the global variable X. "
   ]
  },
  {
   "cell_type": "markdown",
   "id": "72ac4e3e",
   "metadata": {},
   "source": [
    "2. What is the result of the code, and explain?"
   ]
  },
  {
   "cell_type": "raw",
   "id": "f56b26e5",
   "metadata": {},
   "source": [
    ">>>X='iNeuron'\n",
    ">>>def func():\n",
    "X='NI!'\n",
    "\n",
    ">>>func()\n",
    ">>>print(X)"
   ]
  },
  {
   "cell_type": "code",
   "execution_count": 10,
   "id": "792e8d54",
   "metadata": {},
   "outputs": [
    {
     "name": "stdout",
     "output_type": "stream",
     "text": [
      "iNeuron\n"
     ]
    }
   ],
   "source": [
    "X = 'iNeuron'\n",
    "\n",
    "def func():\n",
    "    X='NI!'\n",
    "\n",
    "func()\n",
    "print(X)"
   ]
  },
  {
   "cell_type": "markdown",
   "id": "b2dfb755",
   "metadata": {},
   "source": [
    "The Result of this cide is (i) None and (ii) iNeuron.\n",
    "(i) Result is None, because the function func() looks for the variable X in its local scope which is NI! and since there is no print or return statement, it is returning None as a result. \n",
    "(ii) Result is iNeuron, because variable X is not calling from inside of a function and it is directly calling using print statement from global scope of the variable."
   ]
  },
  {
   "cell_type": "markdown",
   "id": "9fbc4aca",
   "metadata": {},
   "source": [
    "3. What does this code print, and why?"
   ]
  },
  {
   "cell_type": "raw",
   "id": "528aca8c",
   "metadata": {},
   "source": [
    ">>>X='iNeuron'\n",
    ">>>def func():\n",
    "X='NI'\n",
    "print(X)\n",
    "\n",
    ">>>func()\n",
    ">>>print(X)"
   ]
  },
  {
   "cell_type": "code",
   "execution_count": 12,
   "id": "23b3a931",
   "metadata": {},
   "outputs": [
    {
     "name": "stdout",
     "output_type": "stream",
     "text": [
      "NI\n",
      "iNeuron\n"
     ]
    }
   ],
   "source": [
    "X = 'iNeuron'\n",
    "\n",
    "def func():\n",
    "    X='NI'\n",
    "    print(X)\n",
    "\n",
    "func()\n",
    "print(X)"
   ]
  },
  {
   "cell_type": "markdown",
   "id": "56b7c05a",
   "metadata": {},
   "source": [
    "The output of the code is NI and iNeuron. The result of func() is NI, because the variable inside of this function is in the local scope hence the function prints the value of X which is NI and since the variable X is also presence in the global scope, hence print(X) prints the output as iNeuron."
   ]
  },
  {
   "cell_type": "markdown",
   "id": "5677f7df",
   "metadata": {},
   "source": [
    "4. What output does this code produce? Why?"
   ]
  },
  {
   "cell_type": "raw",
   "id": "ac53ebe3",
   "metadata": {},
   "source": [
    ">>>X='iNeuron'\n",
    ">>>def func():\n",
    "global X\n",
    "X='NI'\n",
    "\n",
    ">>>func()\n",
    ">>>print(X)"
   ]
  },
  {
   "cell_type": "code",
   "execution_count": 13,
   "id": "092f0754",
   "metadata": {},
   "outputs": [
    {
     "name": "stdout",
     "output_type": "stream",
     "text": [
      "NI\n"
     ]
    }
   ],
   "source": [
    "X = 'iNeuron'\n",
    "\n",
    "def func():\n",
    "    global X\n",
    "    X='NI'\n",
    "\n",
    "func()\n",
    "print(X)"
   ]
  },
  {
   "cell_type": "markdown",
   "id": "00a749d8",
   "metadata": {},
   "source": [
    "The result of the code is NI, because global keyword inside any function allow to read and write a global variable i.e., allows us to modify the variable outside of the current scope. Perhaps, the global variable X change its value to NI inside of the func(), hence the result is NI."
   ]
  },
  {
   "cell_type": "markdown",
   "id": "0c65925a",
   "metadata": {},
   "source": [
    "5. What about this code—what’s the output, and why?"
   ]
  },
  {
   "cell_type": "raw",
   "id": "529e77e3",
   "metadata": {},
   "source": [
    ">>>X='iNeuron'\n",
    ">>>def func():\n",
    "X='NI'\n",
    "def nested():\n",
    "print(X)\n",
    "nested()\n",
    "\n",
    ">>>func()\n",
    ">>>X"
   ]
  },
  {
   "cell_type": "code",
   "execution_count": 14,
   "id": "deaa1b11",
   "metadata": {},
   "outputs": [
    {
     "name": "stdout",
     "output_type": "stream",
     "text": [
      "NI\n"
     ]
    },
    {
     "data": {
      "text/plain": [
       "'iNeuron'"
      ]
     },
     "execution_count": 14,
     "metadata": {},
     "output_type": "execute_result"
    }
   ],
   "source": [
    "X = 'iNeuron'\n",
    "\n",
    "def func():\n",
    "    X = 'NI'\n",
    "    def nested():\n",
    "        print(X)\n",
    "    nested()\n",
    "\n",
    "func()\n",
    "X"
   ]
  },
  {
   "cell_type": "markdown",
   "id": "abb269c0",
   "metadata": {},
   "source": [
    "--> The func() output is NI, because here the value of the variable X gets printed in inner function nested() from its local scope and this inner function is being called within func() itself.\n",
    "\n",
    "--> The result of the variable X is iNeuron, because the variable X is also presence in the global scope, hence X prints the output as iNeuron."
   ]
  },
  {
   "cell_type": "markdown",
   "id": "7cb59e9f",
   "metadata": {},
   "source": [
    "6. How about this code: what is its output in Python 3, and explain?"
   ]
  },
  {
   "cell_type": "raw",
   "id": "0b69b5ec",
   "metadata": {},
   "source": [
    ">>>def func():\n",
    "X='NI'\n",
    "def nested():\n",
    "nonlocal X\n",
    "X = 'Spam'\n",
    "nested()\n",
    "print(X)\n",
    "\n",
    ">>>func()"
   ]
  },
  {
   "cell_type": "code",
   "execution_count": 15,
   "id": "886e0dc6",
   "metadata": {},
   "outputs": [
    {
     "name": "stdout",
     "output_type": "stream",
     "text": [
      "Spam\n"
     ]
    }
   ],
   "source": [
    "def func():\n",
    "    X = 'NI'\n",
    "    def nested():\n",
    "        nonlocal X\n",
    "        X = 'Spam'\n",
    "    nested()\n",
    "    print(X)\n",
    "    \n",
    "func()"
   ]
  },
  {
   "cell_type": "markdown",
   "id": "4def3090",
   "metadata": {},
   "source": [
    "The output of the code is Spam. Generally, nonlocal keyword is used to declare a variable as not local. Perhaps, the variable X is modified in the global scope and prints the output as Spam of the func() call."
   ]
  }
 ],
 "metadata": {
  "kernelspec": {
   "display_name": "Python 3 (ipykernel)",
   "language": "python",
   "name": "python3"
  },
  "language_info": {
   "codemirror_mode": {
    "name": "ipython",
    "version": 3
   },
   "file_extension": ".py",
   "mimetype": "text/x-python",
   "name": "python",
   "nbconvert_exporter": "python",
   "pygments_lexer": "ipython3",
   "version": "3.11.1"
  }
 },
 "nbformat": 4,
 "nbformat_minor": 5
}
