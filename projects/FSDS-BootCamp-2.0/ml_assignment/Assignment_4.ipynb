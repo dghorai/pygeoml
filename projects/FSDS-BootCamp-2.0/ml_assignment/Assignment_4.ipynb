{
 "cells": [
  {
   "cell_type": "markdown",
   "metadata": {},
   "source": [
    "1. What are the key tasks involved in getting ready to work with machine learning modeling?"
   ]
  },
  {
   "cell_type": "markdown",
   "metadata": {},
   "source": [
    "Answer:\n",
    "\n",
    "Following are the key tasks involved in getting ready to work with machine learning modelling:\n",
    "\n",
    "- Define the goal:\n",
    "    - The first step is to define the problem statement that we want to solve with machine learning modeling - classification or regression\n",
    "- Data collection:\n",
    "    - The second step is to collect the data for the problem statement\n",
    "- Data preparation: \n",
    "    - Find data is consistent, clean, and usable overall.\n",
    "    - EDA (identify data elements, describe data distribution, transform the data, impute missing values, visualize data, identify logical relationship, derive patterns, etc.)\n",
    "    - Data preprocessing\n",
    "    - Data splitting\n"
   ]
  },
  {
   "cell_type": "markdown",
   "metadata": {},
   "source": [
    "2. What are the different forms of data used in machine learning? Give a specific example for each of them."
   ]
  },
  {
   "cell_type": "markdown",
   "metadata": {},
   "source": [
    "Answer:\n",
    "\n",
    "From a Machine Learning point of view, most data can be divided into 4 main categories: Numerical Data, Categorical Data, Time-Series Data, and Text Data.\n",
    "\n",
    "`Numerical Data`:\n",
    "\n",
    "The term numerical data refers to any data where the data points are precise numerical values. This data is also referred to as quantitative data. It can be used as a measure of a property's value, such as the price of a house, or as a calculation, such as the number of residential units in a city, or the number of houses sold in a city in the preceding year.  The two main types of numerical data are continuous data and discrete data. While continuous data can assume a value within a given range, discrete data has different values.\n",
    "\n",
    "`Categorical Data`:\n",
    "\n",
    "Categorical data is composed of numerical values, such as the position, team, and hometown of a hockey player. For instance, the colour red is represented by the value of 1, and the colour blue by the value of 2. However, these numerical values are not mathematically meaningful and cannot be aggregated or averaged.\n",
    "\n",
    "`Time-Series Data`:\n",
    "\n",
    "Time series data is basically a sequence of numbers that are collected over a certain time period at regular intervals. It's really important, especially in certain industries like finance, agriculture, etc. Each piece of data has a specific time value attached to it. For example, it could be a date or a time stamp that we can use to track trends over time.\n",
    "\n",
    "`Text Data`:\n",
    "\n",
    "Basically, text is just a cluster of words. Most of the time, the first thing we do with text is change it into numbers using cool functions like bag of words formulation. Natural Language Processing (NLP) uses string-based data, which is usually comments, comments or reviews.\n"
   ]
  },
  {
   "cell_type": "markdown",
   "metadata": {},
   "source": [
    "<pre>\n",
    "3. Distinguish:\n",
    "\n",
    "           1. Numeric vs. categorical attributes\n",
    "\n",
    "            2. Feature selection vs. dimensionality reduction\n",
    "\n",
    "</pre>"
   ]
  },
  {
   "cell_type": "markdown",
   "metadata": {},
   "source": [
    "Answer:\n",
    "\n",
    "- Numerical vs. categorical attributes:\n",
    "    - Numerical attribute is a type of data type that contains numbers. More specifically, it has an order to itself, is a mathematical data type, and can be an integer or a float data type.\n",
    "    - Category attribute is a data type that provides characteristics of a thing. It can also be a numeric data type. However, it has no order to itself and is not mathematically meaningful.\n",
    "- Feature selection vs. dimensionality reduction:\n",
    "    - The process of feature selection involves the inclusion of the most important features or those that bring most information to the machine learning modeling process when predicting or clustering, and the removal of the rest.\n",
    "    - Dimensionality reduction is the process of transforming and raising the explanatory features to a lower dimension, and it is also the process of removing the irrelevant features. Many machine learning algorithms suffer greatly from high dimensionality, which is why this process becomes so important.\n"
   ]
  },
  {
   "cell_type": "markdown",
   "metadata": {},
   "source": [
    "<pre>\n",
    "4. Make quick notes on any two of the following:\n",
    "\n",
    "            1. The histogram\n",
    "\n",
    "             2. Use a scatter plot\n",
    "\n",
    "              3.PCA (Personal Computer Aid)\n",
    "\n",
    "</pre>"
   ]
  },
  {
   "cell_type": "markdown",
   "metadata": {},
   "source": [
    "Answer:\n",
    "\n",
    "- Histogram:\n",
    "    - A histogram is a visual representation of a data series that divides the data points into ranges or bins that can be interpreted by the user. It is similar to the bar graph in that it divides multiple data points into logical ranges.\n",
    "- Scatter plot\n",
    "    - A scatter plot, also known as a scatter chart, or scatter graph, is a series of dots that represent the values of two different numerical values. The dots on the horizontal axis and the dots on the vertical axis indicate the values for a single data point. A scatter plot is used to show relationships between variables.\n",
    "    - Scattering plots are a technique for plotting two-dimensional (2D) or three-dimensional (3D) plots using two or three data point variables. They are essential for visualizing trends in low dimensional (3D) data.\n"
   ]
  },
  {
   "cell_type": "markdown",
   "metadata": {},
   "source": [
    "5. Why is it necessary to investigate data? Is there a discrepancy in how qualitative and quantitative data are explored?"
   ]
  },
  {
   "cell_type": "markdown",
   "metadata": {},
   "source": [
    "Answer:\n",
    "\n",
    "Data investigation is the process of examining data to identify trends, identify relevant observations, identify mistakes and missing values, and identify outliers that need to be corrected. In quantitative data exploration, data is obtained from observation and experimentation. In qualitative data exploration, most of the data is derived from a frequency table to form observations.\n"
   ]
  },
  {
   "cell_type": "markdown",
   "metadata": {},
   "source": [
    "6. What are the various histogram shapes? What exactly are ‘bins'?"
   ]
  },
  {
   "cell_type": "markdown",
   "metadata": {},
   "source": [
    "Answer:\n",
    "\n",
    "- Shapes of histograms may include left skewed histograms, right skewed histograms, approximately normal histograms, approximately homogeneous histograms, bimonodal histograms and more. \n",
    "- Bins are classes in which multiple qualitative values are grouped together based on the desired granularity and frequency.\n"
   ]
  },
  {
   "cell_type": "markdown",
   "metadata": {},
   "source": [
    "7. How do we deal with data outliers?"
   ]
  },
  {
   "cell_type": "markdown",
   "metadata": {},
   "source": [
    "Answer:\n",
    "\n",
    "- Outliers can be identified using a variety of methods, including descriptive statistical techniques, graphical techniques, or algorithm-based outlier detection. For instance, the average, standard deviation and quartile of the data can be calculated and the IQR (Interquartile Range) can be used to identify outliers. Outliers are those values that are greater than or equal to 1.5x the IQR of the median data. Alternatively, data points can be plotted using a box plot, scatter plot, or histogram, allowing for a visual inspection of the distribution and distribution of the data points.\n",
    "- If the outliers are in small numbers and their deletion does not cause a significant decrease in data, they can be discarded along with the whole data point. Conversely, if the outliers are very extreme and small in number against a high-dimensional data set, they can be replaced by imputed values. Outliers may also be providing some information to the data in the event of skewed distributions, in which case they must be retained.\n"
   ]
  },
  {
   "cell_type": "markdown",
   "metadata": {},
   "source": [
    "8. What are the various central inclination measures? Why does mean vary too much from median in certain data sets?"
   ]
  },
  {
   "cell_type": "markdown",
   "metadata": {},
   "source": [
    "Answer:\n",
    "\n",
    "Central Inclination Measures are Mean, Median and Mode. In some datasets, Mean is vary too much from Median due to the presence of outliers while Mean is the average of all points and median is the finding of a middle number.\n"
   ]
  },
  {
   "cell_type": "markdown",
   "metadata": {},
   "source": [
    "9. Describe how a scatter plot can be used to investigate bivariate relationships. Is it possible to find outliers using a scatter plot?"
   ]
  },
  {
   "cell_type": "markdown",
   "metadata": {},
   "source": [
    "Answer:\n",
    "\n",
    "Scatterplots are a useful tool for identifying linear relationships between variables with high positive or negative correlation coefficients, as the majority of the data points are in a straight line form. It is uses dot to represent values for two different numerical variables.  On the horizontal and vertical axes, the position of each dot indicates the values for a single data point. Thus, this visualization illustrates the concept of bivariate relationship. Other non-linear relationships, such as quadratic and trigonometric relationships, can be approximated and visually identified between two variables. Additionally, outliers can be identified using scatter plots.\n"
   ]
  },
  {
   "cell_type": "markdown",
   "metadata": {},
   "source": [
    "10. Describe how cross-tabs can be used to figure out how two variables are related."
   ]
  },
  {
   "cell_type": "markdown",
   "metadata": {},
   "source": [
    "Answer:\n",
    "\n",
    "Cross tabulation, also referred to as contingency table or cross tab, is a quantitative method of grouping variables to gain insight into the relationship between variables. It also demonstrates how the correlation between variables changes from one grouping to another.\n"
   ]
  }
 ],
 "metadata": {
  "language_info": {
   "name": "python"
  }
 },
 "nbformat": 4,
 "nbformat_minor": 2
}
