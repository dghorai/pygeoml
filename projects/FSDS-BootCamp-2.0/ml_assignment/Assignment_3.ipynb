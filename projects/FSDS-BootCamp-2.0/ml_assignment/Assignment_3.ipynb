{
 "cells": [
  {
   "cell_type": "markdown",
   "metadata": {},
   "source": [
    "1.Explain the term machine learning, and how does it work? Explain two machine learning applications in the business world. What are some of the ethical concerns that machine learning applications could raise?"
   ]
  },
  {
   "cell_type": "markdown",
   "metadata": {},
   "source": [
    "Answer:\n",
    "-> Machine Learning (ML) is a subset of Artificial Intelligence (AI) that trained computers to mimic of human behaviour by learning and improving past experience from data without being explicitly programmed.\n",
    "\n",
    "-> ML works by analyse and identify patterns from datasets and use this information to make better predictions on new data sets.\n",
    "\n",
    "-> ML applications in the business world:\n",
    "\n",
    "1) The use of machine learning to group like-minded customers and recommend them based on their past behavior on a streaming platform.\n",
    "\n",
    "2) Machine learning’s ability to look for patterns within large amounts of data to identify normal behavior as well as anomalies also makes it an effective cyber threat detection tool.\n",
    "\n",
    "-> Here are some of the potential ethical issues that ML applications could pose: privacy and surveillance, bias and discrimination, and perhaps the biggest philosophical challenge of our time is the role of human judgement.\n"
   ]
  },
  {
   "cell_type": "markdown",
   "metadata": {},
   "source": [
    "<pre>\n",
    "2. Describe the process of human learning:\n",
    "           i. Under the supervision of experts\n",
    "\n",
    "           ii. With the assistance of experts in an indirect manner\n",
    "\n",
    "            iii. Self-education\n",
    "\n",
    "</pte>"
   ]
  },
  {
   "cell_type": "markdown",
   "metadata": {},
   "source": [
    "Answer:\n",
    "\n",
    "-> Under the supervision of experts:\n",
    "\n",
    "Under supervision, learning happens when someone is giving the learner instructions. This instruction, or supervision, trains the learner on how to solve certain kinds of problems. These problems can be anything from formal communications to math calculations. The pre-calculated answers help the learner make corrections and correct the course during the learning process.\n",
    "\n",
    "-> With the assistance of experts in an indirect manner:\n",
    "\n",
    "Under indirect help, learning is defined as being guided by indirect means. These can be anything from books to regular advice from experts. This kind of guidance or supervision helps the learner learn how to solve certain kinds of problems, but not as easy as under supervision. These problems can be anything from formal communication to math calculations. Expert indirect help only allows for minor corrections and course corrections during learning.\n",
    "\n",
    "-> Self-education:\n",
    "\n",
    "Learning is not supervised, it's self-directed. It's the learner's job to figure out how to solve certain kinds of problems. These problems can be anything from formal communication to math calculations. Only the answers you give yourself will allow you to make mistakes and correct yourself during the learning process.\n"
   ]
  },
  {
   "cell_type": "markdown",
   "metadata": {},
   "source": [
    "3. Provide a few examples of various types of machine learning."
   ]
  },
  {
   "cell_type": "markdown",
   "metadata": {},
   "source": [
    "Answer:\n",
    "\n",
    "- Examples of Supervised Machine Learning\n",
    "    - Let's say you need to create an image classification algorithm that can tell the difference between a cat and a dog. You feed the algorithm a bunch of labelled images of dogs or cats, and it'll learn to tell the difference between the two. When we put in a new image of a dog or cat that it hasn't seen, it'll use the algorithms it's learned and figure out if it's a cat or a dog. That's what supervised learning is all about, especially when it comes to image classification.\n",
    "    - Other applications are image segmentation, medical diagnosis, etc.\n",
    "- Examples of Unsupervised Machine Learning:\n",
    "    - Let's say you have a set of data about the things you bought from the store. Clustering allows the algorithm to group the same buying behaviour together between you and other people. This way, you can find potential customers without any preconceived notions. This kind of data can help businesses find their target customers and also spot the outliers.\n",
    "    - Other applications are fraud detection, malware detection, anomaly detection, clustering analysis, etc.\n",
    "- Examples of Reinforcement Machine Learning:\n",
    "    - Let's say you're teaching an AI agent how to play chess. The AI agent sees different moves and gets a response based on what it does. Reinforcement learning also has uses where the AI learns how to do things by interacting with its environment.\n",
    "    - Other applications are self-driving cars, industry automation where learning-based robots are used to perform various tasks.\n"
   ]
  },
  {
   "cell_type": "markdown",
   "metadata": {},
   "source": [
    "4. Examine the various forms of machine learning."
   ]
  },
  {
   "cell_type": "markdown",
   "metadata": {},
   "source": [
    "Answer:\n",
    "\n",
    "Following are the forms of machine learning:\n",
    "\n",
    "1) Supervised learning\n",
    "2) Unsupervised learning\n",
    "3) Reinforcement learning\n"
   ]
  },
  {
   "cell_type": "markdown",
   "metadata": {},
   "source": [
    "5. Can you explain what a well-posed learning problem is? Explain the main characteristics that must be present to identify a learning problem properly."
   ]
  },
  {
   "cell_type": "markdown",
   "metadata": {},
   "source": [
    "Answer:\n",
    "A machine learning model can learn to do a particular task after it evaluates itself using an assessment metric. This is called a \"well posed learning problem\". It learns from certain types of actions that can be recorded.\n",
    "\n",
    "A computer program is said to learn from experience ‘E’ in context to some task ‘T’ and some performance measure ‘P’, if its performance on ‘T’, as was measured by ‘P’, upgrades with experience ‘E’. Any problem can be segregated as well-posed learning problem if it has three traits – ‘Task’, ‘Performance’ and ‘Experience’.\n"
   ]
  },
  {
   "cell_type": "markdown",
   "metadata": {},
   "source": [
    "6. Is machine learning capable of solving all problems? Give a detailed explanation of your answer."
   ]
  },
  {
   "cell_type": "markdown",
   "metadata": {},
   "source": [
    "Answer:\n",
    "\n",
    "Certainly, machine learning can't solve everything but it can only help you figure out what you want to achieve, and that's only if you have clear goals that aren't vague. Machine learning's ability to solve objective problems is also limited by existing statistical tools and algorithms.\n",
    "\n",
    "Some problems, like predicting how likely a patient is to get cancer or classifying spam, are still within the realm of well-defined goals. It's not possible to solve goals like ending world hunger, making real drugs for all types of cancer, or reviving an animal from cryopreservation with machine learning. But some bigger problems can fall into the machine learning category.\n",
    "\n",
    "You can use machine learning to predict what kind of food shortage the world could be facing in the next five years. That way, world leaders can come up with a plan to fight against it. Taking it to the cellular level, machine learning can be used to predict which type of cell might become cancerous by looking at a bunch of different cells based on things like lifestyle, current health, and more.\n",
    "\n",
    "So, Machine Learning isn't going to solve every problem, but it's definitely going to help us get around some of the limitations by figuring out how to solve them for us or at least some of them.\n"
   ]
  },
  {
   "cell_type": "markdown",
   "metadata": {},
   "source": [
    "7. What are the various methods and technologies for solving machine learning problems? Any two of them should be defined in detail."
   ]
  },
  {
   "cell_type": "markdown",
   "metadata": {},
   "source": [
    "Answer:\n",
    "\n",
    "The different techniques used in machine learning problems are: Regression, Classification, Clustering, Dimensionality Reduction, Ensemble Methods, Neural Network, Deep Learning, Transfer Learning, Reinforcement Learning, Natural Language Processing, and Word Embedding.\n",
    "\n",
    "- Regression method helps to forecast or explain a specific number based on a collection of previous data. For example, a property price can be predicted based on past pricing data and its associated data for comparable properties.\n",
    "- Ensemble models are models that combine multiple base learners that work in parallel to produce results. One of the key features of an ensemble model is that the more diverse the base learners, the more powerful the combination is and hence, the more accurate the predictions. Following are the types of Ensemble models:\n",
    "    - Bagging, also known as Bootstrap aggregation, is when multiple base learners are learning on a subset of data. After that, a majority vote is used based on the individual base learner results to produce the final result.\n",
    "    - Boosting is primarily used to mitigate model bias. Several base learners are taught in a sequence where each learner fills in the gaps left by the previous one to create a strong model.\n",
    "    - A stacking model is a collection of several base learner models that are built in parallel and independent of one another. All the models generate predictions that are used to build a meta classifier. The meta classifier trains on the predictions produced by the base models. The resulting meta classifier is then used as a final prediction. The space and time complexity issue is very large for stacking models.\n",
    "    - A cascading model is created when there is a high probability of making a prediction error. A threshold is selected for several base learners. If a base learner is confident about its prediction (probability>0.99), then the learner’s solution is considered the final solution. Otherwise, the problem is passed to a more advanced, complex model that solves the same problem as the previous one. Either the problem gets resolved with probability>0.99, or it keeps getting passed to a more complex model that is guaranteed to solve the problem.\n"
   ]
  },
  {
   "cell_type": "markdown",
   "metadata": {},
   "source": [
    "8. Can you explain the various forms of supervised learning? Explain each one with an example application."
   ]
  },
  {
   "cell_type": "markdown",
   "metadata": {},
   "source": [
    "Answer:\n",
    "\n",
    "Supervised learning can be divided into two types of problems, namely: regression and classification. Regression algorithms are used if there is a relationship between the input variable and the output variable. It is generally used for the prediction of continuous variables, such as weather forecasting, market trend, etc. \n",
    "\n",
    "The common and popular regression algorithms for supervised learning are: linear regression, regression trees, non-linear regression, Bayesian linear regression, and polynomial regression. \n",
    "\n",
    "The classification algorithms are used when the output variable is categorical. The common classification algorithms for supervised learning are: decision trees, random forest, logistic regression, and support vector machines.  \n",
    "\n",
    "`Regression`:\n",
    "\n",
    "Regression is when you use training data to generate a single output value. For instance, regression can help you figure out how much a house will cost based on where it is located, how big it is, etc.\n",
    "\n",
    "`Classification`:\n",
    "\n",
    "It's all about breaking down the information into categories. For example, if you're looking to lend money to someone, you could use classification to decide if they'd be a borrower or not.\n",
    "\n",
    "`Naïve Bayesian model`:\n",
    "\n",
    "Bayesian classification is a way of classifying large, small, and even lots of data. Basically, it's a way of assigning class labels to data using a graph that looks like a straight line.\n",
    "\n",
    "`Decision Tree`:\n",
    "\n",
    "It's a multi-class classifier that splits data points into multiple hyperplanes based on criteria, and classifies data points that meet certain thresholds/criteria but don't pass. In another way, it splits data points upside down and keeps splitting them for each criterion they don't pass. Decision Trees are based on the idea that you get the most info from dividing data points using criteria. Depth is a hyper-parameter for Decision Trees, so it needs to be fine-tuned. Bigger depths make it over-fitting, while smaller ones make it under-fitting. For IRIS dataset, you can classify the data points by each passed criteria (Petal length, Petal width, Sepal length and Sepal width).\n"
   ]
  },
  {
   "cell_type": "markdown",
   "metadata": {},
   "source": [
    "9. What is the difference between supervised and unsupervised learning? With a sample application in each region, explain the differences."
   ]
  },
  {
   "cell_type": "markdown",
   "metadata": {},
   "source": [
    "Answer:\n",
    "\n",
    "Algorithms for supervised learning are trained on labeled data, while algorithms for unsupervised learning are trained on unlabeled data. In unsupervised learning models, only raw data is fed into the model.\n",
    "\n",
    "Classification and regression problems can be done with supervised learning whereas clustering can be done with unsupervised learning.\n"
   ]
  },
  {
   "cell_type": "markdown",
   "metadata": {},
   "source": [
    "<pre>\n",
    "10. Describe the machine learning process in depth.\n",
    "a. Make brief notes on any two of the following:\n",
    "\n",
    "i.\tMATLAB is one of the most widely used programming languages.\n",
    "\n",
    "        ii. Deep learning applications in healthcare\n",
    "\n",
    "        iii. Study of the market basket\n",
    "\n",
    "         iv. Linear regression (simple)\n",
    "\n",
    "</pre>"
   ]
  },
  {
   "cell_type": "markdown",
   "metadata": {},
   "source": [
    "Answer:\n",
    "\n",
    "`Machine learning process`:\n",
    "\n",
    "- The initial step is to identify the problem statement that is desired to be solved. \n",
    "- Subsequently, data related to the problem statement is collected, which can be done through web scraping, surveys, or company records. \n",
    "- The data must then be cleaned, manipulated, or imputed with null values removed. \n",
    "- The cleaned data must then be divided into a training and a test set, with the training phase taking place over the cleaned data. \n",
    "- The training phase can take place either under the supervision of the problem statement or without, depending on the available labeled data.\n",
    "- Finally, the trained model is tested with performance metrics, which are based on the nature of the problem being solved and the algorithm employed. \n",
    "- Regression can be done with an R-squaring value, classification with log losses, and recall with precision scores, etc. \n",
    "- In the case of unsupervised models, the Dunn index (DI) or Davies–Bouldin (DB) Index may be used.\n",
    "\n",
    "`MATLAB`:\n",
    "\n",
    "MATLAB (short for Matrix Laboratory) is a popular programming language that is most commonly used in the development of high-level, technical programs with minimal space and time dependencies. MATLAB is distinguished by its graph plotting capability, rapid array-based calculations, and extensive mathematical functions library.\n",
    "\n",
    "`Deep learning applications in healthcare`:\n",
    "\n",
    "Deep learning enables the healthcare industry to process data at unprecedented speeds without sacrificing accuracy. It is not a form of machine learning or artificial intelligence, but rather an elegant combination of the two. Deep learning utilizes a layer-by-layer algorithmic structure to process data at an unprecedented rate. The advantages of deep learning for healthcare are numerous – rapid, efficient, and precise – but they are not limited to these three aspects alone. There are additional benefits derived from the neural networks composed of multiple layers of artificial intelligence and machine learning and their capacity to learn. The secret to the success of deep learning lies in its very name – learning.\n"
   ]
  },
  {
   "cell_type": "markdown",
   "metadata": {},
   "source": [
    "<pre>\n",
    "11. Make a comparison between:-\n",
    "\n",
    "         1. Generalization and abstraction\n",
    "\n",
    "          2. Learning that is guided and unsupervised\n",
    "\n",
    "          3. Regression and classification\n",
    "\n",
    "</pre>"
   ]
  },
  {
   "cell_type": "markdown",
   "metadata": {},
   "source": [
    "Answer:\n",
    "\n",
    "1.\tGeneralization and abstraction\n",
    "    - Machine learning models are characterized by their generalization, which determines the extent to which a model can handle variations in input data related to a problem statement. A model with a low generalization will be unable to provide accurate results over a wide range of data, resulting in overfitting or a high degree of variability. Conversely, a model with a high generalization will be capable of providing accurate results over wide ranges of data.\n",
    "    - In machine learning, abstraction is the process of simplifying a problem in order to improve its performance and reduce memory usage. An abstraction may consist of a single step or multiple steps. Examples of abstraction include feature selection and dimensionality reduction.\n",
    "2.\tLearning that is guided and unsupervised\n",
    "    - In supervised machine learning, labeled data is required. Performance metrics differ between regression and classification problems, and the number of class labels is known in advance. It is computationally demanding on the machine.\n",
    "    - Unsupervised Machine Learning is done on unlabeled data. Performance metrics for unsupervised machine learning are applicable for all issues being solved by this method. The number of class labels is unknown in advance. Computationally less demanding than supervised machine learning.\n",
    "3.\tRegression and classification\n",
    "    - Regression is the process of inferring the value of a target variable from labeled data. Target variables are independent variables whose values are part of an open set.\n",
    "    - The goal of classification is to predict the value of the target variable using labeled or unlabeled data based on independent variable values. Target variable values belong to a finite set.\n"
   ]
  }
 ],
 "metadata": {
  "language_info": {
   "name": "python"
  }
 },
 "nbformat": 4,
 "nbformat_minor": 2
}
