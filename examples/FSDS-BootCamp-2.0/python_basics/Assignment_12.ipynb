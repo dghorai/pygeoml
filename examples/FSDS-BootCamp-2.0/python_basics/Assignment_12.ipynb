{
 "cells": [
  {
   "cell_type": "markdown",
   "id": "56746d3f",
   "metadata": {},
   "source": [
    "1. In what modes should the PdfFileReader() and PdfFileWriter() File objects will be opened?"
   ]
  },
  {
   "cell_type": "markdown",
   "id": "7dbee50d",
   "metadata": {},
   "source": [
    "Answer:\n",
    "\n",
    "PdfFileReader() needs to be opened in read-binary mode by passing 'rb' as the second argument to open(). Similarly, the File object passed to PdfFileWriter() needs to be opened in write-binary mode with 'wb'."
   ]
  },
  {
   "cell_type": "code",
   "execution_count": null,
   "id": "cdd31999",
   "metadata": {},
   "outputs": [],
   "source": [
    "import PyPDF2\n",
    "\n",
    "input_pdf = open('test_pdf_file.pdf', 'rb')\n",
    "pdfReader = PyPDF2.PdfFileReader(input_pdf)\n",
    "\n",
    "\n",
    "page = pdfReader.getPage(0)\n",
    "pdfWriter = PyPDF2.PdfFileWriter()\n",
    "pdfWriter.addPage(page)\n",
    "output_pdf = open('rotatedPage.pdf', 'wb')\n",
    "pdfWriter.write(output_pdf)\n",
    "\n",
    "output_pdf.close()\n",
    "input_pdf.close()"
   ]
  },
  {
   "cell_type": "markdown",
   "id": "b282435e",
   "metadata": {},
   "source": [
    "2. From a PdfFileReader object, how do you get a Page object for page 5?"
   ]
  },
  {
   "cell_type": "markdown",
   "id": "00d944f9",
   "metadata": {},
   "source": [
    "Answer:\n",
    "\n",
    "The getPage() method with page number 4 is passed as an integer argument which will return a Page object for page 5 since the page number 0 argument is indicating the first page of the pdf"
   ]
  },
  {
   "cell_type": "code",
   "execution_count": null,
   "id": "916cc902",
   "metadata": {},
   "outputs": [],
   "source": [
    "import PyPDF2\n",
    "\n",
    "input_pdf = open(\"test_pdf_file.pdf\", 'rb')\n",
    "pdfReader = PyPDF2.PdfFileReader(input_pdf)\n",
    "\n",
    "pageObj = pdfReader.getPage(4)\n",
    "pageObj.extractText()"
   ]
  },
  {
   "cell_type": "markdown",
   "id": "ab4ded8f",
   "metadata": {},
   "source": [
    "3. What PdfFileReader variable stores the number of pages in the PDF document?\n"
   ]
  },
  {
   "cell_type": "code",
   "execution_count": null,
   "id": "e3bd0933",
   "metadata": {},
   "outputs": [],
   "source": [
    "import PyPDF2\n",
    "\n",
    "input_pdf = open(\"test_pdf_file.pdf\",'rb')\n",
    "pdfReader = PyPDF2.PdfFileReader(input_pdf)\n",
    "\n",
    "pdfReader.numPages"
   ]
  },
  {
   "cell_type": "markdown",
   "id": "0511a29a",
   "metadata": {},
   "source": [
    "4. If a PdfFileReader object’s PDF is encrypted with the password swordfish, what must you do before you can obtain Page objects from it?\n"
   ]
  },
  {
   "cell_type": "markdown",
   "id": "daabefb9",
   "metadata": {},
   "source": [
    "Answer:\n",
    "\n",
    "We have to do decryption by calling .decrypt('swordfish') before obtain Page objects from it."
   ]
  },
  {
   "cell_type": "markdown",
   "id": "4106bf77",
   "metadata": {},
   "source": [
    "5. What methods do you use to rotate a page?\n"
   ]
  },
  {
   "cell_type": "markdown",
   "id": "5651eba6",
   "metadata": {},
   "source": [
    "Answer:\n",
    "\n",
    "The rotateClockwise() and rotateCounterClockwise() methods with the degrees to rotate is passed as an integer argument.\n",
    "     "
   ]
  },
  {
   "cell_type": "markdown",
   "id": "7383a12a",
   "metadata": {},
   "source": [
    "6. What is the difference between a Run object and a Paragraph object?\n"
   ]
  },
  {
   "cell_type": "markdown",
   "id": "7891fcec",
   "metadata": {},
   "source": [
    "Answer:\n",
    "\n",
    "Runs are contiguous groups of characters within a paragraph. A paragraph begins on a new line and contains multiple runs."
   ]
  },
  {
   "cell_type": "markdown",
   "id": "c8eb4bb5",
   "metadata": {},
   "source": [
    "7. How do you obtain a list of Paragraph objects for a Document object that’s stored in a variable named doc?\n"
   ]
  },
  {
   "cell_type": "markdown",
   "id": "bc28c613",
   "metadata": {},
   "source": [
    "Answer:\n",
    "\n",
    "doc.paragraphs will be used to obtain a list of Paragraph objects for a Document object that's stored in a variable named doc."
   ]
  },
  {
   "cell_type": "markdown",
   "id": "845da822",
   "metadata": {},
   "source": [
    "8. What type of object has bold, underline, italic, strike, and outline variables?\n"
   ]
  },
  {
   "cell_type": "markdown",
   "id": "9354f31b",
   "metadata": {},
   "source": [
    "Answer:\n",
    "\n",
    "A Run object has bold, underline, italic, strike, and outline variables."
   ]
  },
  {
   "cell_type": "markdown",
   "id": "e62a407f",
   "metadata": {},
   "source": [
    "9. What is the difference between False, True, and None for the bold variable?\n"
   ]
  },
  {
   "cell_type": "markdown",
   "id": "2ef87f22",
   "metadata": {},
   "source": [
    "Answer:\n",
    "\n",
    "True -> always makes the Run object bolded.\n",
    "\n",
    "False -> makes it always not bolded, no matter what the style’s bold setting is.\n",
    "\n",
    "None -> it will make the Run object just use the style’s bold setting."
   ]
  },
  {
   "cell_type": "markdown",
   "id": "b6085bba",
   "metadata": {},
   "source": [
    "10. How do you create a Document object for a new Word document?\n"
   ]
  },
  {
   "cell_type": "markdown",
   "id": "bfbb3d5f",
   "metadata": {},
   "source": [
    "Answer:\n",
    "\n",
    "Call the docx.Document() function."
   ]
  },
  {
   "cell_type": "markdown",
   "id": "93af3466",
   "metadata": {},
   "source": [
    "11. How do you add a paragraph with the text 'Hello, there!' to a Document object stored in a variable named doc?\n"
   ]
  },
  {
   "cell_type": "markdown",
   "id": "714012bf",
   "metadata": {},
   "source": [
    "Answer:\n",
    "\n",
    "doc.add_paragraph('Hello there!')"
   ]
  },
  {
   "cell_type": "markdown",
   "id": "13effc14",
   "metadata": {},
   "source": [
    "12. What integers represent the levels of headings available in Word documents?\n"
   ]
  },
  {
   "cell_type": "markdown",
   "id": "85bd1f18",
   "metadata": {},
   "source": [
    "Answer:\n",
    "\n",
    "The integers from 0 to 4 avaibale in Word documents represent the levels of headings."
   ]
  }
 ],
 "metadata": {
  "kernelspec": {
   "display_name": "Python 3 (ipykernel)",
   "language": "python",
   "name": "python3"
  },
  "language_info": {
   "codemirror_mode": {
    "name": "ipython",
    "version": 3
   },
   "file_extension": ".py",
   "mimetype": "text/x-python",
   "name": "python",
   "nbconvert_exporter": "python",
   "pygments_lexer": "ipython3",
   "version": "3.10.9"
  }
 },
 "nbformat": 4,
 "nbformat_minor": 5
}
