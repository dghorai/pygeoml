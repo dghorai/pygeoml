{
 "cells": [
  {
   "cell_type": "markdown",
   "id": "90e8c899",
   "metadata": {},
   "source": [
    "Question1\n",
    "\n",
    "Create a function that takes an integer and returns a list from 1 to the given number, where:\n",
    "\n",
    "1.\tIf the number can be divided evenly by 4, amplify it by 10 (i.e. return 10 times the number).\n",
    "\n",
    "2.\tIf the number cannot be divided evenly by 4, simply return the number.\n",
    "\n",
    "Examples\n",
    "\n",
    "amplify(4) ➞ [1, 2, 3, 40]\n",
    "\n",
    "amplify(3) ➞ [1, 2, 3]\n",
    "\n",
    "amplify(25) ➞ [1, 2, 3, 40, 5, 6, 7, 80, 9, 10, 11, 120, 13, 14, 15, 160, 17, 18, 19, 200, 21, 22, 23, 240, 25]\n",
    "\n",
    "Notes\n",
    "\n",
    "•\tThe given integer will always be equal to or greater than 1.\n",
    "\n",
    "•\tInclude the number (see example above).\n",
    "\n",
    "•\tTo perform this problem with its intended purpose, try doing it with list comprehensions. If that's too difficult, just solve the challenge any way you can.\n"
   ]
  },
  {
   "cell_type": "code",
   "execution_count": 3,
   "id": "3aeb701a",
   "metadata": {},
   "outputs": [
    {
     "name": "stdout",
     "output_type": "stream",
     "text": [
      "amplify(4) ➞ [1, 2, 3, 40]\n",
      "amplify(3) ➞ [1, 2, 3]\n",
      "amplify(25) ➞ [1, 2, 3, 40, 5, 6, 7, 80, 9, 10, 11, 120, 13, 14, 15, 160, 17, 18, 19, 200, 21, 22, 23, 240, 25]\n"
     ]
    }
   ],
   "source": [
    "def amplify(n):\n",
    "    res = []\n",
    "    for i in range(1, n+1):\n",
    "        if i%4 == 0:\n",
    "            res.append(i*10)\n",
    "        else:\n",
    "            res.append(i)\n",
    "    return res\n",
    "\n",
    "print(f'amplify(4) ➞ {amplify(4)}')\n",
    "print(f'amplify(3) ➞ {amplify(3)}')\n",
    "print(f'amplify(25) ➞ {amplify(25)}')"
   ]
  },
  {
   "cell_type": "markdown",
   "id": "d120b291",
   "metadata": {},
   "source": [
    "Question2\n",
    "\n",
    "Create a function that takes a list of numbers and return the number that's unique.\n",
    "\n",
    "Examples\n",
    "\n",
    "unique([3, 3, 3, 7, 3, 3]) ➞ 7\n",
    "\n",
    "unique([0, 0, 0.77, 0, 0]) ➞ 0.77\n",
    "\n",
    "unique([0, 1, 1, 1, 1, 1, 1, 1]) ➞ 0\n",
    "\n",
    "Notes\n",
    "\n",
    "Test cases will always have exactly one unique number while all others are the same.\n"
   ]
  },
  {
   "cell_type": "code",
   "execution_count": 10,
   "id": "87df755e",
   "metadata": {},
   "outputs": [
    {
     "name": "stdout",
     "output_type": "stream",
     "text": [
      "unique([3, 3, 3, 7, 3, 3]) ➞ 7\n",
      "unique([0, 0, 0.77, 0, 0]) ➞ 0.77\n",
      "unique([0, 1, 1, 1, 1, 1, 1, 1]) ➞ 0\n",
      "unique([0, 0, 1, 2, 3, 3, 5, 7]) ➞ 1, 2, 5, 7\n"
     ]
    }
   ],
   "source": [
    "def unique(lst):\n",
    "    unq_lst = []\n",
    "    frequency = {}\n",
    "\n",
    "    for i in lst:\n",
    "        if i in frequency:\n",
    "            frequency[i] += 1\n",
    "        else:\n",
    "            frequency[i] = 1\n",
    "            \n",
    "    for i in frequency.keys():\n",
    "        if frequency[i] == 1:\n",
    "            unq_lst.append(i)\n",
    "    \n",
    "    return \", \".join(str(i) for i in unq_lst)\n",
    "\n",
    "print(f'unique([3, 3, 3, 7, 3, 3]) ➞ {unique([3, 3, 3, 7, 3, 3])}')\n",
    "print(f'unique([0, 0, 0.77, 0, 0]) ➞ {unique([0, 0, 0.77, 0, 0])}')\n",
    "print(f'unique([0, 1, 1, 1, 1, 1, 1, 1]) ➞ {unique([0, 1, 1, 1, 1, 1, 1, 1])}')\n",
    "print(f'unique([0, 0, 1, 2, 3, 3, 5, 7]) ➞ {unique([0, 0, 1, 2, 3, 3, 5, 7])}')"
   ]
  },
  {
   "cell_type": "markdown",
   "id": "3755364b",
   "metadata": {},
   "source": [
    "Question3\n",
    "\n",
    "Your task is to create a Circle constructor that creates a circle with a radius provided by an argument. The circles constructed must have two getters getArea() (PIr^2) and getPerimeter() (2PI*r) which give both respective areas and perimeter (circumference).\n",
    "\n",
    "For help with this class, I have provided you with a Rectangle constructor which you can use as a base example.\n",
    "\n",
    "Examples\n",
    "\n",
    "circy = Circle(11)\n",
    "\n",
    "circy.getArea()\n",
    "\n",
    "#### Should return 380.132711084365\n",
    "\n",
    "circy = Circle(4.44)\n",
    "\n",
    "circy.getPerimeter()\n",
    "\n",
    "#### Should return 27.897342763877365\n",
    "\n",
    "Notes\n",
    "\n",
    "Round results up to the nearest integer.\n"
   ]
  },
  {
   "cell_type": "code",
   "execution_count": 15,
   "id": "d1ec9ae1",
   "metadata": {},
   "outputs": [
    {
     "name": "stdout",
     "output_type": "stream",
     "text": [
      "Area of a circle: 380\n",
      "Perimeter of a circle: 28\n"
     ]
    }
   ],
   "source": [
    "import math\n",
    "\n",
    "class Circle:\n",
    "    def __init__(self, radius):\n",
    "        \"\"\"Circle constructor\"\"\"\n",
    "        self.radius = radius\n",
    "        \n",
    "    def getArea(self):\n",
    "        return round(math.pi*self.radius**2)\n",
    "    \n",
    "    def getPerimeter(self):\n",
    "        return round(2*math.pi*self.radius)\n",
    "\n",
    "circy = Circle(11)\n",
    "print(f'Area of a circle: {circy.getArea()}')\n",
    "\n",
    "circy = Circle(4.44)\n",
    "print(f'Perimeter of a circle: {circy.getPerimeter()}')"
   ]
  },
  {
   "cell_type": "markdown",
   "id": "0e6c1896",
   "metadata": {},
   "source": [
    "Question4\n",
    "\n",
    "Create a function that takes a list of strings and return a list, sorted from shortest to longest.\n",
    "\n",
    "Examples\n",
    "\n",
    "sort_by_length([\"Google\", \"Apple\", \"Microsoft\"])\n",
    "➞ [\"Apple\", \"Google\", \"Microsoft\"]\n",
    "\n",
    "sort_by_length([\"Leonardo\", \"Michelangelo\", \"Raphael\", \"Donatello\"])\n",
    "➞ [\"Raphael\", \"Leonardo\", \"Donatello\", \"Michelangelo\"]\n",
    "\n",
    "sort_by_length([\"Turing\", \"Einstein\", \"Jung\"])\n",
    "➞ [\"Jung\", \"Turing\", \"Einstein\"]\n",
    "\n",
    "Notes\n",
    "\n",
    "All test cases contain lists with strings of different lengths, so you won't have to deal with multiple strings of the same length.\n"
   ]
  },
  {
   "cell_type": "code",
   "execution_count": 17,
   "id": "3ca3effb",
   "metadata": {},
   "outputs": [
    {
     "name": "stdout",
     "output_type": "stream",
     "text": [
      "sort_by_length([\"Google\", \"Apple\", \"Microsoft\"]) ➞ ['Apple', 'Google', 'Microsoft']\n",
      "sort_by_length([\"Leonardo\", \"Michelangelo\", \"Raphael\", \"Donatello\"]) ➞ ['Raphael', 'Leonardo', 'Donatello', 'Michelangelo']\n",
      "sort_by_length([\"Turing\", \"Einstein\", \"Jung\"]) ➞ ['Jung', 'Turing', 'Einstein']\n"
     ]
    }
   ],
   "source": [
    "def sort_by_length(lst):\n",
    "    return sorted(lst, key=len)\n",
    "\n",
    "print(f'sort_by_length([\"Google\", \"Apple\", \"Microsoft\"]) ➞ {sort_by_length([\"Google\", \"Apple\", \"Microsoft\"])}')\n",
    "print(f'sort_by_length([\"Leonardo\", \"Michelangelo\", \"Raphael\", \"Donatello\"]) ➞ {sort_by_length([\"Leonardo\", \"Michelangelo\", \"Raphael\", \"Donatello\"])}')\n",
    "print(f'sort_by_length([\"Turing\", \"Einstein\", \"Jung\"]) ➞ {sort_by_length([\"Turing\", \"Einstein\", \"Jung\"])}')"
   ]
  },
  {
   "cell_type": "markdown",
   "id": "bc581ee4",
   "metadata": {},
   "source": [
    "Question5\n",
    "\n",
    "Create a function that validates whether three given integers form a Pythagorean triplet. The sum of the squares of the two smallest integers must equal the square of the largest number to be validated.\n",
    "\n",
    "Examples\n",
    "\n",
    "is_triplet(3, 4, 5) ➞ True\n",
    "#### 3² + 4² = 25\n",
    "#### 5² = 25\n",
    "\n",
    "is_triplet(13, 5, 12) ➞ True\n",
    "#### 5² + 12² = 169\n",
    "#### 13² = 169\n",
    "\n",
    "is_triplet(1, 2, 3) ➞ False\n",
    "#### 1² + 2² = 5\n",
    "#### 3² = 9\n",
    "\n",
    "Notes\n",
    "\n",
    "Numbers may not be given in a sorted order.\n"
   ]
  },
  {
   "cell_type": "code",
   "execution_count": 24,
   "id": "e6a14a15",
   "metadata": {},
   "outputs": [
    {
     "name": "stdout",
     "output_type": "stream",
     "text": [
      "is_triplet(3, 4, 5) ➞ True\n",
      "is_triplet(13, 5, 12) ➞ True\n",
      "is_triplet(1, 2, 3) ➞ False\n"
     ]
    }
   ],
   "source": [
    "def is_triplet(a, b, c):\n",
    "    # sort ascending integers\n",
    "    lst = [a, b, c]\n",
    "    \n",
    "    # new a, b, c\n",
    "    a, b, c = list(sorted(lst))\n",
    "    \n",
    "    # validate\n",
    "    if (a**2 + b**2) == c**2:\n",
    "        res = True\n",
    "    else:\n",
    "        res = False\n",
    "        \n",
    "    return res\n",
    "        \n",
    "print(f'is_triplet(3, 4, 5) ➞ {is_triplet(3, 4, 5)}')\n",
    "print(f'is_triplet(13, 5, 12) ➞ {is_triplet(13, 5, 12)}')\n",
    "print(f'is_triplet(1, 2, 3) ➞ {is_triplet(1, 2, 3)}')"
   ]
  }
 ],
 "metadata": {
  "kernelspec": {
   "display_name": "Python 3 (ipykernel)",
   "language": "python",
   "name": "python3"
  },
  "language_info": {
   "codemirror_mode": {
    "name": "ipython",
    "version": 3
   },
   "file_extension": ".py",
   "mimetype": "text/x-python",
   "name": "python",
   "nbconvert_exporter": "python",
   "pygments_lexer": "ipython3",
   "version": "3.11.1"
  }
 },
 "nbformat": 4,
 "nbformat_minor": 5
}
