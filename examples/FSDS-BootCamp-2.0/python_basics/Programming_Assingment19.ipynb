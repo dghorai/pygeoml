{
 "cells": [
  {
   "cell_type": "markdown",
   "id": "c34c5665",
   "metadata": {},
   "source": [
    "Question1\n",
    "\n",
    "Create a function that takes a string and returns a string in which each character is repeated once.\n",
    "\n",
    "Examples\n",
    "\n",
    "double_char(\"String\") ➞ \"SSttrriinngg\"\n",
    "\n",
    "double_char(\"Hello World!\") ➞ \"HHeelllloo  WWoorrlldd!!\"\n",
    "\n",
    "double_char(\"1234!_ \") ➞ \"11223344!!__  \"\n"
   ]
  },
  {
   "cell_type": "code",
   "execution_count": 5,
   "id": "49068133",
   "metadata": {},
   "outputs": [
    {
     "name": "stdout",
     "output_type": "stream",
     "text": [
      "double_char(\"String\") ➞ SSttrriinngg\n",
      "double_char(\"Hello World!\") ➞ HHeelllloo WWoorrlldd!!\n",
      "double_char(\"1234!_ \") ➞ 11223344!!__ \n"
     ]
    }
   ],
   "source": [
    "def double_char(string):\n",
    "    str_split = string.split(\" \")\n",
    "    word_list = []\n",
    "    for s in str_split:\n",
    "        word = ''.join(str(i*2) for i in list(s))\n",
    "        word_list.append(word)\n",
    "    return \" \".join(word_list)\n",
    "\n",
    "print(f'double_char(\"String\") ➞ {double_char(\"String\")}')\n",
    "print(f'double_char(\"Hello World!\") ➞ {double_char(\"Hello World!\")}')\n",
    "print(f'double_char(\"1234!_ \") ➞ {double_char(\"1234!_ \")}')"
   ]
  },
  {
   "cell_type": "markdown",
   "id": "1f9fc080",
   "metadata": {},
   "source": [
    "Question2\n",
    "\n",
    "Create a function that reverses a boolean value and returns the string \"boolean expected\" if another variable type is given.\n",
    "\n",
    "Examples\n",
    "\n",
    "reverse(True) ➞ False\n",
    "\n",
    "reverse(False) ➞ True\n",
    "\n",
    "reverse(0) ➞ \"boolean expected\"\n",
    "\n",
    "reverse(None) ➞ \"boolean expected\"\n"
   ]
  },
  {
   "cell_type": "code",
   "execution_count": 7,
   "id": "1508916e",
   "metadata": {},
   "outputs": [
    {
     "name": "stdout",
     "output_type": "stream",
     "text": [
      "reverse(True) ➞ False\n",
      "reverse(False) ➞ True\n",
      "reverse(0) ➞ \"boolean expected\"\n",
      "reverse(None) ➞ \"boolean expected\"\n"
     ]
    }
   ],
   "source": [
    "def reverse(b):\n",
    "    if type(b) == bool:\n",
    "        return not b\n",
    "    else:\n",
    "        return '\"boolean expected\"'\n",
    "\n",
    "print(f'reverse(True) ➞ {reverse(True)}')\n",
    "print(f'reverse(False) ➞ {reverse(False)}')\n",
    "print(f'reverse(0) ➞ {reverse(0)}')\n",
    "print(f'reverse(None) ➞ {reverse(None)}')"
   ]
  },
  {
   "cell_type": "markdown",
   "id": "8f5f9200",
   "metadata": {},
   "source": [
    "Question3\n",
    "\n",
    "Create a function that returns the thickness (in meters) of a piece of paper after folding it n number of times. The paper starts off with a thickness of 0.5mm.\n",
    "\n",
    "Examples\n",
    "\n",
    "num_layers(1) ➞ \"0.001m\"\n",
    "\n",
    "#### Paper folded once is 1mm (equal to 0.001m)\n",
    "\n",
    "num_layers(4) ➞ \"0.008m\"\n",
    "\n",
    "#### Paper folded 4 times is 8mm (equal to 0.008m)\n",
    "\n",
    "num_layers(21) ➞ \"1048.576m\"\n",
    "\n",
    "#### Paper folded 21 times is 1048576mm (equal to 1048.576m)\n"
   ]
  },
  {
   "cell_type": "code",
   "execution_count": 9,
   "id": "df954930",
   "metadata": {},
   "outputs": [
    {
     "name": "stdout",
     "output_type": "stream",
     "text": [
      "num_layers(1) ➞ \"0.001m\"\n",
      "num_layers(4) ➞ \"0.008m\"\n",
      "num_layers(21) ➞ \"1048.576m\"\n"
     ]
    }
   ],
   "source": [
    "def num_layers(n_fold):\n",
    "    res = 0.5\n",
    "    for _ in range(n_fold):\n",
    "        res *= 2\n",
    "    res = res/1000  # for meters\n",
    "    return res\n",
    "    \n",
    "print(f'num_layers(1) ➞ \"{num_layers(1)}m\"')\n",
    "print(f'num_layers(4) ➞ \"{num_layers(4)}m\"')\n",
    "print(f'num_layers(21) ➞ \"{num_layers(21)}m\"')"
   ]
  },
  {
   "cell_type": "markdown",
   "id": "fb159848",
   "metadata": {},
   "source": [
    "Question4\n",
    "\n",
    "Create a function that takes a single string as argument and returns an ordered list containing the indices of all capital letters in the string.\n",
    "\n",
    "Examples\n",
    "\n",
    "index_of_caps(\"eDaBiT\") ➞ [1, 3, 5]\n",
    "\n",
    "index_of_caps(\"eQuINoX\") ➞ [1, 3, 4, 6]\n",
    "\n",
    "index_of_caps(\"determine\") ➞ []\n",
    "\n",
    "index_of_caps(\"STRIKE\") ➞ [0, 1, 2, 3, 4, 5]\n",
    "\n",
    "index_of_caps(\"sUn\") ➞ [1]\n"
   ]
  },
  {
   "cell_type": "code",
   "execution_count": 11,
   "id": "f85e085f",
   "metadata": {},
   "outputs": [
    {
     "name": "stdout",
     "output_type": "stream",
     "text": [
      "index_of_caps(\"eDaBiT\") ➞ [1, 3, 5]\n",
      "index_of_caps(\"eQuINoX\") ➞ [1, 3, 4, 6]\n",
      "index_of_caps(\"determine\") ➞ []\n",
      "index_of_caps(\"STRIKE\") ➞ [0, 1, 2, 3, 4, 5]\n",
      "index_of_caps(\"sUn\") ➞ [1]\n"
     ]
    }
   ],
   "source": [
    "def index_of_caps(s):\n",
    "    res = []\n",
    "    for i in s:\n",
    "        if i.isupper():\n",
    "            index_no = s.index(i)\n",
    "            res.append(index_no)\n",
    "    return res\n",
    "\n",
    "print(f'index_of_caps(\"eDaBiT\") ➞ {index_of_caps(\"eDaBiT\")}')\n",
    "print(f'index_of_caps(\"eQuINoX\") ➞ {index_of_caps(\"eQuINoX\")}')\n",
    "print(f'index_of_caps(\"determine\") ➞ {index_of_caps(\"determine\")}')\n",
    "print(f'index_of_caps(\"STRIKE\") ➞ {index_of_caps(\"STRIKE\")}')\n",
    "print(f'index_of_caps(\"sUn\") ➞ {index_of_caps(\"sUn\")}')"
   ]
  },
  {
   "cell_type": "markdown",
   "id": "6416310a",
   "metadata": {},
   "source": [
    "Question5\n",
    "\n",
    "Using list comprehensions, create a function that finds all even numbers from 1 to the given number.\n",
    "\n",
    "Examples\n",
    "\n",
    "find_even_nums(8) ➞ [2, 4, 6, 8]\n",
    "\n",
    "find_even_nums(4) ➞ [2, 4]\n",
    "\n",
    "find_even_nums(2) ➞ [2]\n"
   ]
  },
  {
   "cell_type": "code",
   "execution_count": 12,
   "id": "00f82167",
   "metadata": {},
   "outputs": [
    {
     "name": "stdout",
     "output_type": "stream",
     "text": [
      "find_even_nums(8) ➞ [2, 4, 6, 8]\n",
      "find_even_nums(4) ➞ [2, 4]\n",
      "find_even_nums(2) ➞ [2]\n"
     ]
    }
   ],
   "source": [
    "def find_even_nums(n):\n",
    "    if n > 1:\n",
    "        return [i for i in range(1, n+1) if i%2 == 0]\n",
    "    return\n",
    "\n",
    "print(f'find_even_nums(8) ➞ {find_even_nums(8)}')\n",
    "print(f'find_even_nums(4) ➞ {find_even_nums(4)}')\n",
    "print(f'find_even_nums(2) ➞ {find_even_nums(2)}')"
   ]
  }
 ],
 "metadata": {
  "kernelspec": {
   "display_name": "Python 3 (ipykernel)",
   "language": "python",
   "name": "python3"
  },
  "language_info": {
   "codemirror_mode": {
    "name": "ipython",
    "version": 3
   },
   "file_extension": ".py",
   "mimetype": "text/x-python",
   "name": "python",
   "nbconvert_exporter": "python",
   "pygments_lexer": "ipython3",
   "version": "3.11.1"
  }
 },
 "nbformat": 4,
 "nbformat_minor": 5
}
