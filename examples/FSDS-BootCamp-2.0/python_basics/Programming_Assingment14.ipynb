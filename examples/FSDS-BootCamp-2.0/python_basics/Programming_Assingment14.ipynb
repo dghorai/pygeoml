{
 "cells": [
  {
   "cell_type": "markdown",
   "id": "80ae0827",
   "metadata": {},
   "source": [
    "Question 1:\n",
    "\n",
    "Define a class with a generator which can iterate the numbers, which are divisible by 7, between a given range 0 and n."
   ]
  },
  {
   "cell_type": "code",
   "execution_count": 1,
   "id": "753717b3",
   "metadata": {},
   "outputs": [
    {
     "name": "stdout",
     "output_type": "stream",
     "text": [
      "0 7 14 21 28 35 42 49 56 63 70 77 84 91 98 "
     ]
    }
   ],
   "source": [
    "class class1:\n",
    "    \"\"\"Iterate numbers between 0 to n and get print which are divisible by 7\"\"\"\n",
    "    \n",
    "    def __init__(self, n):\n",
    "        \"\"\"Constructor\"\"\"\n",
    "        self.n = n\n",
    "        \n",
    "    def generator_func(self):\n",
    "        \"\"\"This is a generator function\"\"\"\n",
    "        start_num = 0\n",
    "        end_num = self.n + 1\n",
    "        \n",
    "        for i in range(start_num, end_num):\n",
    "            # check the number is divisible by 7 or not\n",
    "            if i % 7 == 0:\n",
    "                yield i\n",
    "\n",
    "# create an object of the class\n",
    "obj = class1(100)\n",
    "\n",
    "# call the generator function\n",
    "generator = obj.generator_func()\n",
    "\n",
    "# loop through the generator object to print all the values that are divisible by 7\n",
    "for i in generator:\n",
    "    print(i, end=' ')"
   ]
  },
  {
   "cell_type": "markdown",
   "id": "fab17891",
   "metadata": {},
   "source": [
    "Question 2:\n",
    "Write a program to compute the frequency of the words from the input. The output should output after sorting the key alphanumerically. \n",
    "\n",
    "\n",
    "Suppose the following input is supplied to the program:\n",
    "\n",
    "\n",
    "New to Python or choosing between Python 2 and Python 3? Read Python 2 or Python 3.\n",
    "\n",
    "\n",
    "Then, the output should be:\n",
    "\n",
    "\n",
    "2:2\n",
    "\n",
    "\n",
    "3.:1\n",
    "\n",
    "\n",
    "3?:1\n",
    "\n",
    "\n",
    "New:1\n",
    "\n",
    "\n",
    "Python:5\n",
    "\n",
    "\n",
    "Read:1\n",
    "\n",
    "\n",
    "and:1\n",
    "\n",
    "\n",
    "between:1\n",
    "\n",
    "\n",
    "choosing:1\n",
    "\n",
    "\n",
    "or:2\n",
    "\n",
    "to:1"
   ]
  },
  {
   "cell_type": "code",
   "execution_count": 4,
   "id": "0a71d091",
   "metadata": {},
   "outputs": [
    {
     "name": "stdout",
     "output_type": "stream",
     "text": [
      "Enter the string: New to Python or choosing between Python 2 and Python 3? Read Python 2 or Python 3.\n",
      "2:2\n",
      "3.:1\n",
      "3?:1\n",
      "New:1\n",
      "Python:5\n",
      "Read:1\n",
      "and:1\n",
      "between:1\n",
      "choosing:1\n",
      "or:2\n",
      "to:1\n"
     ]
    }
   ],
   "source": [
    "def frequency_of_words(string):\n",
    "    slist = string.split(\" \")\n",
    "    \n",
    "    word_freq = {}\n",
    "    \n",
    "    for i in slist:\n",
    "        if word_freq.get(i) == None:\n",
    "            word_freq[i] = 1\n",
    "        else:\n",
    "            word_freq[i] += 1\n",
    "    \n",
    "    sort_word_freq = sorted(word_freq)\n",
    "    \n",
    "    for i in sort_word_freq:\n",
    "        print(f'{i}:{word_freq[i]}')\n",
    "\n",
    "in_string = input(\"Enter the string: \")\n",
    "frequency_of_words(in_string)"
   ]
  },
  {
   "cell_type": "markdown",
   "id": "068f9bbc",
   "metadata": {},
   "source": [
    "Question 3:\n",
    "\n",
    "\n",
    "\n",
    "\n",
    "Define a class Person and its two child classes: Male and Female. All classes have a method \"getGender\" which can print \"Male\" for Male class and \"Female\" for Female class."
   ]
  },
  {
   "cell_type": "code",
   "execution_count": 5,
   "id": "afb74cb6",
   "metadata": {},
   "outputs": [
    {
     "name": "stdout",
     "output_type": "stream",
     "text": [
      "Male\n",
      "Female\n"
     ]
    }
   ],
   "source": [
    "class Person:\n",
    "    def getGender():\n",
    "        pass\n",
    "\n",
    "class Male(Person):\n",
    "    def getGender():\n",
    "        print(\"Male\")\n",
    "\n",
    "class Female(Person):\n",
    "    def getGender():\n",
    "        print(\"Female\")\n",
    "\n",
    "Male.getGender()\n",
    "Female.getGender()"
   ]
  },
  {
   "cell_type": "markdown",
   "id": "4609ac22",
   "metadata": {},
   "source": [
    "Question 4:\n",
    "\n",
    "Please write a program to generate all sentences where subject is in [\"I\", \"You\"] and verb is in [\"Play\", \"Love\"] and the object is in [\"Hockey\",\"Football\"]."
   ]
  },
  {
   "cell_type": "code",
   "execution_count": 10,
   "id": "14e3e1a3",
   "metadata": {},
   "outputs": [
    {
     "name": "stdout",
     "output_type": "stream",
     "text": [
      "I Play Hockey\n",
      "I Play Football\n",
      "I Love Hockey\n",
      "I Love Football\n",
      "You Play Hockey\n",
      "You Play Football\n",
      "You Love Hockey\n",
      "You Love Football\n"
     ]
    }
   ],
   "source": [
    "import itertools\n",
    "\n",
    "def generate_sentences(subject_lst, verb_lst, object_lst):\n",
    "    list_of_list = [subject_lst, verb_lst, object_lst]\n",
    "    permut_combine = list(itertools.product(*list_of_list))\n",
    "    for sen in permut_combine:\n",
    "        print(f'{\" \".join(str(i) for i in sen)}')\n",
    "\n",
    "\n",
    "subject_lst = [\"I\", \"You\"]\n",
    "verb_lst = [\"Play\", \"Love\"]\n",
    "object_lst = [\"Hockey\", \"Football\"]\n",
    "generate_sentences(subject_lst, verb_lst, object_lst)"
   ]
  },
  {
   "cell_type": "markdown",
   "id": "831ba037",
   "metadata": {},
   "source": [
    "Question 5:\n",
    "\n",
    "Please write a program to compress and decompress the string \"hello world!hello world!hello world!hello world!\"."
   ]
  },
  {
   "cell_type": "code",
   "execution_count": 16,
   "id": "ec967aba",
   "metadata": {},
   "outputs": [
    {
     "name": "stdout",
     "output_type": "stream",
     "text": [
      "b'x\\x9c\\xcbH\\xcd\\xc9\\xc9W(\\xcf/\\xcaIQ\\xcc \\x82\\r\\x00\\xbd[\\x11\\xf5'\n",
      "b'hello world!hello world!hello world!hello world!'\n"
     ]
    }
   ],
   "source": [
    "import zlib\n",
    "\n",
    "string = \"hello world!hello world!hello world!hello world!\"\n",
    "\n",
    "string2bytes = bytes(string, 'utf-8')\n",
    "\n",
    "compress_string = zlib.compress(string2bytes)\n",
    "\n",
    "decompress_string = zlib.decompress(compress_string)\n",
    "\n",
    "print(compress_string)\n",
    "print(decompress_string)"
   ]
  },
  {
   "cell_type": "markdown",
   "id": "0f8eb1b9",
   "metadata": {},
   "source": [
    "Question 6:\n",
    "\n",
    "Please write a binary search function which searches an item in a sorted list. The function should return the index of element to be searched in the list."
   ]
  },
  {
   "cell_type": "code",
   "execution_count": 22,
   "id": "c38f0471",
   "metadata": {},
   "outputs": [
    {
     "name": "stdout",
     "output_type": "stream",
     "text": [
      "None\n",
      "2\n"
     ]
    }
   ],
   "source": [
    "def binary_search(lst, item):\n",
    "    low = 0\n",
    "    high = len(lst) - 1\n",
    "    \n",
    "    while low <= high:\n",
    "        mid = round((low + high) / 2)\n",
    "        \n",
    "        if lst[mid] > item:\n",
    "            high = mid - 1\n",
    "        elif lst[mid] < item:\n",
    "            low = mid + 1\n",
    "        else:\n",
    "            return mid\n",
    "        \n",
    "    return None\n",
    "    \n",
    "lst = [1, 3, 5, 7, 8]\n",
    "print(binary_search(lst, 9))\n",
    "print(binary_search(lst, 5))"
   ]
  }
 ],
 "metadata": {
  "kernelspec": {
   "display_name": "Python 3 (ipykernel)",
   "language": "python",
   "name": "python3"
  },
  "language_info": {
   "codemirror_mode": {
    "name": "ipython",
    "version": 3
   },
   "file_extension": ".py",
   "mimetype": "text/x-python",
   "name": "python",
   "nbconvert_exporter": "python",
   "pygments_lexer": "ipython3",
   "version": "3.10.9"
  }
 },
 "nbformat": 4,
 "nbformat_minor": 5
}
