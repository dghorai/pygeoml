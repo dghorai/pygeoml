{
 "cells": [
  {
   "cell_type": "markdown",
   "id": "21a88426",
   "metadata": {},
   "source": [
    "1. Write a Python program to Extract Unique values dictionary values?"
   ]
  },
  {
   "cell_type": "code",
   "execution_count": 6,
   "id": "86444a55",
   "metadata": {},
   "outputs": [
    {
     "name": "stdout",
     "output_type": "stream",
     "text": [
      "[1, 5, 6, 7, 8, 9, 10, 11, 13]\n"
     ]
    }
   ],
   "source": [
    "in_dict = {'A': [5, 6, 7, 8, 9],\n",
    "           'B': [10, 11, 7, 6],\n",
    "           'C': [6, 13, 10, 7],\n",
    "           'D': [1, 8, 5, 6]\n",
    "          }\n",
    "\n",
    "print(list(set(sum(in_dict.values(), []))))"
   ]
  },
  {
   "cell_type": "markdown",
   "id": "a289406b",
   "metadata": {},
   "source": [
    "2. Write a Python program to find the sum of all items in a dictionary?"
   ]
  },
  {
   "cell_type": "code",
   "execution_count": 7,
   "id": "f1184d38",
   "metadata": {},
   "outputs": [
    {
     "name": "stdout",
     "output_type": "stream",
     "text": [
      "Sum of all items in dictionary is 125\n"
     ]
    }
   ],
   "source": [
    "in_dict = {'A': [5, 6, 7, 8, 9],\n",
    "           'B': [10, 11, 7, 6],\n",
    "           'C': [6, 13, 10, 7],\n",
    "           'D': [1, 8, 5, 6]\n",
    "          }\n",
    "\n",
    "print(\"Sum of all items in dictionary is {}\".format(sum(sum(in_dict.values(), []))))"
   ]
  },
  {
   "cell_type": "markdown",
   "id": "1c57c3ba",
   "metadata": {},
   "source": [
    "3. Write a Python program to Merging two Dictionaries?"
   ]
  },
  {
   "cell_type": "code",
   "execution_count": 11,
   "id": "6f0c1309",
   "metadata": {},
   "outputs": [
    {
     "name": "stdout",
     "output_type": "stream",
     "text": [
      "{'A': 10, 'B': 20, 'C': 30, 'D': 40, 'E': 50}\n"
     ]
    }
   ],
   "source": [
    "dict_1 = {\"A\": 10, \"B\": 20}\n",
    "dict_2 = {\"C\": 30, \"D\": 40, \"E\": 50}\n",
    "\n",
    "# method-1\n",
    "dict_merge = dict_1 | dict_2\n",
    "\n",
    "# method-2\n",
    "dict_merge = {**dict_1, **dict_2}\n",
    "\n",
    "# method-3\n",
    "dict_merge = dict_1.copy()\n",
    "dict_merge.update(dict_2)\n",
    "\n",
    "print(dict_merge)"
   ]
  },
  {
   "cell_type": "markdown",
   "id": "bca6ce40",
   "metadata": {},
   "source": [
    "4. Write a Python program to convert key-values list to flat dictionary?"
   ]
  },
  {
   "cell_type": "code",
   "execution_count": 12,
   "id": "614c87c2",
   "metadata": {},
   "outputs": [
    {
     "name": "stdout",
     "output_type": "stream",
     "text": [
      "{'A': 10, 'B': 20, 'C': 30, 'D': 40, 'E': 50}\n"
     ]
    }
   ],
   "source": [
    "in_dict = {\"Items\": [\"A\", \"B\", \"C\", \"D\", \"E\"], \"Values\": [10, 20, 30, 40, 50]}\n",
    "\n",
    "flat_dict = dict(zip(in_dict['Items'], in_dict['Values']))\n",
    "print(flat_dict)"
   ]
  },
  {
   "cell_type": "markdown",
   "id": "6ae560ef",
   "metadata": {},
   "source": [
    "5. Write a Python program to insertion at the beginning in OrderedDict?"
   ]
  },
  {
   "cell_type": "code",
   "execution_count": 17,
   "id": "3121eb9d",
   "metadata": {},
   "outputs": [
    {
     "name": "stdout",
     "output_type": "stream",
     "text": [
      "Initial OrderedDict: OrderedDict([('A', 10), ('B', 20), ('C', 30), ('D', 40)])\n",
      "Resultant dictionary: OrderedDict([('E', 50), ('A', 10), ('B', 20), ('C', 30), ('D', 40)])\n"
     ]
    }
   ],
   "source": [
    "from collections import OrderedDict\n",
    " \n",
    "in_ord_dict = OrderedDict([('A', 10), ('B', 20), ('C', 30), ('D', 40)])\n",
    "print(\"Initial OrderedDict: {}\".format(in_ord_dict))\n",
    "\n",
    "# add in the dict\n",
    "in_ord_dict.update({'E': 50})\n",
    "\n",
    "# move to the begining of the dict\n",
    "in_ord_dict.move_to_end('E', last = False)\n",
    "\n",
    "print(\"Resultant dictionary: {}\".format(in_ord_dict))"
   ]
  },
  {
   "cell_type": "markdown",
   "id": "41485cc9",
   "metadata": {},
   "source": [
    "6. Write a Python program to check order of character in string using OrderedDict()?"
   ]
  },
  {
   "cell_type": "code",
   "execution_count": 18,
   "id": "ef4cf027",
   "metadata": {},
   "outputs": [
    {
     "name": "stdout",
     "output_type": "stream",
     "text": [
      "Enter a string: iNeuron\n",
      "Enter character pattern: eu\n",
      "The order of character pattern in string is correct\n"
     ]
    }
   ],
   "source": [
    "from collections import OrderedDict\n",
    "\n",
    "def check_character_order(in_string, in_pattern):\n",
    "    dict1 = OrderedDict.fromkeys(in_string)\n",
    "    pattern_length = 0\n",
    "    for key, value in dict1.items():\n",
    "        if (key == in_pattern[pattern_length]):\n",
    "            pattern_length += 1\n",
    "        \n",
    "        if (pattern_length == (len(in_pattern))):\n",
    "            return 'The order of character pattern in string is correct'\n",
    "    return 'The order of character pattern in string is incorrect'\n",
    "\n",
    "in_string = input(\"Enter a string: \")\n",
    "in_pattern = input(\"Enter character pattern: \")\n",
    "print(check_character_order(in_string, in_pattern))"
   ]
  },
  {
   "cell_type": "markdown",
   "id": "98a22797",
   "metadata": {},
   "source": [
    "7. Write a Python program to sort Python Dictionaries by Key or Value?"
   ]
  },
  {
   "cell_type": "code",
   "execution_count": 19,
   "id": "e1f6519f",
   "metadata": {},
   "outputs": [
    {
     "name": "stdout",
     "output_type": "stream",
     "text": [
      "{'debabrata': 36, 'debu': 25, 'ram': 40, 'suraj': 32, 'yash': 21}\n"
     ]
    }
   ],
   "source": [
    "in_dict = {\n",
    "    'debabrata': 36, \n",
    "    'debu': 25,\n",
    "    'ram': 40, \n",
    "    'yash': 21, \n",
    "    'suraj': 32\n",
    "}\n",
    "\n",
    "keys = list(in_dict.keys())\n",
    "keys.sort()\n",
    "\n",
    "sorted_dict = {i: in_dict[i] for i in keys}\n",
    "print(sorted_dict)"
   ]
  }
 ],
 "metadata": {
  "kernelspec": {
   "display_name": "Python 3 (ipykernel)",
   "language": "python",
   "name": "python3"
  },
  "language_info": {
   "codemirror_mode": {
    "name": "ipython",
    "version": 3
   },
   "file_extension": ".py",
   "mimetype": "text/x-python",
   "name": "python",
   "nbconvert_exporter": "python",
   "pygments_lexer": "ipython3",
   "version": "3.10.9"
  }
 },
 "nbformat": 4,
 "nbformat_minor": 5
}
