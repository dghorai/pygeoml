{
 "cells": [
  {
   "cell_type": "markdown",
   "id": "76b679d7",
   "metadata": {},
   "source": [
    "1.\tWrite a Python Program to Find the Factorial of a Number?"
   ]
  },
  {
   "cell_type": "code",
   "execution_count": 3,
   "id": "7172a904",
   "metadata": {},
   "outputs": [
    {
     "name": "stdout",
     "output_type": "stream",
     "text": [
      "Enter a number: 5\n",
      "The factorial of 5 is 120\n"
     ]
    }
   ],
   "source": [
    "num = int(input(\"Enter a number: \"))\n",
    "\n",
    "if num < 0:\n",
    "    print(\"No factorial for negative numbers\")\n",
    "else:\n",
    "    factorial = 1\n",
    "    \n",
    "    for i in range(1, num + 1):\n",
    "        factorial = factorial*i\n",
    "        \n",
    "    print(\"The factorial of {0} is {1}\".format(num, factorial))"
   ]
  },
  {
   "cell_type": "markdown",
   "id": "9cb9a2cc",
   "metadata": {},
   "source": [
    "2.\tWrite a Python Program to Display the multiplication Table?"
   ]
  },
  {
   "cell_type": "code",
   "execution_count": 5,
   "id": "95eeffb6",
   "metadata": {},
   "outputs": [
    {
     "name": "stdout",
     "output_type": "stream",
     "text": [
      "Display the multiplication table of 19\n",
      "19 x 1 = 19\n",
      "19 x 2 = 38\n",
      "19 x 3 = 57\n",
      "19 x 4 = 76\n",
      "19 x 5 = 95\n",
      "19 x 6 = 114\n",
      "19 x 7 = 133\n",
      "19 x 8 = 152\n",
      "19 x 9 = 171\n",
      "19 x 10 = 190\n"
     ]
    }
   ],
   "source": [
    "num = int(input(\"Display the multiplication table of \"))\n",
    "\n",
    "for i in range(1, 11):\n",
    "   print(f'{num} x {i} = {num*i}')"
   ]
  },
  {
   "cell_type": "markdown",
   "id": "98bb9ee7",
   "metadata": {},
   "source": [
    "3.\tWrite a Python Program to Print the Fibonacci sequence?"
   ]
  },
  {
   "cell_type": "code",
   "execution_count": 29,
   "id": "fc158b2a",
   "metadata": {},
   "outputs": [
    {
     "name": "stdout",
     "output_type": "stream",
     "text": [
      "Enter how many Fibonacci sequence needed: 7\n",
      "The first 7 Fibonacci series are 0 1 1 2 3 5 8\n"
     ]
    }
   ],
   "source": [
    "n_terms = int(input(\"Enter how many Fibonacci sequence needed: \"))\n",
    "\n",
    "# first two terms are always 0 and 1\n",
    "n1 = 0\n",
    "n2 = 1\n",
    "\n",
    "fs = []\n",
    "for i in range(n_terms):\n",
    "    fs.append(n1)\n",
    "    n_next = n1 + n2\n",
    "    # update value\n",
    "    n1 = n2\n",
    "    n2 = n_next\n",
    "    \n",
    "print(\"The first {} Fibonacci series are {}\".format(n_terms, \" \".join(str(n) for n in fs)))"
   ]
  },
  {
   "cell_type": "markdown",
   "id": "01ea79f7",
   "metadata": {},
   "source": [
    "4.\tWrite a Python Program to Check Armstrong Number?"
   ]
  },
  {
   "cell_type": "code",
   "execution_count": 35,
   "id": "33c167f7",
   "metadata": {},
   "outputs": [
    {
     "name": "stdout",
     "output_type": "stream",
     "text": [
      "Enter a number: 407\n",
      "407 is an Armstrong number\n"
     ]
    }
   ],
   "source": [
    "num = int(input(\"Enter a number: \"))\n",
    "\n",
    "tot = 0\n",
    "\n",
    "# find the sum of the cube of each digit\n",
    "x = num\n",
    "while x > 0:\n",
    "    digit = x % 10\n",
    "    tot += digit**3\n",
    "    x //= 10\n",
    "\n",
    "if num == tot:\n",
    "   print(\"{} is an Armstrong number\".format(num))\n",
    "else:\n",
    "   print(\"{} is not an Armstrong number\".format(num))\n"
   ]
  },
  {
   "cell_type": "markdown",
   "id": "11cc7384",
   "metadata": {},
   "source": [
    "5.\tWrite a Python Program to Find Armstrong Number in an Interval?"
   ]
  },
  {
   "cell_type": "code",
   "execution_count": 47,
   "id": "5d06a61a",
   "metadata": {},
   "outputs": [
    {
     "name": "stdout",
     "output_type": "stream",
     "text": [
      "Enter the start number of the interval: 1\n",
      "Enter the end number of the interval: 100000\n",
      "The Armstrong numbers between 1 and 100000 are [1, 153, 370, 371, 407]\n"
     ]
    }
   ],
   "source": [
    "start_num = int(input(\"Enter the start number of the interval: \"))\n",
    "end_num = int(input(\"Enter the end number of the interval: \"))\n",
    "\n",
    "if start_num > end_num:\n",
    "    start_num, end_num = end_num, start_num\n",
    "\n",
    "an_list = []\n",
    "for i in range(start_num, end_num+1):\n",
    "    tot = 0\n",
    "    x = i\n",
    "    while x > 0:\n",
    "        digit = x % 10\n",
    "        tot += digit**3\n",
    "        x //= 10\n",
    "    \n",
    "    if i == tot:\n",
    "        an_list.append(i)\n",
    "\n",
    "print(f'The Armstrong numbers between {start_num} and {end_num} are {an_list}')"
   ]
  },
  {
   "cell_type": "markdown",
   "id": "310e513c",
   "metadata": {},
   "source": [
    "6.\tWrite a Python Program to Find the Sum of Natural Numbers?"
   ]
  },
  {
   "cell_type": "code",
   "execution_count": 52,
   "id": "f0189a3f",
   "metadata": {},
   "outputs": [
    {
     "name": "stdout",
     "output_type": "stream",
     "text": [
      "Enter a number: 500\n",
      "The Sum of Natural Numbers is 125250.0\n"
     ]
    }
   ],
   "source": [
    "n = int(input(\"Enter a number: \"))\n",
    "\n",
    "tot = n*(n+1)/2\n",
    "\n",
    "print(\"The Sum of Natural Numbers is {}\".format(tot))"
   ]
  }
 ],
 "metadata": {
  "kernelspec": {
   "display_name": "Python 3 (ipykernel)",
   "language": "python",
   "name": "python3"
  },
  "language_info": {
   "codemirror_mode": {
    "name": "ipython",
    "version": 3
   },
   "file_extension": ".py",
   "mimetype": "text/x-python",
   "name": "python",
   "nbconvert_exporter": "python",
   "pygments_lexer": "ipython3",
   "version": "3.11.1"
  }
 },
 "nbformat": 4,
 "nbformat_minor": 5
}
