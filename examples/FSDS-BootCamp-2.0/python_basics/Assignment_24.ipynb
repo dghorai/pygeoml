{
 "cells": [
  {
   "cell_type": "markdown",
   "id": "7ecfa19e",
   "metadata": {},
   "source": [
    "1. What is the relationship between def statements and lambda expressions ?"
   ]
  },
  {
   "cell_type": "markdown",
   "id": "5c80f5ae",
   "metadata": {},
   "source": [
    "Answer: \n",
    "\n",
    "The def keyword is used to define a function in Python. where as the lamba keyword is used to define/create anonymous functions in Python. The lambda function can be assigned to a variable and can be called using the variable later in the function. \n",
    "\n",
    "Both lambda and def create the same kind of function – they have the same kind of metadata and capabilities. Their technical difference is syntactical:\n",
    "\n",
    "--> A lambda is an expression producing a function.\n",
    "\n",
    "--> A def is a statement producing a function.\n",
    "\n",
    "Lambda is an inline function where we can do any functionality without a function name. It is helpful when we use it as an argument to a higher-order function"
   ]
  },
  {
   "cell_type": "code",
   "execution_count": 4,
   "id": "543ce5ef",
   "metadata": {},
   "outputs": [
    {
     "name": "stdout",
     "output_type": "stream",
     "text": [
      "30\n"
     ]
    }
   ],
   "source": [
    "def add(a,b):\n",
    "    return a+b\n",
    "\n",
    "print(add(10, 20))"
   ]
  },
  {
   "cell_type": "code",
   "execution_count": 5,
   "id": "0fac70f5",
   "metadata": {},
   "outputs": [
    {
     "name": "stdout",
     "output_type": "stream",
     "text": [
      "30\n"
     ]
    }
   ],
   "source": [
    "add = lambda x, y : x + y\n",
    "\n",
    "print(add(10, 20))"
   ]
  },
  {
   "cell_type": "markdown",
   "id": "404b0386",
   "metadata": {},
   "source": [
    "2. What is the benefit of lambda?"
   ]
  },
  {
   "cell_type": "markdown",
   "id": "d9a534a0",
   "metadata": {},
   "source": [
    "Answer:\n",
    "\n",
    "--> A lambda expression is a special syntax to create anonymous functions without names inside some complex functions if we are planning to use it only once.\n",
    "\n",
    "--> The lambda functions can have any number of arguments but only one expression along with an implicit return statement. \n",
    "\n",
    "--> Lambda functions are inline functions and hence they are used whenever there is a need of repetitive function calls to reduce execution time.\n",
    "\n",
    "--> Fuctions created using lambda expressions can be assigned to a variable and can be used by simply calling the variable"
   ]
  },
  {
   "cell_type": "markdown",
   "id": "6c72fb49",
   "metadata": {},
   "source": [
    "3. Compare and contrast map, filter, and reduce."
   ]
  },
  {
   "cell_type": "markdown",
   "id": "a429da2b",
   "metadata": {},
   "source": [
    "Answer:\n",
    "\n",
    "--> The map(), filter(), and reduce() functions are convenience functions that can be replaced with List Comprehensions or loops, but provide a more elegant and short-hand approach to some problems.\n",
    "\n",
    "--> The map() function iterates through all items in the given iterable and executes the function we passed as an argument on each of them.\n",
    "\n",
    "--> The filter() function forms a new list that contains only elements that satisfy a certain condition, i.e. the function we passed returns True.\n",
    "\n",
    "--> The reduce() function, as the name describes, applies a given function to the iterables and returns a single value."
   ]
  },
  {
   "cell_type": "code",
   "execution_count": 41,
   "id": "4e3fe19f",
   "metadata": {},
   "outputs": [
    {
     "name": "stdout",
     "output_type": "stream",
     "text": [
      "{0, 6, 10, 12, 14}\n",
      "{3, 5, 6, 7}\n",
      "21\n"
     ]
    }
   ],
   "source": [
    "from functools import reduce \n",
    "\n",
    "a_list = [0, 3, 5, 6, 7]\n",
    "\n",
    "map_object = set(map(lambda x: x*2, a_list))\n",
    "print(map_object)\n",
    "\n",
    "filter_object = set(filter(lambda x: x>2, a_list)) \n",
    "print(filter_object)\n",
    "\n",
    "reduce_object = reduce(lambda x, y: x + y, a_list)\n",
    "print(reduce_object)"
   ]
  },
  {
   "cell_type": "markdown",
   "id": "3690b497",
   "metadata": {},
   "source": [
    "4. What are function annotations, and how are they used?"
   ]
  },
  {
   "cell_type": "markdown",
   "id": "954823af",
   "metadata": {},
   "source": [
    "Answer:\n",
    "\n",
    "--> Function annotation is the standard way to access the metadata with the arguments and the return value of the function.\n",
    "\n",
    "--> These are some random and optional Python expressions that get associated to different parts of the function.\n",
    "\n",
    "--> They get evaluated only during the compile-time and have no significance during the run-time of the code.\n",
    "\n",
    "--> They are used to type check the functions by declaring the type of the parameters and the return value for the functions.\n",
    "\n",
    "--> The string-based annotations help us to improve the help messages.\n",
    "\n",
    "--> Annotations for simple parameters\n",
    "\n",
    "def func(x: 'float'=10.8, y: 'argument2'):\n",
    "    \n",
    "--> Annotations for excess parameters\n",
    "\n",
    "def func(*args: expression, **kwargs: expression):\n",
    "\n",
    "--> Annotations for nested parameters:\n",
    "\n",
    "def func((a: expression, b: expression), (c, d: expression)):\n",
    "\n",
    "--> Annotations for return values\n",
    "\n",
    "def func(a: expression) -> 'int':"
   ]
  },
  {
   "cell_type": "markdown",
   "id": "99e57c68",
   "metadata": {},
   "source": [
    "5. What are recursive functions, and how are they used?"
   ]
  },
  {
   "cell_type": "markdown",
   "id": "3032c172",
   "metadata": {},
   "source": [
    "Answer:\n",
    "\n",
    "A recursive function is a function that calls itself during its execution. \n",
    "The process may repeat several times, outputting the result and the end of each iteration."
   ]
  },
  {
   "cell_type": "markdown",
   "id": "9caef4cf",
   "metadata": {},
   "source": [
    "6. What are some general design guidelines for coding functions?"
   ]
  },
  {
   "cell_type": "markdown",
   "id": "e35445fb",
   "metadata": {},
   "source": [
    "Answer:\n",
    "\n",
    "--> Use a docstring to explain the functionality of the function.\n",
    "\n",
    "--> Avoid using or limited use of global variables\n",
    "\n",
    "--> Proper identation to increase the code readability\n",
    "\n",
    "--> Follow a naming convention for function names and stick with the same convention throughout the application.\n",
    "\n",
    "--> Avoid using digits while choosing a variable name\n",
    "\n",
    "--> Use a name for the function which conveys the purpose of the function\n",
    "\n",
    "--> Local variables should be named using camelCase format whereas Global variables names should be using PascalCase\n",
    "\n",
    "--> Constant should be represented in all caps"
   ]
  },
  {
   "cell_type": "markdown",
   "id": "4fd7c25a",
   "metadata": {},
   "source": [
    "7. Name three or more ways that functions can communicate results to a caller."
   ]
  },
  {
   "cell_type": "markdown",
   "id": "a8ee9e65",
   "metadata": {},
   "source": [
    "Answer:\n",
    "\n",
    "--> print()\n",
    "\n",
    "--> return\n",
    "\n",
    "--> yield"
   ]
  }
 ],
 "metadata": {
  "kernelspec": {
   "display_name": "Python 3 (ipykernel)",
   "language": "python",
   "name": "python3"
  },
  "language_info": {
   "codemirror_mode": {
    "name": "ipython",
    "version": 3
   },
   "file_extension": ".py",
   "mimetype": "text/x-python",
   "name": "python",
   "nbconvert_exporter": "python",
   "pygments_lexer": "ipython3",
   "version": "3.11.1"
  }
 },
 "nbformat": 4,
 "nbformat_minor": 5
}
