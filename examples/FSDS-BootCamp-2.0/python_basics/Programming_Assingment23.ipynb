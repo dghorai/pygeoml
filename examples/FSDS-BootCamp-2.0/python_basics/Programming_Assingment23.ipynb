{
 "cells": [
  {
   "cell_type": "markdown",
   "id": "1e4603ec",
   "metadata": {},
   "source": [
    "Question 1\n",
    "\n",
    "Create a function that takes a number as an argument and returns True or False depending on whether the number is symmetrical or not. A number is symmetrical when it is the same as its reverse.\n",
    "\n",
    "Examples\n",
    "\n",
    "is_symmetrical(7227) ➞ True\n",
    "\n",
    "is_symmetrical(12567) ➞ False\n",
    "\n",
    "is_symmetrical(44444444) ➞ True\n",
    "\n",
    "is_symmetrical(9939) ➞ False\n",
    "\n",
    "is_symmetrical(1112111) ➞ True"
   ]
  },
  {
   "cell_type": "code",
   "execution_count": 12,
   "id": "0eb85a4d",
   "metadata": {},
   "outputs": [
    {
     "name": "stdout",
     "output_type": "stream",
     "text": [
      "is_symmetrical(7227) ➞ True\n",
      "is_symmetrical(12567) ➞ False\n",
      "is_symmetrical(44444444) ➞ True\n",
      "is_symmetrical(9939) ➞ False\n",
      "is_symmetrical(1112111) ➞ True\n"
     ]
    }
   ],
   "source": [
    "def is_symmetrical(n):\n",
    "    res = False\n",
    "    if n == int(str(n)[::-1]):\n",
    "        res = True\n",
    "    return res\n",
    "\n",
    "print(f'is_symmetrical(7227) ➞ {is_symmetrical(7227)}')\n",
    "print(f'is_symmetrical(12567) ➞ {is_symmetrical(12567)}')\n",
    "print(f'is_symmetrical(44444444) ➞ {is_symmetrical(44444444)}')\n",
    "print(f'is_symmetrical(9939) ➞ {is_symmetrical(9939)}')\n",
    "print(f'is_symmetrical(1112111) ➞ {is_symmetrical(1112111)}')"
   ]
  },
  {
   "cell_type": "markdown",
   "id": "dda92bef",
   "metadata": {},
   "source": [
    "Question 2\n",
    "\n",
    "Given a string of numbers separated by a comma and space, return the product of the numbers.\n",
    "\n",
    "Examples\n",
    "\n",
    "multiply_nums(\"2, 3\") ➞ 6\n",
    "\n",
    "multiply_nums(\"1, 2, 3, 4\") ➞ 24\n",
    "\n",
    "multiply_nums(\"54, 75, 453, 0\") ➞ 0\n",
    "\n",
    "multiply_nums(\"10, -2\") ➞ -20"
   ]
  },
  {
   "cell_type": "code",
   "execution_count": 14,
   "id": "ea493dcf",
   "metadata": {},
   "outputs": [
    {
     "name": "stdout",
     "output_type": "stream",
     "text": [
      "multiply_nums(\"2, 3\") ➞ 6\n",
      "multiply_nums(\"1, 2, 3, 4\") ➞ 24\n",
      "multiply_nums(\"53, 75, 453, 0\") ➞ 0\n",
      "multiply_nums(\"10, -2\") ➞ -20\n"
     ]
    }
   ],
   "source": [
    "def multiply_nums(n_str):\n",
    "    n = [int(i) for i in n_str.split(\", \")]\n",
    "    prod = 1\n",
    "    for i in n:\n",
    "        prod *= i\n",
    "    return prod\n",
    "\n",
    "print(f'multiply_nums(\"2, 3\") ➞ {multiply_nums(\"2, 3\")}')\n",
    "print(f'multiply_nums(\"1, 2, 3, 4\") ➞ {multiply_nums(\"1, 2, 3, 4\")}')\n",
    "print(f'multiply_nums(\"53, 75, 453, 0\") ➞ {multiply_nums(\"53, 75, 453, 0\")}')\n",
    "print(f'multiply_nums(\"10, -2\") ➞ {multiply_nums(\"10, -2\")}')\n",
    "        "
   ]
  },
  {
   "cell_type": "markdown",
   "id": "8c7b886a",
   "metadata": {},
   "source": [
    "Question 3\n",
    "\n",
    "Create a function that squares every digit of a number.\n",
    "\n",
    "Examples\n",
    "\n",
    "square_digits(9119) ➞ 811181\n",
    "\n",
    "square_digits(2483) ➞ 416649\n",
    "\n",
    "square_digits(3212) ➞ 9414\n",
    "\n",
    "Notes\n",
    "\n",
    "The function receives an integer and must return an integer."
   ]
  },
  {
   "cell_type": "code",
   "execution_count": 20,
   "id": "46901790",
   "metadata": {},
   "outputs": [
    {
     "name": "stdout",
     "output_type": "stream",
     "text": [
      "square_digits(9119) ➞ 811181\n",
      "square_digits(2483) ➞ 416649\n",
      "square_digits(3212) ➞ 9414\n"
     ]
    }
   ],
   "source": [
    "def square_digits(n):\n",
    "    return int(\"\".join([str(int(i)**2) for i in list(str(n))]))\n",
    "\n",
    "print(f'square_digits(9119) ➞ {square_digits(9119)}')\n",
    "print(f'square_digits(2483) ➞ {square_digits(2483)}')\n",
    "print(f'square_digits(3212) ➞ {square_digits(3212)}')"
   ]
  },
  {
   "cell_type": "markdown",
   "id": "15e1c7c2",
   "metadata": {},
   "source": [
    "Question 4\n",
    "\n",
    "Create a function that sorts a list and removes all duplicate items from it.\n",
    "\n",
    "Examples\n",
    "\n",
    "setify([1, 3, 3, 5, 5]) ➞ [1, 3, 5]\n",
    "\n",
    "setify([4, 4, 4, 4]) ➞ [4]\n",
    "\n",
    "setify([5, 7, 8, 9, 10, 15]) ➞ [5, 7, 8, 9, 10, 15]\n",
    "\n",
    "setify([3, 3, 3, 2, 1]) ➞ [1, 2, 3]"
   ]
  },
  {
   "cell_type": "code",
   "execution_count": 22,
   "id": "5ac1a4a4",
   "metadata": {},
   "outputs": [
    {
     "name": "stdout",
     "output_type": "stream",
     "text": [
      "setify([1, 3, 3, 5, 5]) ➞ [1, 3, 5]\n",
      "setify([4, 4, 4, 4]) ➞ [4]\n",
      "setify([5, 7, 8, 9, 10, 15]) ➞ [5, 7, 8, 9, 10, 15]\n",
      "setify([3, 3, 3, 2, 1]) ➞ [1, 2, 3]\n"
     ]
    }
   ],
   "source": [
    "def setify(lst):\n",
    "    return list(set(lst))\n",
    "\n",
    "print(f'setify([1, 3, 3, 5, 5]) ➞ {setify([1, 3, 3, 5, 5])}')\n",
    "print(f'setify([4, 4, 4, 4]) ➞ {setify([4, 4, 4, 4])}')\n",
    "print(f'setify([5, 7, 8, 9, 10, 15]) ➞ {setify([5, 7, 8, 9, 10, 15])}')\n",
    "print(f'setify([3, 3, 3, 2, 1]) ➞ {setify([3, 3, 3, 2, 1])}')"
   ]
  },
  {
   "cell_type": "markdown",
   "id": "f2023e29",
   "metadata": {},
   "source": [
    "Question 5\n",
    "\n",
    "Create a function that returns the mean of all digits.\n",
    "\n",
    "Examples\n",
    "\n",
    "mean(42) ➞ 3\n",
    "\n",
    "mean(12345) ➞ 3\n",
    "\n",
    "mean(666) ➞ 6\n",
    "\n",
    "Notes\n",
    "\n",
    "    • The mean of all digits is the sum of digits / how many digits there are (e.g. mean of digits in 512 is (5+1+2)/3(number of digits) = 8/3=2).\n",
    "    • The mean will always be an integer."
   ]
  },
  {
   "cell_type": "code",
   "execution_count": 28,
   "id": "0f531021",
   "metadata": {},
   "outputs": [
    {
     "name": "stdout",
     "output_type": "stream",
     "text": [
      "mean(42) ➞ 3\n",
      "mean(12345) ➞ 3\n",
      "mean(666) ➞ 6\n"
     ]
    }
   ],
   "source": [
    "def mean(n):\n",
    "    digits = [int(i) for i in list(str(n))]\n",
    "    return int(sum(digits)/len(digits))\n",
    "\n",
    "print(f'mean(42) ➞ {mean(42)}')\n",
    "print(f'mean(12345) ➞ {mean(12345)}')\n",
    "print(f'mean(666) ➞ {mean(666)}')"
   ]
  }
 ],
 "metadata": {
  "kernelspec": {
   "display_name": "Python 3 (ipykernel)",
   "language": "python",
   "name": "python3"
  },
  "language_info": {
   "codemirror_mode": {
    "name": "ipython",
    "version": 3
   },
   "file_extension": ".py",
   "mimetype": "text/x-python",
   "name": "python",
   "nbconvert_exporter": "python",
   "pygments_lexer": "ipython3",
   "version": "3.10.9"
  }
 },
 "nbformat": 4,
 "nbformat_minor": 5
}
