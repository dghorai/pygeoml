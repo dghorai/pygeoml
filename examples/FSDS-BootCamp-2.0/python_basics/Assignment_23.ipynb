{
 "cells": [
  {
   "cell_type": "markdown",
   "id": "b05f8497",
   "metadata": {},
   "source": [
    "1. What is the result of the code, and why?"
   ]
  },
  {
   "cell_type": "raw",
   "id": "5669a133",
   "metadata": {},
   "source": [
    ">>> def func(a, b=6, c=8):\n",
    "print(a, b, c)\n",
    ">>> func(1, 2)"
   ]
  },
  {
   "cell_type": "code",
   "execution_count": 1,
   "id": "0ec39f09",
   "metadata": {},
   "outputs": [
    {
     "name": "stdout",
     "output_type": "stream",
     "text": [
      "1 2 8\n"
     ]
    }
   ],
   "source": [
    "def func(a, b=6, c=8):\n",
    "    print(a, b, c)\n",
    "    \n",
    "func(1, 2)"
   ]
  },
  {
   "cell_type": "markdown",
   "id": "6b2db420",
   "metadata": {},
   "source": [
    "The result of the above code is 1 2 8, because the function uses the default value of c that is 8 which is provided at the time of declaration and takes user define value for a and b while calling the function."
   ]
  },
  {
   "cell_type": "markdown",
   "id": "a399a8c3",
   "metadata": {},
   "source": [
    "2. What is the result of this code, and why?"
   ]
  },
  {
   "cell_type": "raw",
   "id": "c4b734cd",
   "metadata": {},
   "source": [
    ">>> def func(a, b, c=5):\n",
    "print(a, b, c)\n",
    ">>> func(1, c=3, b=2)"
   ]
  },
  {
   "cell_type": "code",
   "execution_count": 2,
   "id": "68a283f7",
   "metadata": {},
   "outputs": [
    {
     "name": "stdout",
     "output_type": "stream",
     "text": [
      "1 2 3\n"
     ]
    }
   ],
   "source": [
    "def func(a, b, c=5):\n",
    "    print(a, b, c)\n",
    "    \n",
    "func(1, c=3, b=2)"
   ]
  },
  {
   "cell_type": "markdown",
   "id": "52fc7845",
   "metadata": {},
   "source": [
    "The result of the above code is 1 2 3, because the function takes all the parameter values from the user given, hence it is not taking any default values for the arguments as all the agruments are provided wile calling the function. Since the argument name is mentioned while doing a function call, the order of the arguments is also ignored by the python interpreter."
   ]
  },
  {
   "cell_type": "markdown",
   "id": "e74d5edc",
   "metadata": {},
   "source": [
    "3. How about this code: what is its result, and why?"
   ]
  },
  {
   "cell_type": "raw",
   "id": "ab5cac79",
   "metadata": {},
   "source": [
    ">>> def func(a, *pargs):\n",
    "print(a, pargs)\n",
    ">>> func(1, 2, 3)"
   ]
  },
  {
   "cell_type": "code",
   "execution_count": 3,
   "id": "35ed8b9f",
   "metadata": {},
   "outputs": [
    {
     "name": "stdout",
     "output_type": "stream",
     "text": [
      "1 (2, 3)\n"
     ]
    }
   ],
   "source": [
    "def func(a, *pargs):\n",
    "    print(a, pargs)\n",
    "    \n",
    "func(1, 2, 3)"
   ]
  },
  {
   "cell_type": "markdown",
   "id": "fe259394",
   "metadata": {},
   "source": [
    "The result of the code is 1 (2, 3). Generally, when we do not know how many variable number of arguments or parameters need to be passed to a function we use *args. Perhaps, the *pargs stands for variable length arguments in this function. The values with this argument can be stored in a tuple."
   ]
  },
  {
   "cell_type": "markdown",
   "id": "f8cb5b86",
   "metadata": {},
   "source": [
    "4. What does this code print, and why?"
   ]
  },
  {
   "cell_type": "raw",
   "id": "d0b159ee",
   "metadata": {},
   "source": [
    ">>> def func(a, **kargs):\n",
    "print(a, kargs)\n",
    ">>> func(a=1, c=3, b=2)"
   ]
  },
  {
   "cell_type": "code",
   "execution_count": 5,
   "id": "12da7db9",
   "metadata": {},
   "outputs": [
    {
     "name": "stdout",
     "output_type": "stream",
     "text": [
      "1 {'c': 3, 'b': 2}\n"
     ]
    }
   ],
   "source": [
    "def func(a, **kargs):\n",
    "    print(a, kargs)\n",
    "    \n",
    "func(a=1, c=3, b=2)"
   ]
  },
  {
   "cell_type": "raw",
   "id": "172146ca",
   "metadata": {},
   "source": [
    "The result of the above code is 1 {'c': 3, 'b': 2}. \n",
    "Generally, in Python language, we can pass a variable number of arguments to a function using following two special symbols: *args (Non Keyword Arguments) and **kwargs (Keyword Arguments). \n",
    "The second one is used when we want to pass key-value pairs as input to a function. All these key value pairs will be stored in a dictionary."
   ]
  },
  {
   "cell_type": "markdown",
   "id": "f0ddeac7",
   "metadata": {},
   "source": [
    "5. What gets printed by this, and explain?"
   ]
  },
  {
   "cell_type": "raw",
   "id": "4f1a1501",
   "metadata": {},
   "source": [
    ">>> def func(a, b, c=8, d=5): print(a, b, c, d)\n",
    ">>> func(1, *(5, 6))"
   ]
  },
  {
   "cell_type": "code",
   "execution_count": 6,
   "id": "7b01bedc",
   "metadata": {},
   "outputs": [
    {
     "name": "stdout",
     "output_type": "stream",
     "text": [
      "1 5 6 5\n"
     ]
    }
   ],
   "source": [
    "def func(a, b, c=8, d=5): print(a, b, c, d)\n",
    "\n",
    "func(1, *(5, 6))"
   ]
  },
  {
   "cell_type": "markdown",
   "id": "0a334a10",
   "metadata": {},
   "source": [
    "The result of the above is code is 1 5 6 5. \n",
    "The above function expects four arguments of which two are default. The value for parameter a is provided explicitly whereas the function consider the values for arguments b and c are 5 and 6. Since the function does not get any more values it took the default value of d as 5 which is provided in function declaration since it is the last positional argument in the function."
   ]
  },
  {
   "cell_type": "markdown",
   "id": "66208878",
   "metadata": {},
   "source": [
    "6. what is the result of this, and explain?"
   ]
  },
  {
   "cell_type": "raw",
   "id": "3ec131a8",
   "metadata": {},
   "source": [
    ">>> def func(a, b, c): a = 2; b[0] = 'x'; c['a'] = 'y'\n",
    ">>> l=1; m=[1]; n={'a':0}\n",
    ">>> func(l, m, n)\n",
    ">>> l, m, n"
   ]
  },
  {
   "cell_type": "code",
   "execution_count": 7,
   "id": "e28e2e7b",
   "metadata": {},
   "outputs": [
    {
     "data": {
      "text/plain": [
       "(1, ['x'], {'a': 'y'})"
      ]
     },
     "execution_count": 7,
     "metadata": {},
     "output_type": "execute_result"
    }
   ],
   "source": [
    "def func(a, b, c): a = 2; b[0] = 'x'; c['a'] = 'y'\n",
    "\n",
    "l=1; m=[1]; n={'a':0}\n",
    "\n",
    "func(l, m, n)\n",
    "\n",
    "l, m, n"
   ]
  },
  {
   "cell_type": "markdown",
   "id": "e31bff34",
   "metadata": {},
   "source": [
    "The result of the above code is (1, ['x'], {'a': 'y'}).\n",
    "\n",
    "--> Irrespective of Python indentation, its also provides a facility to declare an entire function in one single line while a statements in a function body are sepereated by semicolon (;).\n",
    "\n",
    "--> When the input parameters provided to the fuction where a represents l variable, b represents m variable, and c represents n variable, its modifies the values of a, b, and c and replace the value of l = 1 ,m=['x'] and n={'a':'y'}."
   ]
  }
 ],
 "metadata": {
  "kernelspec": {
   "display_name": "Python 3 (ipykernel)",
   "language": "python",
   "name": "python3"
  },
  "language_info": {
   "codemirror_mode": {
    "name": "ipython",
    "version": 3
   },
   "file_extension": ".py",
   "mimetype": "text/x-python",
   "name": "python",
   "nbconvert_exporter": "python",
   "pygments_lexer": "ipython3",
   "version": "3.11.1"
  }
 },
 "nbformat": 4,
 "nbformat_minor": 5
}
