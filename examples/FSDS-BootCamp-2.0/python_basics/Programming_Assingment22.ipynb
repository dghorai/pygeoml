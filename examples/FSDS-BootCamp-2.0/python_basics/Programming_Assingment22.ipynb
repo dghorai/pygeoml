{
 "cells": [
  {
   "cell_type": "markdown",
   "id": "a4cbc88b",
   "metadata": {},
   "source": [
    "Question1\n",
    "\n",
    "Create a function that takes three parameters where:\n",
    "\n",
    "    • x is the start of the range (inclusive).\n",
    "    • y is the end of the range (inclusive).\n",
    "    • n is the divisor to be checked against.\n",
    "    \n",
    "Return an ordered list with numbers in the range that are divisible by the third parameter n. Return an empty list if there are no numbers that are divisible by n.\n",
    "\n",
    "Examples\n",
    "\n",
    "list_operation(1, 10, 3) ➞ [3, 6, 9]\n",
    "\n",
    "list_operation(7, 9, 2) ➞ [8]\n",
    "\n",
    "list_operation(15, 20, 7) ➞ []"
   ]
  },
  {
   "cell_type": "code",
   "execution_count": 1,
   "id": "2c8465b9",
   "metadata": {},
   "outputs": [
    {
     "name": "stdout",
     "output_type": "stream",
     "text": [
      "list_operation(1, 10, 3) ➞ [3, 6, 9]\n",
      "list_operation(7, 9, 2) ➞ [8]\n",
      "list_operation(15, 20, 7) ➞ []\n"
     ]
    }
   ],
   "source": [
    "def list_operation(x, y, n):\n",
    "    res = []\n",
    "    for i in range(x, y+1):\n",
    "        if i%n == 0:\n",
    "            res.append(i)\n",
    "    return res\n",
    "\n",
    "print(f'list_operation(1, 10, 3) ➞ {list_operation(1, 10, 3)}')\n",
    "print(f'list_operation(7, 9, 2) ➞ {list_operation(7, 9, 2)}')\n",
    "print(f'list_operation(15, 20, 7) ➞ {list_operation(15, 20, 7)}')"
   ]
  },
  {
   "cell_type": "markdown",
   "id": "1182f768",
   "metadata": {},
   "source": [
    "Question2\n",
    "\n",
    "Create a function that takes in two lists and returns True if the second list follows the first list by one element, and False otherwise. In other words, determine if the second list is the first list shifted to the right by 1.\n",
    "\n",
    "Examples\n",
    "\n",
    "simon_says([1, 2], [5, 1]) ➞ True\n",
    "\n",
    "simon_says([1, 2], [5, 5]) ➞ False\n",
    "\n",
    "simon_says([1, 2, 3, 4, 5], [0, 1, 2, 3, 4]) ➞ True\n",
    "\n",
    "simon_says([1, 2, 3, 4, 5], [5, 5, 1, 2, 3]) ➞ False\n",
    "\n",
    "Notes\n",
    "    • Both input lists will be of the same length, and will have a minimum length of 2.\n",
    "    • The values of the 0-indexed element in the second list and the n-1th indexed element in the first list do not matter.\n"
   ]
  },
  {
   "cell_type": "code",
   "execution_count": 2,
   "id": "504f6277",
   "metadata": {},
   "outputs": [
    {
     "name": "stdout",
     "output_type": "stream",
     "text": [
      "simon_says([1, 2], [5, 1]) ➞ True\n",
      "simon_says([1, 2], [5, 5]) ➞ False\n",
      "simon_says([1, 2, 3, 4, 5], [0, 1, 2, 3, 4]) ➞ True\n",
      "simon_says([1, 2, 3, 4, 5], [5, 5, 1, 2, 3]) ➞ False\n"
     ]
    }
   ],
   "source": [
    "def simon_says(lst1, lst2):\n",
    "    if len(lst1) == len(lst2):\n",
    "        if len(lst1) > 1:\n",
    "            if lst1[:-1] == lst2[1:]:\n",
    "                res = True\n",
    "            else:\n",
    "                res = False\n",
    "        else:\n",
    "            res = False\n",
    "    else:\n",
    "        res = False\n",
    "        \n",
    "    return res\n",
    "\n",
    "print(f'simon_says([1, 2], [5, 1]) ➞ {simon_says([1, 2], [5, 1])}')\n",
    "print(f'simon_says([1, 2], [5, 5]) ➞ {simon_says([1, 2], [5, 5])}')\n",
    "print(f'simon_says([1, 2, 3, 4, 5], [0, 1, 2, 3, 4]) ➞ {simon_says([1, 2, 3, 4, 5], [0, 1, 2, 3, 4])}')\n",
    "print(f'simon_says([1, 2, 3, 4, 5], [5, 5, 1, 2, 3]) ➞ {simon_says([1, 2, 3, 4, 5], [5, 5, 1, 2, 3])}')"
   ]
  },
  {
   "cell_type": "markdown",
   "id": "e8770f39",
   "metadata": {},
   "source": [
    "Question3\n",
    "\n",
    "A group of friends have decided to start a secret society. The name will be the first letter of each of their names, sorted in alphabetical order.\n",
    "Create a function that takes in a list of names and returns the name of the secret society.\n",
    "\n",
    "Examples\n",
    "\n",
    "society_name([\"Adam\", \"Sarah\", \"Malcolm\"]) ➞ \"AMS\"\n",
    "\n",
    "society_name([\"Harry\", \"Newt\", \"Luna\", \"Cho\"]) ➞ \"CHLN\"\n",
    "\n",
    "society_name([\"Phoebe\", \"Chandler\", \"Rachel\", \"Ross\", \"Monica\", \"Joey\"])"
   ]
  },
  {
   "cell_type": "code",
   "execution_count": 7,
   "id": "23aceee0",
   "metadata": {},
   "outputs": [
    {
     "name": "stdout",
     "output_type": "stream",
     "text": [
      "society_name([\"Adam\", \"Sarah\", \"Malcolm\"]) ➞ \"AMS\"\n",
      "society_name([\"Harry\", \"Newt\", \"Luna\", \"Cho\"]) ➞ \"CHLN\"\n",
      "society_name([\"Phoebe\", \"Chandler\", \"Rachel\", \"Ross\", \"Monica\", \"Joey\"]) ➞ \"CJMPRR\"\n"
     ]
    }
   ],
   "source": [
    "def society_name(lst):\n",
    "    return \"\".join(sorted(\"\".join(i[0] for i in lst)))\n",
    "\n",
    "print(f'society_name([\"Adam\", \"Sarah\", \"Malcolm\"]) ➞ \"{society_name([\"Adam\", \"Sarah\", \"Malcolm\"])}\"')\n",
    "print(f'society_name([\"Harry\", \"Newt\", \"Luna\", \"Cho\"]) ➞ \"{society_name([\"Harry\", \"Newt\", \"Luna\", \"Cho\"])}\"')\n",
    "print(f'society_name([\"Phoebe\", \"Chandler\", \"Rachel\", \"Ross\", \"Monica\", \"Joey\"]) ➞ \"{society_name([\"Phoebe\", \"Chandler\", \"Rachel\", \"Ross\", \"Monica\", \"Joey\"])}\"')"
   ]
  },
  {
   "cell_type": "markdown",
   "id": "1ddbe180",
   "metadata": {},
   "source": [
    "Question4\n",
    "\n",
    "An isogram is a word that has no duplicate letters. Create a function that takes a string and returns either True or False depending on whether or not it's an \"isogram\".\n",
    "\n",
    "Examples\n",
    "\n",
    "is_isogram(\"Algorism\") ➞ True\n",
    "\n",
    "is_isogram(\"PasSword\") ➞ False\n",
    "\n",
    "#### Not case sensitive.\n",
    "\n",
    "is_isogram(\"Consecutive\") ➞ False\n",
    "\n",
    "Notes\n",
    "    • Ignore letter case (should not be case sensitive).\n",
    "    • All test cases contain valid one word strings."
   ]
  },
  {
   "cell_type": "code",
   "execution_count": 8,
   "id": "f653c798",
   "metadata": {},
   "outputs": [
    {
     "name": "stdout",
     "output_type": "stream",
     "text": [
      "is_isogram(\"Algorism\") ➞ True\n",
      "is_isogram(\"PasSword\") ➞ False\n",
      "is_isogram(\"Consecutive\") ➞ False\n"
     ]
    }
   ],
   "source": [
    "def is_isogram(word):\n",
    "    res = True\n",
    "    \n",
    "    lst = []\n",
    "    for i in word.lower():\n",
    "        if i.isalpha():\n",
    "            if i in lst:\n",
    "                res = False\n",
    "            lst.append(i)\n",
    "            \n",
    "    return res\n",
    "\n",
    "print(f'is_isogram(\"Algorism\") ➞ {is_isogram(\"Algorism\")}')\n",
    "print(f'is_isogram(\"PasSword\") ➞ {is_isogram(\"PasSword\")}')\n",
    "print(f'is_isogram(\"Consecutive\") ➞ {is_isogram(\"Consecutive\")}')"
   ]
  },
  {
   "cell_type": "markdown",
   "id": "0f567fd6",
   "metadata": {},
   "source": [
    "Question5\n",
    "\n",
    "Create a function that takes a string and returns True or False, depending on whether the characters are in order or not.\n",
    "\n",
    "Examples\n",
    "\n",
    "is_in_order(\"abc\") ➞ True\n",
    "\n",
    "is_in_order(\"edabit\") ➞ False\n",
    "\n",
    "is_in_order(\"123\") ➞ True\n",
    "\n",
    "is_in_order(\"xyzz\") ➞ True\n",
    "\n",
    "Notes\n",
    "\n",
    "You don't have to handle empty strings."
   ]
  },
  {
   "cell_type": "code",
   "execution_count": 9,
   "id": "ecaf0ad6",
   "metadata": {},
   "outputs": [
    {
     "name": "stdout",
     "output_type": "stream",
     "text": [
      "is_in_order(\"abc\") ➞ True\n",
      "is_in_order(\"edabit\") ➞ False\n",
      "is_in_order(\"123\") ➞ True\n",
      "is_in_order(\"xyzz\") ➞ True\n"
     ]
    }
   ],
   "source": [
    "def is_in_order(string):\n",
    "    res = False\n",
    "    if string == \"\".join(sorted(string)):\n",
    "        res = True\n",
    "    return res\n",
    "\n",
    "print(f'is_in_order(\"abc\") ➞ {is_in_order(\"abc\")}')\n",
    "print(f'is_in_order(\"edabit\") ➞ {is_in_order(\"edabit\")}')\n",
    "print(f'is_in_order(\"123\") ➞ {is_in_order(\"123\")}')\n",
    "print(f'is_in_order(\"xyzz\") ➞ {is_in_order(\"xyzz\")}')"
   ]
  }
 ],
 "metadata": {
  "kernelspec": {
   "display_name": "Python 3 (ipykernel)",
   "language": "python",
   "name": "python3"
  },
  "language_info": {
   "codemirror_mode": {
    "name": "ipython",
    "version": 3
   },
   "file_extension": ".py",
   "mimetype": "text/x-python",
   "name": "python",
   "nbconvert_exporter": "python",
   "pygments_lexer": "ipython3",
   "version": "3.10.9"
  }
 },
 "nbformat": 4,
 "nbformat_minor": 5
}
