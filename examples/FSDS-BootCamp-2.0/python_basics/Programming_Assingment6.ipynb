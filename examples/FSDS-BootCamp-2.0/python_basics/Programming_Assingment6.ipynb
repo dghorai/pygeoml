{
 "cells": [
  {
   "cell_type": "markdown",
   "id": "27f3bf39",
   "metadata": {},
   "source": [
    "1.\tWrite a Python Program to Display Fibonacci Sequence Using Recursion?"
   ]
  },
  {
   "cell_type": "code",
   "execution_count": 13,
   "id": "8f3eaeae",
   "metadata": {},
   "outputs": [
    {
     "name": "stdout",
     "output_type": "stream",
     "text": [
      "Enter the length of the Fibonacci Series: 20\n",
      "0 1 1 2 3 5 8 13 21 34 55 89 144 233 377 610 987 1597 2584 4181\n"
     ]
    }
   ],
   "source": [
    "default_series = [0, 1]\n",
    "\n",
    "def fibonacci_sequence(n):\n",
    "    if (n <= len(default_series)) and (n > 0):\n",
    "        return default_series[n -1]\n",
    "    else:\n",
    "        fs = fibonacci_sequence(n-1) + fibonacci_sequence(n-2)\n",
    "        if n > len(default_series):\n",
    "            default_series.append(fs)\n",
    "        return fs\n",
    "\n",
    "\n",
    "num = int(input('Enter the length of the Fibonacci Series: '))\n",
    "\n",
    "fibonacci_sequence(num)\n",
    "\n",
    "print(\" \".join(str(f) for f in default_series))"
   ]
  },
  {
   "cell_type": "markdown",
   "id": "8178f061",
   "metadata": {},
   "source": [
    "2.\tWrite a Python Program to Find Factorial of Number Using Recursion?"
   ]
  },
  {
   "cell_type": "code",
   "execution_count": 17,
   "id": "324f9e58",
   "metadata": {},
   "outputs": [
    {
     "name": "stdout",
     "output_type": "stream",
     "text": [
      "Enter a number: 10\n",
      "The factorial of 10 is 3628800\n"
     ]
    }
   ],
   "source": [
    "def recursion_factorial(n):\n",
    "    if n == 1:\n",
    "        return n\n",
    "    else:\n",
    "        return n*recursion_factorial(n-1)\n",
    "\n",
    "num = int(input('Enter a number: '))\n",
    "\n",
    "if num < 0:\n",
    "    print(\"Factorial does not exist for negative numbers\")\n",
    "else:\n",
    "    print(\"The factorial of {0} is {1}\".format(num, recursion_factorial(num)))"
   ]
  },
  {
   "cell_type": "markdown",
   "id": "693a0633",
   "metadata": {},
   "source": [
    "3.\tWrite a Python Program to calculate your Body Mass Index?"
   ]
  },
  {
   "cell_type": "code",
   "execution_count": 20,
   "id": "e8464407",
   "metadata": {},
   "outputs": [
    {
     "name": "stdout",
     "output_type": "stream",
     "text": [
      "Enter your height in meters: 1.72\n",
      "Enter your weight in kg: 71\n",
      "Your Body Mass Index (BMI) is 24.0 and you are normal and healthy\n"
     ]
    }
   ],
   "source": [
    "def body_mass_index(h, w):\n",
    "    \n",
    "    def calc_bmi(height, weight):\n",
    "        return round((weight / height**2), 2)\n",
    "    \n",
    "    bmi = calc_bmi(h, w)\n",
    "    \n",
    "    if bmi <= 18.5:\n",
    "        res = \"underweight\"\n",
    "    elif 18.5 < bmi <= 24.9:\n",
    "        res = \"normal and healthy\"\n",
    "    elif 25 < bmi <= 29.29:\n",
    "        res = \"overweight\"\n",
    "    else:\n",
    "        res = \"obese\"\n",
    "    \n",
    "    print(f'Your Body Mass Index (BMI) is {bmi} and you are {res}')\n",
    "\n",
    "h = float(input(\"Enter your height in meters: \"))\n",
    "w = float(input(\"Enter your weight in kg: \"))\n",
    "body_mass_index(h, w)"
   ]
  },
  {
   "cell_type": "markdown",
   "id": "487f92b3",
   "metadata": {},
   "source": [
    "4.\tWrite a Python Program to calculate the natural logarithm of any number?"
   ]
  },
  {
   "cell_type": "code",
   "execution_count": 21,
   "id": "f3e0623c",
   "metadata": {},
   "outputs": [
    {
     "name": "stdout",
     "output_type": "stream",
     "text": [
      "Enter a number: 10\n",
      "The natural logarithm of the number is 2.302585092994046\n"
     ]
    }
   ],
   "source": [
    "import math\n",
    "\n",
    "number = int(input(\"Enter a number: \"))\n",
    "\n",
    "res = math.log(number)\n",
    "\n",
    "print(\"The natural logarithm of the number is {}\".format(res))"
   ]
  },
  {
   "cell_type": "markdown",
   "id": "043326db",
   "metadata": {},
   "source": [
    "5.\tWrite a Python Program for cube sum of first n natural numbers?"
   ]
  },
  {
   "cell_type": "code",
   "execution_count": 24,
   "id": "120c5fbe",
   "metadata": {},
   "outputs": [
    {
     "name": "stdout",
     "output_type": "stream",
     "text": [
      "Enter no. of natural numbers: 100\n",
      "The cube sum of first 100 natural numbers is 25502500.0\n"
     ]
    }
   ],
   "source": [
    "n = int(input(\"Enter no. of natural numbers: \"))\n",
    "\n",
    "res = pow(((n * (n + 1)) / 2), 2)\n",
    "\n",
    "print(\"The cube sum of first {} natural numbers is {}\".format(n, res))"
   ]
  }
 ],
 "metadata": {
  "kernelspec": {
   "display_name": "Python 3 (ipykernel)",
   "language": "python",
   "name": "python3"
  },
  "language_info": {
   "codemirror_mode": {
    "name": "ipython",
    "version": 3
   },
   "file_extension": ".py",
   "mimetype": "text/x-python",
   "name": "python",
   "nbconvert_exporter": "python",
   "pygments_lexer": "ipython3",
   "version": "3.11.1"
  }
 },
 "nbformat": 4,
 "nbformat_minor": 5
}
