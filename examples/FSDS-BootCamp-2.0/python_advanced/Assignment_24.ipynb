{
 "cells": [
  {
   "cell_type": "markdown",
   "metadata": {},
   "source": [
    "Q1. Is it permissible to use several import statements to import the same module? What would the goal be? Can you think of a situation where it would be beneficial?"
   ]
  },
  {
   "cell_type": "markdown",
   "metadata": {},
   "source": [
    "Answer:\n",
    "\n",
    "Yes, multiple import statements can be used to import one module. Multiple import statements are used when we need to import several functions from one module.\n",
    "\n",
    "from osgeo import gdal\n",
    "from scipy.ndimage import median_filter\n"
   ]
  },
  {
   "cell_type": "markdown",
   "metadata": {},
   "source": [
    "Q2. What are some of a module's characteristics? (Name at least one.)"
   ]
  },
  {
   "cell_type": "markdown",
   "metadata": {},
   "source": [
    "Answer:\n",
    "\n",
    "Below are some of the properties of a module:\n",
    "\n",
    "\\__name__: It return the name of the module\n",
    "\n",
    "\\__doc__: Documentation string line in the module code\n",
    "\n",
    "\\__file__: File name and path from which the module is loaded\n",
    "\n",
    "\\__dict__: Return a dictionary object containing the module's attributes, functions, and definitions and their values\n"
   ]
  },
  {
   "cell_type": "markdown",
   "metadata": {},
   "source": [
    "Q3. Circular importing, such as when two modules import each other, can lead to dependencies and bugs that aren't visible. How can you go about creating a program that avoids mutual importing?"
   ]
  },
  {
   "cell_type": "markdown",
   "metadata": {},
   "source": [
    "Answer:\n",
    "\n",
    "Circular import means to import the two modules inside each other. \n",
    "\n",
    "For example, if we want to import the function func1() in first module (say, mod1.py) and then import it in another module (say, mod2.py) or vice versa. This will result in the following import error:\n",
    "\n",
    "This is because func1() is imported from mod2.py. So, when we import mod2.py we are executing mod2.py. But if we import mod1.py, we are executing mod1.py. So, this will result in an endless loop. \n",
    "\n",
    "Here, in the function, we cannot directly reference the function in this program. \n",
    "\n",
    "If we want to avoid this we can use this: if \\__name__ == ‘\\__main__’ block to prevent or allow parts of code to be run when importing the modules. When the Python interpreter is reading a file, it sets the \"name\" variable as \"main\" (if the module is running) or as the name of the module if it is importing.\n"
   ]
  },
  {
   "cell_type": "markdown",
   "metadata": {},
   "source": [
    "Q4. Why is  _ _all_ _ in Python?"
   ]
  },
  {
   "cell_type": "markdown",
   "metadata": {},
   "source": [
    "Answer:\n",
    "\n",
    "This defines all the modules in the specific library and these modules can be called using import *.\n"
   ]
  },
  {
   "cell_type": "markdown",
   "metadata": {},
   "source": [
    "Q5. In what situation is it useful to refer to the _ _name_ _ attribute or the string '_ _main_ _'?"
   ]
  },
  {
   "cell_type": "markdown",
   "metadata": {},
   "source": [
    "Answer:\n",
    "\n",
    "During the execution time of the code, we use name attribute to refer to the module that we want to work on. \n",
    "\n",
    "In this case, name returns the module that we are currently working on. \n",
    "\n",
    "For example, if this module is imported from another module, then name will return the name of the module that the current module is imported from. \n",
    "\n",
    "For example, the current module in our work is referring to the string ‘_ main _’.\n"
   ]
  },
  {
   "cell_type": "markdown",
   "metadata": {},
   "source": [
    "Q6. What are some of the benefits of attaching a program counter to the RPN interpreter application, which interprets an RPN script line by line?"
   ]
  },
  {
   "cell_type": "markdown",
   "metadata": {},
   "source": [
    "Answer:\n",
    "\n",
    "RPN saves time and a lot of typing for you. You don’t need to use parentheses and you don’t have to keep track of them. It’s like learning mathematics on paper. You see intermediate results as you do your calculations, not just the result at the end.\n"
   ]
  },
  {
   "cell_type": "markdown",
   "metadata": {},
   "source": [
    "Q7. What are the minimum expressions or statements (or both) that you'd need to render a basic programming language like RPN primitive but complete— that is, capable of carrying out any computerised task theoretically possible?"
   ]
  },
  {
   "cell_type": "markdown",
   "metadata": {},
   "source": [
    "Answer:\n",
    "\n",
    "Notation, like +, -, *, and / are the fundamental types of notation that we need to perform a computerised operation, such as RPN primitive. We also need a specific data structure to store elements from a statement except operators.\n"
   ]
  }
 ],
 "metadata": {
  "language_info": {
   "name": "python"
  },
  "orig_nbformat": 4
 },
 "nbformat": 4,
 "nbformat_minor": 2
}
