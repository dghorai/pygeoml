{
 "cells": [
  {
   "cell_type": "markdown",
   "metadata": {},
   "source": [
    "1. What does one mean by the term \"machine learning\"?"
   ]
  },
  {
   "cell_type": "markdown",
   "metadata": {},
   "source": [
    "Answer:\n",
    "\n",
    "The term \"machine learning\" refers to a subset of Artificial Intelligence (AI) that comprises the development of algorithms and models that enable computers to learn and improve their performance on a specific task without being explicitly programmed for that task. The fundamental idea behind machine learning is to allow computers to recognize patterns from historical data or records and make accurate predictions or decisions based on new data, through the process of learning from examples.\n"
   ]
  },
  {
   "cell_type": "markdown",
   "metadata": {},
   "source": [
    "2.Can you think of 4 distinct types of issues where it shines?"
   ]
  },
  {
   "cell_type": "markdown",
   "metadata": {},
   "source": [
    "Answer:\n",
    "\n",
    "Machine learning shines in various problem domains, and here are four distinct types of issues where machine learning can be used:\n",
    "\n",
    "- Image Recognition: It is one of the most common application of machine learning. It is used to accurately identify and classify objects, persons, places, recognize faces, detect anomalies in medical images, and even provide descriptive captions for images.\n",
    "- Speech Recognition: Convert voice snippets to text (e.g. Siri, Cortana, and Alexa).\n",
    "- Product Recommendations: Machine learning is widely used by various e-commerce and entertainment platforms, such as Flipkart, Amazon, Netflix, etc. for product recommendation to the user.\n",
    "- Autonomous Driving: Enable cars to drive (e.g. NVIDIA and Google Car).\n"
   ]
  },
  {
   "cell_type": "markdown",
   "metadata": {},
   "source": [
    "3.What is a labeled training set, and how does it work?"
   ]
  },
  {
   "cell_type": "markdown",
   "metadata": {},
   "source": [
    "Answer:\n",
    "\n",
    "In machine learning, we divide the datasets into two sets, namely training set and test set. For supervised machine learning, training set needs target value or label of each training sample to train an algorithm. This labeled training set we used to develop a model by training an algorithm and then to test its performance we used test set to predict the response variable values that are already known.\n"
   ]
  },
  {
   "cell_type": "markdown",
   "metadata": {},
   "source": [
    "4.What are the two most important tasks that are supervised?"
   ]
  },
  {
   "cell_type": "markdown",
   "metadata": {},
   "source": [
    "Answer:\n",
    "\n",
    "The most important two tasks that fall under supervised learning are (i) regression and (ii) classification.\n"
   ]
  },
  {
   "cell_type": "markdown",
   "metadata": {},
   "source": [
    "5.Can you think of four examples of unsupervised tasks?"
   ]
  },
  {
   "cell_type": "markdown",
   "metadata": {},
   "source": [
    "Answer:\n",
    "\n",
    "Unsupervised learning is a type of machine learning where the algorithm is given unlabeled data and tasked with finding patterns, structures, or representations within the data without any explicit guidance on the output. Here are four examples of unsupervised learning tasks: (i) clustering, (ii) dimensionality reduction, (iii) anomaly detection, and (iv) association rule mining.\n"
   ]
  },
  {
   "cell_type": "markdown",
   "metadata": {},
   "source": [
    "6.State the machine learning model that would be best to make a robot walk through various unfamiliar terrains?"
   ]
  },
  {
   "cell_type": "markdown",
   "metadata": {},
   "source": [
    "Answer:\n",
    "\n",
    "For making a robot walk through various unfamiliar terrains, a type of machine learning model that is well-suited for this task is a Reinforcement Learning (RL) model, where the robot can learn from response of the terrain to optimize itself.\n"
   ]
  },
  {
   "cell_type": "markdown",
   "metadata": {},
   "source": [
    "7.Which algorithm will you use to divide your customers into different groups?"
   ]
  },
  {
   "cell_type": "markdown",
   "metadata": {},
   "source": [
    "Answer:\n",
    "\n",
    "To divide customers into different groups, one common and effective algorithm used is K-Means clustering if label information is not provided.\n"
   ]
  },
  {
   "cell_type": "markdown",
   "metadata": {},
   "source": [
    "8.Will you consider the problem of spam detection to be a supervised or unsupervised learning problem?"
   ]
  },
  {
   "cell_type": "markdown",
   "metadata": {},
   "source": [
    "Answer:\n",
    "\n",
    "The problem of spam detection is typically considered a supervised learning problem as the labels are known (spam or no-spam).\n"
   ]
  },
  {
   "cell_type": "markdown",
   "metadata": {},
   "source": [
    "9.What is the concept of an online learning system?"
   ]
  },
  {
   "cell_type": "markdown",
   "metadata": {},
   "source": [
    "Answer:\n",
    "\n",
    "The concept of an online learning system, also known as incremental learning or online machine learning, revolves around training a machine learning model in real-time or on-the-fly as new data becomes available. In this process, machine learns continuously as data is given in small streams continuously.\n"
   ]
  },
  {
   "cell_type": "markdown",
   "metadata": {},
   "source": [
    "10.What is out-of-core learning, and how does it differ from core learning?"
   ]
  },
  {
   "cell_type": "markdown",
   "metadata": {},
   "source": [
    "Answer:\n",
    "\n",
    "Out-of-core learning, also known as \"online learning with large datasets\" or \"streaming learning,\" is an approach or system that can handle data that cannot fit into our computer’s memory (RAM). In such cases, the data is processed in smaller chunks or batches, and the model is updated incrementally as new data becomes available. Out-of-core learning is particularly useful when dealing with big data scenarios.\n"
   ]
  },
  {
   "cell_type": "markdown",
   "metadata": {},
   "source": [
    "11.What kind of learning algorithm makes predictions using a similarity measure?"
   ]
  },
  {
   "cell_type": "markdown",
   "metadata": {},
   "source": [
    "Answer:\n",
    "\n",
    "The kind of learning algorithm that makes predictions using a similarity measure is called Instance-Based Learning or Lazy Learning.\n"
   ]
  },
  {
   "cell_type": "markdown",
   "metadata": {},
   "source": [
    "12.What's the difference between a model parameter and a hyperparameter in a learning algorithm?"
   ]
  },
  {
   "cell_type": "markdown",
   "metadata": {},
   "source": [
    "<pre>\n",
    "Answer:\n",
    "In a learning algorithm, the terms \"model parameter\" and \"hyperparameter\" refer to different types of variables that play distinct roles in the training and behavior of the model.\n",
    "-> Model parameter determines how a model will predict given a new instance. Model usually has more than one parameter (e.g. slope of a linear model).\n",
    "-> Hyperparameter is a parameter for the learning algorithm, not of a model (e.g. no. of trees/n_estimators, max_depth, etc. are hyperparameter in Random Forest algorithm).\n",
    "\n",
    "</pre>"
   ]
  },
  {
   "cell_type": "markdown",
   "metadata": {},
   "source": [
    "13.What are the criteria that model-based learning algorithms look for? What is the most popular method they use to achieve success? What method do they use to make predictions?"
   ]
  },
  {
   "cell_type": "markdown",
   "metadata": {},
   "source": [
    "<pre>\n",
    "Answer:\n",
    "-> Model based learning algorithm search for the optimal value of parameters in a model that will give the best results for the new instances.\n",
    "-> The cost function is the most popular method to determine what the parameter value of the model has to be in order to minimize this function. \n",
    "-> The model makes prediction by using the value of the new instance and the parameters in its function.\n",
    "</pre>"
   ]
  },
  {
   "cell_type": "markdown",
   "metadata": {},
   "source": [
    "14.Can you name four of the most important Machine Learning challenges?"
   ]
  },
  {
   "cell_type": "markdown",
   "metadata": {},
   "source": [
    "Answer:\n",
    "\n",
    "Following are the four most important ML challenges:\n",
    "1)\tAbsence of good quality data (poor quality of data)\n",
    "2)\tOverfitting of training data (algorithm is trained with noisy and biased data, massive amount of data, imbalance data, complex architecture, etc.)\n",
    "3)\tUnderfitting of training data (unable to establish an accurate relationship between input and output variables)\n",
    "4)\tLack of training data (less amount training data will produce inaccurate or too biased predictions)\n"
   ]
  },
  {
   "cell_type": "markdown",
   "metadata": {},
   "source": [
    "15.What happens if the model performs well on the training data but fails to generalize the results to new situations? Can you think of three different options?"
   ]
  },
  {
   "cell_type": "markdown",
   "metadata": {},
   "source": [
    "Answer:\n",
    "\n",
    "It is the situation of overfitting when a model performs well on the training data but fails to generalize the results to new instances. This issue can be handled through the following three different options:\n",
    "\n",
    "1)\tAnalyzing the data with the utmost level of perfection\n",
    "2)\tRemove outliers in the training set and use data augmentation technique if needed\n",
    "3)\tSelect or implement a simpler model with lesser features\n"
   ]
  },
  {
   "cell_type": "markdown",
   "metadata": {},
   "source": [
    "16.What exactly is a test set, and why would you need one?"
   ]
  },
  {
   "cell_type": "markdown",
   "metadata": {},
   "source": [
    "Answer:\n",
    "\n",
    "Test set is a set of data separated from train-test split for test the machine learning model’s performances while it is being completely unseen during model training with train set data. Test set is necessary to determine how good or bad a model can perform.\n"
   ]
  },
  {
   "cell_type": "markdown",
   "metadata": {},
   "source": [
    "17.What is a validation set's purpose?"
   ]
  },
  {
   "cell_type": "markdown",
   "metadata": {},
   "source": [
    "Answer:\n",
    "\n",
    "The purpose of validation set is to fine-tune the hyperparameters of the model and is considered a part of the training of the model while the model only sees this data for evaluation but does not learn from this data.\n"
   ]
  },
  {
   "cell_type": "markdown",
   "metadata": {},
   "source": [
    "18.What precisely is the train-dev kit, when will you need it, how do you put it to use?"
   ]
  },
  {
   "cell_type": "markdown",
   "metadata": {},
   "source": [
    "Answer:\n",
    "\n",
    "Cross-validation is a tool to compare models without needing a separate validation set. It is preferred over validation set as it can save from breaking of part of the training set to create a validation set, as having more data is valuable regardless. \n"
   ]
  },
  {
   "cell_type": "markdown",
   "metadata": {},
   "source": [
    "19.What could go wrong if you use the test set to tune hyperparameters?"
   ]
  },
  {
   "cell_type": "markdown",
   "metadata": {},
   "source": [
    "Answer:\n",
    "\n",
    "When we tune hyperparameters using the test set, it may not perform well on the out-of-sample data because the model is tuned just for that specific set. Out model will not be generalizable to new examples.\n"
   ]
  }
 ],
 "metadata": {
  "language_info": {
   "name": "python"
  }
 },
 "nbformat": 4,
 "nbformat_minor": 2
}
