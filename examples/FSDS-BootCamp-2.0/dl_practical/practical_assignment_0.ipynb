{
 "cells": [
  {
   "cell_type": "markdown",
   "metadata": {},
   "source": [
    "### Objective: - Predict Next Sequence\n",
    "\n",
    "To start with deep learning, the very basic project that you can build is to predict the next digit in a sequence. \n",
    "\n",
    "`Dataset`: - Create a sequence like a list of odd numbers and then build a model and train it to predict the next digit in the sequence. \n",
    "\n",
    "`Task`: - A simple neural network with 2 layers would be sufficient to build the model.\n",
    "\n",
    "Assignment Submission: - Only submit the Google Colab/Github link.(Make the Link Public).\n"
   ]
  },
  {
   "cell_type": "code",
   "execution_count": 7,
   "metadata": {},
   "outputs": [],
   "source": [
    "# import modules\n",
    "import numpy as np\n",
    "\n",
    "from keras.models import Model\n",
    "from keras.layers import Input, Dense\n"
   ]
  },
  {
   "cell_type": "code",
   "execution_count": 3,
   "metadata": {},
   "outputs": [
    {
     "data": {
      "text/plain": [
       "array([ 1,  3,  5,  7,  9, 11, 13, 15, 17, 19])"
      ]
     },
     "execution_count": 3,
     "metadata": {},
     "output_type": "execute_result"
    }
   ],
   "source": [
    "# Create a sequence of odd numbers\n",
    "odd_number_list = np.array([1, 3, 5, 7, 9, 11, 13, 15, 17, 19])\n",
    "odd_number_list"
   ]
  },
  {
   "cell_type": "code",
   "execution_count": 4,
   "metadata": {},
   "outputs": [
    {
     "name": "stdout",
     "output_type": "stream",
     "text": [
      "[ 1  3  5  7  9 11 13 15 17]\n",
      "[ 3  5  7  9 11 13 15 17 19]\n"
     ]
    }
   ],
   "source": [
    "# Split the data into input (X) and output (y) variables\n",
    "X = odd_number_list[:-1]\n",
    "y = odd_number_list[1:]\n",
    "print(X)\n",
    "print(y)"
   ]
  },
  {
   "cell_type": "code",
   "execution_count": 8,
   "metadata": {},
   "outputs": [],
   "source": [
    "# Define the model using functional api (keras)\n",
    "inputs = Input(shape=(1,))  # input tensor\n",
    "hidden1 = Dense(units=2)(inputs)  # hidden layer 1\n",
    "hidden2 = Dense(units=2)(hidden1)  # hidden layer 2\n",
    "outputs = Dense(units=1)(hidden2)  # output layer\n",
    "\n",
    "# Define the model's start and end points\n",
    "model = Model(inputs, outputs)\n",
    "\n",
    "# Compile model\n",
    "model.compile(loss='mean_squared_error', optimizer='adam')"
   ]
  },
  {
   "cell_type": "code",
   "execution_count": 9,
   "metadata": {},
   "outputs": [
    {
     "data": {
      "text/plain": [
       "<keras.callbacks.History at 0x1d14e6fb550>"
      ]
     },
     "execution_count": 9,
     "metadata": {},
     "output_type": "execute_result"
    }
   ],
   "source": [
    "# Fit the model to the data\n",
    "model.fit(X, y, epochs=1000, verbose=0)"
   ]
  },
  {
   "cell_type": "code",
   "execution_count": 10,
   "metadata": {},
   "outputs": [
    {
     "name": "stdout",
     "output_type": "stream",
     "text": [
      "1/1 [==============================] - 0s 112ms/step\n",
      "Predicted: 25\n"
     ]
    }
   ],
   "source": [
    "# Make a prediction for the next digit in the sequence\n",
    "new_odd_num = np.array([23])\n",
    "x_test = new_odd_num.reshape((1, 1))\n",
    "\n",
    "y_pred = model.predict(x_test)\n",
    "\n",
    "print('Predicted:', int(y_pred[0][0]))"
   ]
  }
 ],
 "metadata": {
  "kernelspec": {
   "display_name": "Python 3",
   "language": "python",
   "name": "python3"
  },
  "language_info": {
   "codemirror_mode": {
    "name": "ipython",
    "version": 3
   },
   "file_extension": ".py",
   "mimetype": "text/x-python",
   "name": "python",
   "nbconvert_exporter": "python",
   "pygments_lexer": "ipython3",
   "version": "3.10.10"
  },
  "orig_nbformat": 4
 },
 "nbformat": 4,
 "nbformat_minor": 2
}
