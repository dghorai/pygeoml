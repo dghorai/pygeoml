{
 "cells": [
  {
   "cell_type": "markdown",
   "metadata": {},
   "source": [
    "## Object Detection with Sliding Window Approach\n",
    "\n",
    "- https://dontrepeatyourself.org/post/how-to-use-sliding-windows-for-object-detection-with-opencv-and-python/#google_vignette\n",
    "- https://medium.com/jun94-devpblog/cv-9-object-detection-with-sliding-window-and-feature-extraction-hog-cf1820c86b46\n",
    "\n",
    "\n",
    "Approach:\n",
    "- sliding window\n",
    "- feature extraction (Pixel-based representations, Color-based representations, Gradient-based representations, Histograms of Oriented Gradients (HoG))\n",
    "- object classifier\n"
   ]
  },
  {
   "cell_type": "code",
   "execution_count": null,
   "metadata": {},
   "outputs": [],
   "source": [
    "import cv2\n",
    "\n",
    "\n",
    "def sliding_window(image, step_size, window_size):\n",
    "    # get the window and image sizes\n",
    "    h, w = window_size\n",
    "    image_h, image_w = image.shape[:2]\n",
    "\n",
    "    # loop over the image, taking steps of size `step_size`\n",
    "    for y in range(0, image_h, step_size):\n",
    "        for x in range(0, image_w, step_size):\n",
    "            # define the window\n",
    "            window = image[y:y + h, x:x + w]\n",
    "            # if the window is below the minimum window size, ignore it\n",
    "            if window.shape[:2] != window_size:\n",
    "                continue\n",
    "            # yield the current window\n",
    "            yield (x, y, window)"
   ]
  },
  {
   "cell_type": "code",
   "execution_count": null,
   "metadata": {},
   "outputs": [],
   "source": [
    "# import the necessary packages\n",
    "import imutils\n",
    "\n",
    "def pyramid(image, scale=1.5, minSize=(30, 30)):\n",
    "\t# yield the original image\n",
    "\tyield image\n",
    "\t# keep looping over the pyramid\n",
    "\twhile True:\n",
    "\t\t# compute the new dimensions of the image and resize it\n",
    "\t\tw = int(image.shape[1] / scale)\n",
    "\t\timage = imutils.resize(image, width=w)\n",
    "\t\t# if the resized image does not meet the supplied minimum\n",
    "\t\t# size, then stop constructing the pyramid\n",
    "\t\tif image.shape[0] < minSize[1] or image.shape[1] < minSize[0]:\n",
    "\t\t\tbreak\n",
    "\t\t# yield the next image in the pyramid\n",
    "\t\tyield image"
   ]
  },
  {
   "cell_type": "code",
   "execution_count": null,
   "metadata": {},
   "outputs": [],
   "source": [
    "import argparse\n",
    "import time\n",
    "\n",
    "# construct the argument parser and parse the arguments\n",
    "ap = argparse.ArgumentParser()\n",
    "ap.add_argument(\"-i\", \"--image\", required=True, help=\"Path to the image\")\n",
    "args = vars(ap.parse_args())\n",
    "\n",
    "# load the image and define the window width and height\n",
    "image = cv2.imread(args[\"image\"])\n",
    "w, h = (128, 128)\n",
    "\n",
    "\n",
    "# loop over the image pyramid\n",
    "for resized in pyramid(image, scale=1.5):\n",
    "    for (x, y, window) in sliding_window(image, step_size=40, window_size=(w, h)):\n",
    "\n",
    "        # in our case we are just going to display the window, but for a complete\n",
    "        # object detection algorithm, this is where you would classify the window\n",
    "        # using a pre-trained machine learning classifier (e.g., SVM, logistic regression, etc.)\n",
    "\n",
    "        clone = resized.copy()\n",
    "        cv2.rectangle(clone, (x, y), (x + w, y + h), (0, 255, 0), 2)\n",
    "        cv2.imshow(\"Window\", clone)\n",
    "        cv2.waitKey(1)\n",
    "        time.sleep(0.025)"
   ]
  }
 ],
 "metadata": {
  "language_info": {
   "name": "python"
  }
 },
 "nbformat": 4,
 "nbformat_minor": 2
}
