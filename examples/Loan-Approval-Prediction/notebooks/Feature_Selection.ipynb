{
 "cells": [
  {
   "cell_type": "code",
   "execution_count": 1,
   "metadata": {},
   "outputs": [
    {
     "data": {
      "text/plain": [
       "'d:\\\\work\\\\loan-approval-prediction'"
      ]
     },
     "execution_count": 1,
     "metadata": {},
     "output_type": "execute_result"
    }
   ],
   "source": [
    "import os\n",
    "\n",
    "os.chdir('../.')\n",
    "\n",
    "%pwd"
   ]
  },
  {
   "cell_type": "code",
   "execution_count": 2,
   "metadata": {},
   "outputs": [],
   "source": [
    "import pandas as pd\n",
    "\n",
    "from sklearn.linear_model import Lasso\n",
    "from sklearn.feature_selection import SelectFromModel\n",
    "from mlxtend.feature_selection import ExhaustiveFeatureSelector\n",
    "from sklearn.ensemble import RandomForestClassifier\n",
    "\n",
    "\n",
    "def input_feature_selection(X, y, cols):\n",
    "    \"\"\"feature selection with different methods\"\"\"\n",
    "    # Method-1: Exhaustive Feature Selector\n",
    "    efs = ExhaustiveFeatureSelector(RandomForestClassifier(), min_features=4, max_features=8, scoring='roc_auc', cv=2)\n",
    "    efs = efs.fit(X, y)\n",
    "    selected_features = X.columns[list(efs.best_idx_)]\n",
    "    # print(selected_features)\n",
    "    # print(efs.best_score_)\n",
    "    selected_feat1 = [cols[i] for i in list(selected_features)]\n",
    "    \n",
    "    # Method-2: RandomForest importance\n",
    "    model = RandomForestClassifier(n_estimators=340)\n",
    "    model.fit(X, y)\n",
    "    importance = model.feature_importances_\n",
    "    final_df = pd.DataFrame({\"Feature\":pd.DataFrame(X).columns, \"Importances\":importance})\n",
    "    final_df.set_index('Importances')\n",
    "    final_df = final_df.sort_values('Importances')\n",
    "    # final_df.plot.bar(color='teal')\n",
    "    th_features = final_df['Feature'][final_df['Importances'] > 0.04].values\n",
    "    selected_feat2 = [cols[i] for i in th_features]\n",
    "    \n",
    "    # Method-3: Lasso\n",
    "    feature_sel_model = SelectFromModel(Lasso(alpha=0.005, random_state=0)) # remember to set the seed, the random state in this function\n",
    "    feature_sel_model.fit(X, y)\n",
    "    feature_sel_model.get_support()\n",
    "    # this is how we can make a list of the selected features\n",
    "    lasso_feature = list(X.columns[(feature_sel_model.get_support())])\n",
    "    selected_feat3 = [cols[i] for i in lasso_feature]\n",
    "    \n",
    "    # total feature\n",
    "    total_feature = selected_feat1 + selected_feat2 + selected_feat3\n",
    "    total_feature_unique = list(set(total_feature))\n",
    "    final_features = [feat for feat in cols if feat in total_feature_unique]\n",
    "    return final_features\n"
   ]
  },
  {
   "cell_type": "code",
   "execution_count": 3,
   "metadata": {},
   "outputs": [
    {
     "name": "stderr",
     "output_type": "stream",
     "text": [
      "d:\\work\\loan-approval-prediction\\src\\utils.py:119: SettingWithCopyWarning: \n",
      "A value is trying to be set on a copy of a slice from a DataFrame\n",
      "\n",
      "See the caveats in the documentation: https://pandas.pydata.org/pandas-docs/stable/user_guide/indexing.html#returning-a-view-versus-a-copy\n",
      "  X.interpolate(method='linear', limit_direction='backward', inplace=True)\n",
      "d:\\work\\loan-approval-prediction\\src\\utils.py:121: SettingWithCopyWarning: \n",
      "A value is trying to be set on a copy of a slice from a DataFrame\n",
      "\n",
      "See the caveats in the documentation: https://pandas.pydata.org/pandas-docs/stable/user_guide/indexing.html#returning-a-view-versus-a-copy\n",
      "  X.interpolate(method='linear', limit_direction='forward', inplace=True)\n"
     ]
    }
   ],
   "source": [
    "from src.utils import input_dataframe, feature_engineering\n",
    "\n",
    "# read data\n",
    "in_file = \"notebooks/data/input_training_data.csv\"\n",
    "\n",
    "df = input_dataframe(in_file)\n",
    "\n",
    "# FEATURE ENGINEERING\n",
    "#=====================================\n",
    "\n",
    "cols = df.columns.tolist()[1:]\n",
    "feateng = feature_engineering(df, colslist=cols, return_type='XY')\n",
    "X = feateng['X']\n",
    "y = feateng['y']"
   ]
  },
  {
   "cell_type": "code",
   "execution_count": 5,
   "metadata": {},
   "outputs": [
    {
     "name": "stderr",
     "output_type": "stream",
     "text": [
      "Features: 1749/1749"
     ]
    }
   ],
   "source": [
    "final_features = input_feature_selection(X, y, cols)"
   ]
  },
  {
   "cell_type": "code",
   "execution_count": 6,
   "metadata": {},
   "outputs": [
    {
     "data": {
      "text/plain": [
       "['Married',\n",
       " 'Dependents',\n",
       " 'Education',\n",
       " 'Self_Employed',\n",
       " 'ApplicantIncome',\n",
       " 'CoapplicantIncome',\n",
       " 'LoanAmount',\n",
       " 'Loan_Amount_Term',\n",
       " 'Credit_History',\n",
       " 'Property_Area']"
      ]
     },
     "execution_count": 6,
     "metadata": {},
     "output_type": "execute_result"
    }
   ],
   "source": [
    "final_features"
   ]
  }
 ],
 "metadata": {
  "kernelspec": {
   "display_name": "venv",
   "language": "python",
   "name": "python3"
  },
  "language_info": {
   "codemirror_mode": {
    "name": "ipython",
    "version": 3
   },
   "file_extension": ".py",
   "mimetype": "text/x-python",
   "name": "python",
   "nbconvert_exporter": "python",
   "pygments_lexer": "ipython3",
   "version": "3.11.1"
  }
 },
 "nbformat": 4,
 "nbformat_minor": 2
}
